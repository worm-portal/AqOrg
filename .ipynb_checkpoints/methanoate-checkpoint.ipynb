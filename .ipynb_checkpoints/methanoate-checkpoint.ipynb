{
 "cells": [
  {
   "cell_type": "code",
   "execution_count": 1,
   "id": "5ac1530a-f98f-44cd-9e7d-1ba941b1cc3f",
   "metadata": {},
   "outputs": [],
   "source": [
    "from AqOrg import Estimate"
   ]
  },
  {
   "cell_type": "code",
   "execution_count": 2,
   "id": "65f2a013-fc56-4381-9ba1-3c7326341a13",
   "metadata": {},
   "outputs": [
    {
     "data": {
      "image/svg+xml": [
       "<svg xmlns=\"http://www.w3.org/2000/svg\" xmlns:rdkit=\"http://www.rdkit.org/xml\" xmlns:xlink=\"http://www.w3.org/1999/xlink\" version=\"1.1\" baseProfile=\"full\" xml:space=\"preserve\" width=\"450px\" height=\"150px\" viewBox=\"0 0 450 150\">\n",
       "<!-- END OF HEADER -->\n",
       "<rect style=\"opacity:1.0;fill:#FFFFFF;stroke:none\" width=\"450.0\" height=\"150.0\" x=\"0.0\" y=\"0.0\"> </rect>\n",
       "<path class=\"bond-0 atom-0 atom-1\" d=\"M 25.6,95.6 L 84.7,70.5\" style=\"fill:none;fill-rule:evenodd;stroke:#000000;stroke-width:2.0px;stroke-linecap:butt;stroke-linejoin:miter;stroke-opacity:1\"/>\n",
       "<path class=\"bond-0 atom-0 atom-1\" d=\"M 84.7,70.5 L 143.7,45.3\" style=\"fill:none;fill-rule:evenodd;stroke:#FF0000;stroke-width:2.0px;stroke-linecap:butt;stroke-linejoin:miter;stroke-opacity:1\"/>\n",
       "<path class=\"bond-1 atom-1 atom-2\" d=\"M 179.5,51.2 L 229.6,88.9\" style=\"fill:none;fill-rule:evenodd;stroke:#FF0000;stroke-width:2.0px;stroke-linecap:butt;stroke-linejoin:miter;stroke-opacity:1\"/>\n",
       "<path class=\"bond-1 atom-1 atom-2\" d=\"M 229.6,88.9 L 279.7,126.6\" style=\"fill:none;fill-rule:evenodd;stroke:#000000;stroke-width:2.0px;stroke-linecap:butt;stroke-linejoin:miter;stroke-opacity:1\"/>\n",
       "<path class=\"bond-2 atom-2 atom-3\" d=\"M 279.7,126.6 L 338.8,101.4\" style=\"fill:none;fill-rule:evenodd;stroke:#000000;stroke-width:2.0px;stroke-linecap:butt;stroke-linejoin:miter;stroke-opacity:1\"/>\n",
       "<path class=\"bond-2 atom-2 atom-3\" d=\"M 338.8,101.4 L 397.9,76.3\" style=\"fill:none;fill-rule:evenodd;stroke:#FF0000;stroke-width:2.0px;stroke-linecap:butt;stroke-linejoin:miter;stroke-opacity:1\"/>\n",
       "<path class=\"bond-2 atom-2 atom-3\" d=\"M 282.8,101.2 L 330.1,81.0\" style=\"fill:none;fill-rule:evenodd;stroke:#000000;stroke-width:2.0px;stroke-linecap:butt;stroke-linejoin:miter;stroke-opacity:1\"/>\n",
       "<path class=\"bond-2 atom-2 atom-3\" d=\"M 330.1,81.0 L 389.2,55.9\" style=\"fill:none;fill-rule:evenodd;stroke:#FF0000;stroke-width:2.0px;stroke-linecap:butt;stroke-linejoin:miter;stroke-opacity:1\"/>\n",
       "<path d=\"M 277.2,124.7 L 279.7,126.6 L 282.7,125.3\" style=\"fill:none;stroke:#000000;stroke-width:2.0px;stroke-linecap:butt;stroke-linejoin:miter;stroke-opacity:1;\"/>\n",
       "<path class=\"atom-1\" d=\"M 148.6 37.8 Q 148.6 31.0, 152.0 27.2 Q 155.3 23.4, 161.6 23.4 Q 167.9 23.4, 171.2 27.2 Q 174.6 31.0, 174.6 37.8 Q 174.6 44.7, 171.2 48.6 Q 167.8 52.5, 161.6 52.5 Q 155.4 52.5, 152.0 48.6 Q 148.6 44.7, 148.6 37.8 M 161.6 49.3 Q 165.9 49.3, 168.2 46.4 Q 170.6 43.5, 170.6 37.8 Q 170.6 32.3, 168.2 29.5 Q 165.9 26.6, 161.6 26.6 Q 157.3 26.6, 154.9 29.4 Q 152.6 32.2, 152.6 37.8 Q 152.6 43.5, 154.9 46.4 Q 157.3 49.3, 161.6 49.3 \" fill=\"#FF0000\"/>\n",
       "<path class=\"atom-3\" d=\"M 398.4 58.6 Q 398.4 51.8, 401.8 48.0 Q 405.1 44.2, 411.4 44.2 Q 417.7 44.2, 421.0 48.0 Q 424.4 51.8, 424.4 58.6 Q 424.4 65.5, 421.0 69.4 Q 417.6 73.3, 411.4 73.3 Q 405.2 73.3, 401.8 69.4 Q 398.4 65.5, 398.4 58.6 M 411.4 70.1 Q 415.7 70.1, 418.0 67.2 Q 420.4 64.3, 420.4 58.6 Q 420.4 53.0, 418.0 50.2 Q 415.7 47.4, 411.4 47.4 Q 407.1 47.4, 404.7 50.2 Q 402.4 53.0, 402.4 58.6 Q 402.4 64.3, 404.7 67.2 Q 407.1 70.1, 411.4 70.1 \" fill=\"#FF0000\"/>\n",
       "</svg>"
      ],
      "text/plain": [
       "<IPython.core.display.SVG object>"
      ]
     },
     "metadata": {},
     "output_type": "display_data"
    }
   ],
   "source": [
    "estimated_properties = Estimate('methyl methanoate',\n",
    "                                Gig=9000, # Ideal gas Gibbs free energy of formation, kJ/mol.\n",
    "                                Hig=9000, # Ideal gas enthalpy of formation, kJ/mol.\n",
    "                                Sig=9, # Ideal gas entropy, J/mol/K.\n",
    "                                Cpig=9, # Ideal gas isobaric heat capacity, J/mol/K.\n",
    "                               ).OBIGT"
   ]
  },
  {
   "cell_type": "code",
   "execution_count": 3,
   "id": "96b0088d-debe-4f45-9fd6-d1234747eaec",
   "metadata": {},
   "outputs": [
    {
     "data": {
      "text/plain": [
       "\u001b[0;31mInit signature:\u001b[0m\n",
       "\u001b[0mEstimate\u001b[0m\u001b[0;34m(\u001b[0m\u001b[0;34m\u001b[0m\n",
       "\u001b[0;34m\u001b[0m    \u001b[0mname\u001b[0m\u001b[0;34m,\u001b[0m\u001b[0;34m\u001b[0m\n",
       "\u001b[0;34m\u001b[0m    \u001b[0mig_method\u001b[0m\u001b[0;34m=\u001b[0m\u001b[0;34m'Joback'\u001b[0m\u001b[0;34m,\u001b[0m\u001b[0;34m\u001b[0m\n",
       "\u001b[0;34m\u001b[0m    \u001b[0mshow\u001b[0m\u001b[0;34m=\u001b[0m\u001b[0;32mTrue\u001b[0m\u001b[0;34m,\u001b[0m\u001b[0;34m\u001b[0m\n",
       "\u001b[0;34m\u001b[0m    \u001b[0mgroup_data\u001b[0m\u001b[0;34m=\u001b[0m\u001b[0;32mNone\u001b[0m\u001b[0;34m,\u001b[0m\u001b[0;34m\u001b[0m\n",
       "\u001b[0;34m\u001b[0m    \u001b[0mtest\u001b[0m\u001b[0;34m=\u001b[0m\u001b[0;32mFalse\u001b[0m\u001b[0;34m,\u001b[0m\u001b[0;34m\u001b[0m\n",
       "\u001b[0;34m\u001b[0m    \u001b[0mstate\u001b[0m\u001b[0;34m=\u001b[0m\u001b[0;34m'aq'\u001b[0m\u001b[0;34m,\u001b[0m\u001b[0;34m\u001b[0m\n",
       "\u001b[0;34m\u001b[0m    \u001b[0msave\u001b[0m\u001b[0;34m=\u001b[0m\u001b[0;32mFalse\u001b[0m\u001b[0;34m,\u001b[0m\u001b[0;34m\u001b[0m\n",
       "\u001b[0;34m\u001b[0m    \u001b[0;34m**\u001b[0m\u001b[0mkwargs\u001b[0m\u001b[0;34m,\u001b[0m\u001b[0;34m\u001b[0m\n",
       "\u001b[0;34m\u001b[0m\u001b[0;34m)\u001b[0m\u001b[0;34m\u001b[0m\u001b[0;34m\u001b[0m\u001b[0m\n",
       "\u001b[0;31mDocstring:\u001b[0m     \n",
       "Estimate thermodynamic properties of an aqueous organic molecule.\n",
       "\n",
       "Parameters\n",
       "----------\n",
       "name : str\n",
       "    Name of the aqueous organic molecule that will have its thermodynamic\n",
       "    properties estimated.\n",
       "\n",
       "ig_method : str, default \"Joback\"\n",
       "    Group contribution method for estimating ideal gas properties. Accepts\n",
       "    \"Joback\" or \"Benson\".\n",
       "                   \n",
       "show : bool, default True\n",
       "    Show a diagram of the molecule?\n",
       "\n",
       "group_data : str, optional\n",
       "    Name of a CSV containing custom group contribution data.\n",
       "\n",
       "test : bool, default False\n",
       "    Perform a simple group matching test instead of estimating properties?\n",
       "\n",
       "state : str, default \"aq\"\n",
       "    Can be \"aq\" or \"gas\". Estimate the properties of an aqueous molecule or\n",
       "    an ideal gas?\n",
       "\n",
       "save : bool, default False\n",
       "    Save molecular structure figures as PNG and SVG?\n",
       "\n",
       "**kwargs : numeric or str, optional\n",
       "    Known standard state partial molal thermodynamic properties at 298.15 K\n",
       "    and 1 bar. These will not be estimated, but instead will be used to\n",
       "    estimate other properties and parameters. Valid **kwargs include:\n",
       "    \n",
       "    - Gh : Gibbs free energy change of hydration, kJ/mol.\n",
       "    - Hh : Enthalpy change of hydration, kJ/mol.\n",
       "    - Sh : Entropy change of hydration, J/mol/K.\n",
       "    - Cph : Heat capacity change of hydration, J/mol/K.\n",
       "    - V : Volume change of hydration, cm3/mol.\n",
       "    - Gh_err : Error associated with Gh (default 0 kJ/mol).\n",
       "    - Hh_err : Error associated with Hh (default 0 kJ/mol).\n",
       "    - Sh_err : Error associated with Sh (default 0 J/mol/K).\n",
       "    - Cph_err : Error associated with Cph (default 0 J/mol/K).\n",
       "    - V_err : error associated with V (default 0 cm3/mol).\n",
       "    - Gig : Ideal gas Gibbs free energy of formation, kJ/mol.\n",
       "    - Hig : Ideal gas enthalpy of formation, kJ/mol.\n",
       "    - Sig : Ideal gas entropy, J/mol/K.\n",
       "    - Cpig : Ideal gas isobaric heat capacity, J/mol/K.\n",
       "    - Gaq : Aqueous Gibbs free energy of formation, kJ/mol.\n",
       "    - Haq : Aqueous enthalpy of formation, kJ/mol.\n",
       "    - Saq : Aqueous entropy, J/mol/K.\n",
       "    - Cpaq : Aqueous isobaric heat capacity, J/mol/K.\n",
       "\n",
       "Attributes\n",
       "----------\n",
       "pcp_compound : pcp.get_compounds()\n",
       "    PubChemPy compound object.\n",
       "    \n",
       "smiles : str\n",
       "    Canonical SMILES string.\n",
       "    \n",
       "formula : str\n",
       "    Molecular formula.\n",
       "    \n",
       "formula_dict : dict\n",
       "    Dictionary of element abundance in the molecular formula.\n",
       "    \n",
       "element_data : pd.DataFrame()\n",
       "    Table of element data adapted from Jeff Dick's CHNOSZ package for R.\n",
       "    \n",
       "Selements : numeric\n",
       "    Sum of the contributions of the entropies of the elements according to\n",
       "    Cox, J. D., Wagman, D. D., & Medvedev, V. A. (1989). CODATA key values\n",
       "    for thermodynamics. Chem/Mats-Sci/E.\n",
       "    \n",
       "note : str\n",
       "    Notes and warnings associated with the estimation.\n",
       "    \n",
       "charge : numeric\n",
       "    The charge of the molecule.\n",
       "    \n",
       "OBIGT : pd.DataFrame()\n",
       "    Table of estimated thermodynamic properties and parameters. The format\n",
       "    is styled after Jeff Dick's OBIGT thermodynamic table in the CHNOSZ\n",
       "    package (see https://chnosz.net/manual/thermo.html).\n",
       "\u001b[0;31mFile:\u001b[0m           /var/lib/private/gmboyer/AqOrg-dev/AqOrg/AqOrg.py\n",
       "\u001b[0;31mType:\u001b[0m           type\n",
       "\u001b[0;31mSubclasses:\u001b[0m     "
      ]
     },
     "metadata": {},
     "output_type": "display_data"
    }
   ],
   "source": [
    "# you can use \"?\" to see information about a function's parameters\n",
    "Estimate?"
   ]
  },
  {
   "cell_type": "code",
   "execution_count": null,
   "id": "4d8aa603-2415-4033-be35-64771230a73e",
   "metadata": {},
   "outputs": [],
   "source": []
  }
 ],
 "metadata": {
  "kernelspec": {
   "display_name": "Python 3",
   "language": "python",
   "name": "python3"
  },
  "language_info": {
   "codemirror_mode": {
    "name": "ipython",
    "version": 3
   },
   "file_extension": ".py",
   "mimetype": "text/x-python",
   "name": "python",
   "nbconvert_exporter": "python",
   "pygments_lexer": "ipython3",
   "version": "3.10.12"
  }
 },
 "nbformat": 4,
 "nbformat_minor": 5
}
