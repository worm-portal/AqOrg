{
 "cells": [
  {
   "cell_type": "code",
   "execution_count": 1,
   "metadata": {},
   "outputs": [
    {
     "data": {
      "text/plain": [
       "[]"
      ]
     },
     "execution_count": 1,
     "metadata": {},
     "output_type": "execute_result"
    }
   ],
   "source": [
    "import pubchempy as pcp\n",
    "pcp.get_compounds(\"2,3-Bis[[(2E,6E,10E)-3,7,11,15-tetramethylhexadeca-2,6,10,14-tetraenyl]oxy]-1-propanol\", \"name\")"
   ]
  },
  {
   "cell_type": "code",
   "execution_count": 2,
   "metadata": {},
   "outputs": [
    {
     "data": {
      "text/plain": [
       "[Compound(14556936)]"
      ]
     },
     "execution_count": 2,
     "metadata": {},
     "output_type": "execute_result"
    }
   ],
   "source": [
    "pcp.get_compounds(14556936, \"cid\")"
   ]
  },
  {
   "cell_type": "code",
   "execution_count": 1,
   "metadata": {},
   "outputs": [],
   "source": [
    "from AqOrg import Estimate, Joback"
   ]
  },
  {
   "cell_type": "code",
   "execution_count": 4,
   "metadata": {},
   "outputs": [
    {
     "data": {
      "text/plain": [
       "{'Gig': -137.18,\n",
       " 'Hig': -319.4,\n",
       " 'Sig': 440.6071252725151,\n",
       " 'Cpig': 156.20027348178624}"
      ]
     },
     "execution_count": 4,
     "metadata": {},
     "output_type": "execute_result"
    }
   ],
   "source": [
    "Joback(\"hexanol\")"
   ]
  },
  {
   "cell_type": "code",
   "execution_count": 5,
   "metadata": {},
   "outputs": [
    {
     "data": {
      "image/svg+xml": [
       "<svg xmlns=\"http://www.w3.org/2000/svg\" xmlns:rdkit=\"http://www.rdkit.org/xml\" xmlns:xlink=\"http://www.w3.org/1999/xlink\" version=\"1.1\" baseProfile=\"full\" xml:space=\"preserve\" width=\"450px\" height=\"150px\" viewBox=\"0 0 450 150\">\n",
       "<!-- END OF HEADER -->\n",
       "<rect style=\"opacity:1.0;fill:#FFFFFF;stroke:none\" width=\"450.0\" height=\"150.0\" x=\"0.0\" y=\"0.0\"> </rect>\n",
       "<path class=\"bond-0 atom-0 atom-1\" d=\"M 31.1,33.5 L 74.2,44.9\" style=\"fill:none;fill-rule:evenodd;stroke:#000000;stroke-width:2.0px;stroke-linecap:butt;stroke-linejoin:miter;stroke-opacity:1\"/>\n",
       "<path class=\"bond-1 atom-1 atom-2\" d=\"M 74.2,44.9 L 85.8,88.0\" style=\"fill:none;fill-rule:evenodd;stroke:#000000;stroke-width:2.0px;stroke-linecap:butt;stroke-linejoin:miter;stroke-opacity:1\"/>\n",
       "<path class=\"bond-2 atom-2 atom-3\" d=\"M 85.8,88.0 L 128.9,99.5\" style=\"fill:none;fill-rule:evenodd;stroke:#000000;stroke-width:2.0px;stroke-linecap:butt;stroke-linejoin:miter;stroke-opacity:1\"/>\n",
       "<path class=\"bond-3 atom-3 atom-4\" d=\"M 128.9,99.5 L 140.5,142.5\" style=\"fill:none;fill-rule:evenodd;stroke:#000000;stroke-width:2.0px;stroke-linecap:butt;stroke-linejoin:miter;stroke-opacity:1\"/>\n",
       "<path class=\"bond-4 atom-3 atom-5\" d=\"M 128.9,99.5 L 160.4,67.9\" style=\"fill:none;fill-rule:evenodd;stroke:#000000;stroke-width:2.0px;stroke-linecap:butt;stroke-linejoin:miter;stroke-opacity:1\"/>\n",
       "<path class=\"bond-5 atom-5 atom-6\" d=\"M 160.4,67.9 L 203.5,79.3\" style=\"fill:none;fill-rule:evenodd;stroke:#000000;stroke-width:2.0px;stroke-linecap:butt;stroke-linejoin:miter;stroke-opacity:1\"/>\n",
       "<path class=\"bond-6 atom-6 atom-7\" d=\"M 203.5,79.3 L 215.6,67.2\" style=\"fill:none;fill-rule:evenodd;stroke:#000000;stroke-width:2.0px;stroke-linecap:butt;stroke-linejoin:miter;stroke-opacity:1\"/>\n",
       "<path class=\"bond-6 atom-6 atom-7\" d=\"M 215.6,67.2 L 227.7,55.0\" style=\"fill:none;fill-rule:evenodd;stroke:#FF0000;stroke-width:2.0px;stroke-linecap:butt;stroke-linejoin:miter;stroke-opacity:1\"/>\n",
       "<path class=\"bond-7 atom-7 atom-8\" d=\"M 242.2,49.7 L 260.1,54.4\" style=\"fill:none;fill-rule:evenodd;stroke:#FF0000;stroke-width:2.0px;stroke-linecap:butt;stroke-linejoin:miter;stroke-opacity:1\"/>\n",
       "<path class=\"bond-7 atom-7 atom-8\" d=\"M 260.1,54.4 L 278.0,59.2\" style=\"fill:none;fill-rule:evenodd;stroke:#000000;stroke-width:2.0px;stroke-linecap:butt;stroke-linejoin:miter;stroke-opacity:1\"/>\n",
       "<path class=\"bond-8 atom-8 atom-9\" d=\"M 278.0,59.2 L 309.5,27.6\" style=\"fill:none;fill-rule:evenodd;stroke:#000000;stroke-width:2.0px;stroke-linecap:butt;stroke-linejoin:miter;stroke-opacity:1\"/>\n",
       "<path class=\"bond-9 atom-9 atom-10\" d=\"M 309.5,27.6 L 352.6,39.1\" style=\"fill:none;fill-rule:evenodd;stroke:#000000;stroke-width:2.0px;stroke-linecap:butt;stroke-linejoin:miter;stroke-opacity:1\"/>\n",
       "<path class=\"bond-10 atom-10 atom-11\" d=\"M 352.6,39.1 L 384.0,7.5\" style=\"fill:none;fill-rule:evenodd;stroke:#000000;stroke-width:2.0px;stroke-linecap:butt;stroke-linejoin:miter;stroke-opacity:1\"/>\n",
       "<path class=\"bond-11 atom-10 atom-12\" d=\"M 352.6,39.1 L 364.2,82.1\" style=\"fill:none;fill-rule:evenodd;stroke:#000000;stroke-width:2.0px;stroke-linecap:butt;stroke-linejoin:miter;stroke-opacity:1\"/>\n",
       "<path class=\"bond-12 atom-12 atom-13\" d=\"M 364.2,82.1 L 407.3,93.6\" style=\"fill:none;fill-rule:evenodd;stroke:#000000;stroke-width:2.0px;stroke-linecap:butt;stroke-linejoin:miter;stroke-opacity:1\"/>\n",
       "<path class=\"bond-13 atom-13 atom-14\" d=\"M 407.3,93.6 L 418.9,136.6\" style=\"fill:none;fill-rule:evenodd;stroke:#000000;stroke-width:2.0px;stroke-linecap:butt;stroke-linejoin:miter;stroke-opacity:1\"/>\n",
       "<path d=\"M 72.0,44.4 L 74.2,44.9 L 74.8,47.1\" style=\"fill:none;stroke:#000000;stroke-width:2.0px;stroke-linecap:butt;stroke-linejoin:miter;stroke-opacity:1;\"/>\n",
       "<path d=\"M 85.2,85.8 L 85.8,88.0 L 88.0,88.6\" style=\"fill:none;stroke:#000000;stroke-width:2.0px;stroke-linecap:butt;stroke-linejoin:miter;stroke-opacity:1;\"/>\n",
       "<path d=\"M 158.8,69.4 L 160.4,67.9 L 162.5,68.4\" style=\"fill:none;stroke:#000000;stroke-width:2.0px;stroke-linecap:butt;stroke-linejoin:miter;stroke-opacity:1;\"/>\n",
       "<path d=\"M 201.3,78.8 L 203.5,79.3 L 204.1,78.7\" style=\"fill:none;stroke:#000000;stroke-width:2.0px;stroke-linecap:butt;stroke-linejoin:miter;stroke-opacity:1;\"/>\n",
       "<path d=\"M 277.1,59.0 L 278.0,59.2 L 279.6,57.6\" style=\"fill:none;stroke:#000000;stroke-width:2.0px;stroke-linecap:butt;stroke-linejoin:miter;stroke-opacity:1;\"/>\n",
       "<path d=\"M 307.9,29.2 L 309.5,27.6 L 311.6,28.2\" style=\"fill:none;stroke:#000000;stroke-width:2.0px;stroke-linecap:butt;stroke-linejoin:miter;stroke-opacity:1;\"/>\n",
       "<path d=\"M 363.6,80.0 L 364.2,82.1 L 366.3,82.7\" style=\"fill:none;stroke:#000000;stroke-width:2.0px;stroke-linecap:butt;stroke-linejoin:miter;stroke-opacity:1;\"/>\n",
       "<path d=\"M 405.1,93.0 L 407.3,93.6 L 407.9,95.7\" style=\"fill:none;stroke:#000000;stroke-width:2.0px;stroke-linecap:butt;stroke-linejoin:miter;stroke-opacity:1;\"/>\n",
       "<path class=\"atom-7\" d=\"M 229.1 47.8 Q 229.1 44.7, 230.6 43.1 Q 232.1 41.4, 234.9 41.4 Q 237.7 41.4, 239.2 43.1 Q 240.7 44.7, 240.7 47.8 Q 240.7 50.8, 239.2 52.6 Q 237.7 54.3, 234.9 54.3 Q 232.1 54.3, 230.6 52.6 Q 229.1 50.9, 229.1 47.8 M 234.9 52.9 Q 236.9 52.9, 237.9 51.6 Q 238.9 50.3, 238.9 47.8 Q 238.9 45.3, 237.9 44.1 Q 236.9 42.8, 234.9 42.8 Q 233.0 42.8, 231.9 44.0 Q 230.9 45.3, 230.9 47.8 Q 230.9 50.3, 231.9 51.6 Q 233.0 52.9, 234.9 52.9 \" fill=\"#FF0000\"/>\n",
       "</svg>"
      ],
      "text/plain": [
       "<IPython.core.display.SVG object>"
      ]
     },
     "metadata": {},
     "output_type": "display_data"
    }
   ],
   "source": [
    "est = Estimate(\"3-Methyl-1-(3-methylhexoxy)hexane\", save=True)"
   ]
  },
  {
   "cell_type": "code",
   "execution_count": 6,
   "metadata": {},
   "outputs": [
    {
     "data": {
      "text/html": [
       "<div>\n",
       "<style scoped>\n",
       "    .dataframe tbody tr th:only-of-type {\n",
       "        vertical-align: middle;\n",
       "    }\n",
       "\n",
       "    .dataframe tbody tr th {\n",
       "        vertical-align: top;\n",
       "    }\n",
       "\n",
       "    .dataframe thead th {\n",
       "        text-align: right;\n",
       "    }\n",
       "</style>\n",
       "<table border=\"1\" class=\"dataframe\">\n",
       "  <thead>\n",
       "    <tr style=\"text-align: right;\">\n",
       "      <th></th>\n",
       "      <th>[C!H3]-[CX4H3R0]</th>\n",
       "      <th>C-[CX4H2R0]-C</th>\n",
       "      <th>C-[CX4H1](-C)-C</th>\n",
       "      <th>O-[CX4H2]-C</th>\n",
       "      <th>C-[OX2]-C</th>\n",
       "      <th>formula</th>\n",
       "    </tr>\n",
       "  </thead>\n",
       "  <tbody>\n",
       "    <tr>\n",
       "      <th>3-Methyl-1-(3-methylhexoxy)hexane</th>\n",
       "      <td>4</td>\n",
       "      <td>6</td>\n",
       "      <td>2</td>\n",
       "      <td>2</td>\n",
       "      <td>1</td>\n",
       "      <td>C14H30O</td>\n",
       "    </tr>\n",
       "  </tbody>\n",
       "</table>\n",
       "</div>"
      ],
      "text/plain": [
       "                                   [C!H3]-[CX4H3R0]  C-[CX4H2R0]-C  \\\n",
       "3-Methyl-1-(3-methylhexoxy)hexane                 4              6   \n",
       "\n",
       "                                   C-[CX4H1](-C)-C  O-[CX4H2]-C  C-[OX2]-C  \\\n",
       "3-Methyl-1-(3-methylhexoxy)hexane                2            2          1   \n",
       "\n",
       "                                   formula  \n",
       "3-Methyl-1-(3-methylhexoxy)hexane  C14H30O  "
      ]
     },
     "execution_count": 6,
     "metadata": {},
     "output_type": "execute_result"
    }
   ],
   "source": [
    "est.group_matches"
   ]
  },
  {
   "cell_type": "code",
   "execution_count": 7,
   "metadata": {},
   "outputs": [],
   "source": [
    "from pyCHNOSZ import mod_OBIGT, subcrt, info"
   ]
  },
  {
   "cell_type": "code",
   "execution_count": 8,
   "metadata": {},
   "outputs": [
    {
     "data": {
      "text/plain": [
       "[3446]"
      ]
     },
     "execution_count": 8,
     "metadata": {},
     "output_type": "execute_result"
    }
   ],
   "source": [
    "mod_OBIGT(est.OBIGT)"
   ]
  },
  {
   "cell_type": "code",
   "execution_count": 9,
   "metadata": {},
   "outputs": [
    {
     "data": {
      "image/svg+xml": [
       "<svg xmlns=\"http://www.w3.org/2000/svg\" xmlns:rdkit=\"http://www.rdkit.org/xml\" xmlns:xlink=\"http://www.w3.org/1999/xlink\" version=\"1.1\" baseProfile=\"full\" xml:space=\"preserve\" width=\"450px\" height=\"150px\" viewBox=\"0 0 450 150\">\n",
       "<!-- END OF HEADER -->\n",
       "<rect style=\"opacity:1.0;fill:#FFFFFF;stroke:none\" width=\"450.0\" height=\"150.0\" x=\"0.0\" y=\"0.0\"> </rect>\n",
       "<path class=\"bond-0 atom-0 atom-1\" d=\"M 22.5,87.8 L 85.2,51.5\" style=\"fill:none;fill-rule:evenodd;stroke:#000000;stroke-width:2.0px;stroke-linecap:butt;stroke-linejoin:miter;stroke-opacity:1\"/>\n",
       "<path class=\"bond-1 atom-1 atom-2\" d=\"M 85.2,51.5 L 147.9,87.8\" style=\"fill:none;fill-rule:evenodd;stroke:#000000;stroke-width:2.0px;stroke-linecap:butt;stroke-linejoin:miter;stroke-opacity:1\"/>\n",
       "<path class=\"bond-2 atom-2 atom-3\" d=\"M 147.9,87.8 L 210.7,51.5\" style=\"fill:none;fill-rule:evenodd;stroke:#000000;stroke-width:2.0px;stroke-linecap:butt;stroke-linejoin:miter;stroke-opacity:1\"/>\n",
       "<path class=\"bond-3 atom-3 atom-4\" d=\"M 210.7,51.5 L 273.4,87.8\" style=\"fill:none;fill-rule:evenodd;stroke:#000000;stroke-width:2.0px;stroke-linecap:butt;stroke-linejoin:miter;stroke-opacity:1\"/>\n",
       "<path class=\"bond-4 atom-4 atom-5\" d=\"M 273.4,87.8 L 336.1,51.5\" style=\"fill:none;fill-rule:evenodd;stroke:#000000;stroke-width:2.0px;stroke-linecap:butt;stroke-linejoin:miter;stroke-opacity:1\"/>\n",
       "<path class=\"bond-5 atom-5 atom-6\" d=\"M 336.1,51.5 L 361.6,66.2\" style=\"fill:none;fill-rule:evenodd;stroke:#000000;stroke-width:2.0px;stroke-linecap:butt;stroke-linejoin:miter;stroke-opacity:1\"/>\n",
       "<path class=\"bond-5 atom-5 atom-6\" d=\"M 361.6,66.2 L 387.0,80.9\" style=\"fill:none;fill-rule:evenodd;stroke:#FF0000;stroke-width:2.0px;stroke-linecap:butt;stroke-linejoin:miter;stroke-opacity:1\"/>\n",
       "<path d=\"M 82.1,53.4 L 85.2,51.5 L 88.4,53.4\" style=\"fill:none;stroke:#000000;stroke-width:2.0px;stroke-linecap:butt;stroke-linejoin:miter;stroke-opacity:1;\"/>\n",
       "<path d=\"M 144.8,86.0 L 147.9,87.8 L 151.1,86.0\" style=\"fill:none;stroke:#000000;stroke-width:2.0px;stroke-linecap:butt;stroke-linejoin:miter;stroke-opacity:1;\"/>\n",
       "<path d=\"M 207.5,53.4 L 210.7,51.5 L 213.8,53.4\" style=\"fill:none;stroke:#000000;stroke-width:2.0px;stroke-linecap:butt;stroke-linejoin:miter;stroke-opacity:1;\"/>\n",
       "<path d=\"M 270.3,86.0 L 273.4,87.8 L 276.5,86.0\" style=\"fill:none;stroke:#000000;stroke-width:2.0px;stroke-linecap:butt;stroke-linejoin:miter;stroke-opacity:1;\"/>\n",
       "<path d=\"M 333.0,53.4 L 336.1,51.5 L 337.4,52.3\" style=\"fill:none;stroke:#000000;stroke-width:2.0px;stroke-linecap:butt;stroke-linejoin:miter;stroke-opacity:1;\"/>\n",
       "<path class=\"atom-6\" d=\"M 389.4 87.8 Q 389.4 82.9, 391.9 80.1 Q 394.3 77.4, 398.8 77.4 Q 403.4 77.4, 405.8 80.1 Q 408.3 82.9, 408.3 87.8 Q 408.3 92.8, 405.8 95.6 Q 403.3 98.5, 398.8 98.5 Q 394.3 98.5, 391.9 95.6 Q 389.4 92.8, 389.4 87.8 M 398.8 96.1 Q 402.0 96.1, 403.7 94.0 Q 405.4 91.9, 405.4 87.8 Q 405.4 83.8, 403.7 81.8 Q 402.0 79.7, 398.8 79.7 Q 395.7 79.7, 394.0 81.7 Q 392.3 83.8, 392.3 87.8 Q 392.3 92.0, 394.0 94.0 Q 395.7 96.1, 398.8 96.1 \" fill=\"#FF0000\"/>\n",
       "<path class=\"atom-6\" d=\"M 411.5 77.6 L 414.2 77.6 L 414.2 86.3 L 424.7 86.3 L 424.7 77.6 L 427.5 77.6 L 427.5 98.1 L 424.7 98.1 L 424.7 88.7 L 414.2 88.7 L 414.2 98.1 L 411.5 98.1 L 411.5 77.6 \" fill=\"#FF0000\"/>\n",
       "</svg>"
      ],
      "text/plain": [
       "<IPython.core.display.SVG object>"
      ]
     },
     "metadata": {},
     "output_type": "display_data"
    }
   ],
   "source": [
    "est = Estimate(\"n-hexanol\")"
   ]
  },
  {
   "cell_type": "code",
   "execution_count": 10,
   "metadata": {},
   "outputs": [
    {
     "data": {
      "text/html": [
       "<div>\n",
       "<style scoped>\n",
       "    .dataframe tbody tr th:only-of-type {\n",
       "        vertical-align: middle;\n",
       "    }\n",
       "\n",
       "    .dataframe tbody tr th {\n",
       "        vertical-align: top;\n",
       "    }\n",
       "\n",
       "    .dataframe thead th {\n",
       "        text-align: right;\n",
       "    }\n",
       "</style>\n",
       "<table border=\"1\" class=\"dataframe\">\n",
       "  <thead>\n",
       "    <tr style=\"text-align: right;\">\n",
       "      <th></th>\n",
       "      <th>[C!H3]-[CX4H3R0]</th>\n",
       "      <th>C-[CX4H2R0]-C</th>\n",
       "      <th>O-[CX4H2]-C</th>\n",
       "      <th>C-[OX2H]</th>\n",
       "      <th>formula</th>\n",
       "    </tr>\n",
       "  </thead>\n",
       "  <tbody>\n",
       "    <tr>\n",
       "      <th>n-hexanol</th>\n",
       "      <td>1</td>\n",
       "      <td>4</td>\n",
       "      <td>1</td>\n",
       "      <td>1</td>\n",
       "      <td>C6H14O</td>\n",
       "    </tr>\n",
       "  </tbody>\n",
       "</table>\n",
       "</div>"
      ],
      "text/plain": [
       "           [C!H3]-[CX4H3R0]  C-[CX4H2R0]-C  O-[CX4H2]-C  C-[OX2H] formula\n",
       "n-hexanol                 1              4            1         1  C6H14O"
      ]
     },
     "execution_count": 10,
     "metadata": {},
     "output_type": "execute_result"
    }
   ],
   "source": [
    "est.group_matches"
   ]
  },
  {
   "cell_type": "code",
   "execution_count": 11,
   "metadata": {},
   "outputs": [
    {
     "data": {
      "text/plain": [
       "[3447]"
      ]
     },
     "execution_count": 11,
     "metadata": {},
     "output_type": "execute_result"
    }
   ],
   "source": [
    "mod_OBIGT(est.OBIGT, replace=False)"
   ]
  },
  {
   "cell_type": "code",
   "execution_count": 12,
   "metadata": {},
   "outputs": [
    {
     "name": "stdout",
     "output_type": "stream",
     "text": [
      "915    4.899464\n",
      "Name: a1, dtype: float64\n",
      "3447    9.878325\n",
      "Name: a1, dtype: float64\n"
     ]
    }
   ],
   "source": [
    "print(info(915)[\"a1\"]*4.184)\n",
    "print(info(3447)[\"a1\"])"
   ]
  },
  {
   "cell_type": "code",
   "execution_count": 13,
   "metadata": {},
   "outputs": [
    {
     "data": {
      "text/html": [
       "<div>\n",
       "<style scoped>\n",
       "    .dataframe tbody tr th:only-of-type {\n",
       "        vertical-align: middle;\n",
       "    }\n",
       "\n",
       "    .dataframe tbody tr th {\n",
       "        vertical-align: top;\n",
       "    }\n",
       "\n",
       "    .dataframe thead th {\n",
       "        text-align: right;\n",
       "    }\n",
       "</style>\n",
       "<table border=\"1\" class=\"dataframe\">\n",
       "  <thead>\n",
       "    <tr style=\"text-align: right;\">\n",
       "      <th></th>\n",
       "      <th>name</th>\n",
       "      <th>abbrv</th>\n",
       "      <th>formula</th>\n",
       "      <th>state</th>\n",
       "      <th>ref1</th>\n",
       "      <th>ref2</th>\n",
       "      <th>date</th>\n",
       "      <th>E_units</th>\n",
       "      <th>G</th>\n",
       "      <th>H</th>\n",
       "      <th>...</th>\n",
       "      <th>Cp</th>\n",
       "      <th>V</th>\n",
       "      <th>a1</th>\n",
       "      <th>a2</th>\n",
       "      <th>a3</th>\n",
       "      <th>a4</th>\n",
       "      <th>c1</th>\n",
       "      <th>c2</th>\n",
       "      <th>omega</th>\n",
       "      <th>Z</th>\n",
       "    </tr>\n",
       "  </thead>\n",
       "  <tbody>\n",
       "    <tr>\n",
       "      <th>915</th>\n",
       "      <td>ethanol</td>\n",
       "      <td>None</td>\n",
       "      <td>C2H5OH</td>\n",
       "      <td>aq</td>\n",
       "      <td>PS01</td>\n",
       "      <td>None</td>\n",
       "      <td>2000-10-04</td>\n",
       "      <td>cal</td>\n",
       "      <td>-43240.0</td>\n",
       "      <td>-68770.0</td>\n",
       "      <td>...</td>\n",
       "      <td>62.860000</td>\n",
       "      <td>55.10</td>\n",
       "      <td>1.171000</td>\n",
       "      <td>621.000000</td>\n",
       "      <td>5.980000</td>\n",
       "      <td>-33500.000000</td>\n",
       "      <td>58.800000</td>\n",
       "      <td>16700.0</td>\n",
       "      <td>-12000.000000</td>\n",
       "      <td>0.0</td>\n",
       "    </tr>\n",
       "    <tr>\n",
       "      <th>3447</th>\n",
       "      <td>n-hexanol</td>\n",
       "      <td>C6H14O</td>\n",
       "      <td>C6H14O</td>\n",
       "      <td>aq</td>\n",
       "      <td>AqOrg</td>\n",
       "      <td>GrpAdd</td>\n",
       "      <td>07/02/2025 15:15:50</td>\n",
       "      <td>J</td>\n",
       "      <td>-147480.0</td>\n",
       "      <td>-387470.0</td>\n",
       "      <td>...</td>\n",
       "      <td>613.200273</td>\n",
       "      <td>117.72</td>\n",
       "      <td>9.878325</td>\n",
       "      <td>7045.035804</td>\n",
       "      <td>119.933082</td>\n",
       "      <td>-467116.670978</td>\n",
       "      <td>581.936497</td>\n",
       "      <td>126553.0</td>\n",
       "      <td>-60209.117939</td>\n",
       "      <td>0.0</td>\n",
       "    </tr>\n",
       "  </tbody>\n",
       "</table>\n",
       "<p>2 rows × 21 columns</p>\n",
       "</div>"
      ],
      "text/plain": [
       "           name   abbrv formula state   ref1    ref2                 date  \\\n",
       "915     ethanol    None  C2H5OH    aq   PS01    None           2000-10-04   \n",
       "3447  n-hexanol  C6H14O  C6H14O    aq  AqOrg  GrpAdd  07/02/2025 15:15:50   \n",
       "\n",
       "     E_units         G         H  ...          Cp       V        a1  \\\n",
       "915      cal  -43240.0  -68770.0  ...   62.860000   55.10  1.171000   \n",
       "3447       J -147480.0 -387470.0  ...  613.200273  117.72  9.878325   \n",
       "\n",
       "               a2          a3             a4          c1        c2  \\\n",
       "915    621.000000    5.980000  -33500.000000   58.800000   16700.0   \n",
       "3447  7045.035804  119.933082 -467116.670978  581.936497  126553.0   \n",
       "\n",
       "             omega    Z  \n",
       "915  -12000.000000  0.0  \n",
       "3447 -60209.117939  0.0  \n",
       "\n",
       "[2 rows x 21 columns]"
      ]
     },
     "execution_count": 13,
     "metadata": {},
     "output_type": "execute_result"
    }
   ],
   "source": [
    "info([915, 3447])"
   ]
  },
  {
   "cell_type": "code",
   "execution_count": 14,
   "metadata": {},
   "outputs": [
    {
     "data": {
      "text/html": [
       "<div>\n",
       "<style scoped>\n",
       "    .dataframe tbody tr th:only-of-type {\n",
       "        vertical-align: middle;\n",
       "    }\n",
       "\n",
       "    .dataframe tbody tr th {\n",
       "        vertical-align: top;\n",
       "    }\n",
       "\n",
       "    .dataframe thead th {\n",
       "        text-align: right;\n",
       "    }\n",
       "</style>\n",
       "<table border=\"1\" class=\"dataframe\">\n",
       "  <thead>\n",
       "    <tr style=\"text-align: right;\">\n",
       "      <th></th>\n",
       "      <th>T</th>\n",
       "      <th>P</th>\n",
       "      <th>logK</th>\n",
       "    </tr>\n",
       "  </thead>\n",
       "  <tbody>\n",
       "    <tr>\n",
       "      <th>1</th>\n",
       "      <td>0.01</td>\n",
       "      <td>1.000000</td>\n",
       "      <td>258.353261</td>\n",
       "    </tr>\n",
       "    <tr>\n",
       "      <th>2</th>\n",
       "      <td>25.00</td>\n",
       "      <td>1.000000</td>\n",
       "      <td>235.867404</td>\n",
       "    </tr>\n",
       "    <tr>\n",
       "      <th>3</th>\n",
       "      <td>50.00</td>\n",
       "      <td>1.000000</td>\n",
       "      <td>216.889830</td>\n",
       "    </tr>\n",
       "    <tr>\n",
       "      <th>4</th>\n",
       "      <td>75.00</td>\n",
       "      <td>1.000000</td>\n",
       "      <td>200.645872</td>\n",
       "    </tr>\n",
       "    <tr>\n",
       "      <th>5</th>\n",
       "      <td>100.00</td>\n",
       "      <td>1.013220</td>\n",
       "      <td>186.576302</td>\n",
       "    </tr>\n",
       "    <tr>\n",
       "      <th>6</th>\n",
       "      <td>125.00</td>\n",
       "      <td>2.320144</td>\n",
       "      <td>174.270638</td>\n",
       "    </tr>\n",
       "    <tr>\n",
       "      <th>7</th>\n",
       "      <td>150.00</td>\n",
       "      <td>4.757169</td>\n",
       "      <td>163.413256</td>\n",
       "    </tr>\n",
       "    <tr>\n",
       "      <th>8</th>\n",
       "      <td>175.00</td>\n",
       "      <td>8.918049</td>\n",
       "      <td>153.761436</td>\n",
       "    </tr>\n",
       "    <tr>\n",
       "      <th>9</th>\n",
       "      <td>200.00</td>\n",
       "      <td>15.536499</td>\n",
       "      <td>145.124078</td>\n",
       "    </tr>\n",
       "    <tr>\n",
       "      <th>10</th>\n",
       "      <td>225.00</td>\n",
       "      <td>25.478603</td>\n",
       "      <td>137.348287</td>\n",
       "    </tr>\n",
       "    <tr>\n",
       "      <th>11</th>\n",
       "      <td>250.00</td>\n",
       "      <td>39.736493</td>\n",
       "      <td>130.309669</td>\n",
       "    </tr>\n",
       "    <tr>\n",
       "      <th>12</th>\n",
       "      <td>275.00</td>\n",
       "      <td>59.431251</td>\n",
       "      <td>123.904840</td>\n",
       "    </tr>\n",
       "    <tr>\n",
       "      <th>13</th>\n",
       "      <td>300.00</td>\n",
       "      <td>85.837843</td>\n",
       "      <td>118.044687</td>\n",
       "    </tr>\n",
       "    <tr>\n",
       "      <th>14</th>\n",
       "      <td>325.00</td>\n",
       "      <td>120.457572</td>\n",
       "      <td>112.645240</td>\n",
       "    </tr>\n",
       "    <tr>\n",
       "      <th>15</th>\n",
       "      <td>350.00</td>\n",
       "      <td>165.211289</td>\n",
       "      <td>107.599784</td>\n",
       "    </tr>\n",
       "  </tbody>\n",
       "</table>\n",
       "</div>"
      ],
      "text/plain": [
       "         T           P        logK\n",
       "1     0.01    1.000000  258.353261\n",
       "2    25.00    1.000000  235.867404\n",
       "3    50.00    1.000000  216.889830\n",
       "4    75.00    1.000000  200.645872\n",
       "5   100.00    1.013220  186.576302\n",
       "6   125.00    2.320144  174.270638\n",
       "7   150.00    4.757169  163.413256\n",
       "8   175.00    8.918049  153.761436\n",
       "9   200.00   15.536499  145.124078\n",
       "10  225.00   25.478603  137.348287\n",
       "11  250.00   39.736493  130.309669\n",
       "12  275.00   59.431251  123.904840\n",
       "13  300.00   85.837843  118.044687\n",
       "14  325.00  120.457572  112.645240\n",
       "15  350.00  165.211289  107.599784"
      ]
     },
     "execution_count": 14,
     "metadata": {},
     "output_type": "execute_result"
    }
   ],
   "source": [
    "subcrt([884, 907, 1], [1, -1, 1], property=[\"logK\"], show=False)[\"out\"]"
   ]
  },
  {
   "cell_type": "code",
   "execution_count": 15,
   "metadata": {},
   "outputs": [
    {
     "data": {
      "text/html": [
       "<div>\n",
       "<style scoped>\n",
       "    .dataframe tbody tr th:only-of-type {\n",
       "        vertical-align: middle;\n",
       "    }\n",
       "\n",
       "    .dataframe tbody tr th {\n",
       "        vertical-align: top;\n",
       "    }\n",
       "\n",
       "    .dataframe thead th {\n",
       "        text-align: right;\n",
       "    }\n",
       "</style>\n",
       "<table border=\"1\" class=\"dataframe\">\n",
       "  <thead>\n",
       "    <tr style=\"text-align: right;\">\n",
       "      <th></th>\n",
       "      <th>T</th>\n",
       "      <th>P</th>\n",
       "      <th>logK</th>\n",
       "    </tr>\n",
       "  </thead>\n",
       "  <tbody>\n",
       "    <tr>\n",
       "      <th>1</th>\n",
       "      <td>0.01</td>\n",
       "      <td>1.000000</td>\n",
       "      <td>46.195744</td>\n",
       "    </tr>\n",
       "    <tr>\n",
       "      <th>2</th>\n",
       "      <td>25.00</td>\n",
       "      <td>1.000000</td>\n",
       "      <td>42.479064</td>\n",
       "    </tr>\n",
       "    <tr>\n",
       "      <th>3</th>\n",
       "      <td>50.00</td>\n",
       "      <td>1.000000</td>\n",
       "      <td>39.352243</td>\n",
       "    </tr>\n",
       "    <tr>\n",
       "      <th>4</th>\n",
       "      <td>75.00</td>\n",
       "      <td>1.000000</td>\n",
       "      <td>36.687980</td>\n",
       "    </tr>\n",
       "    <tr>\n",
       "      <th>5</th>\n",
       "      <td>100.00</td>\n",
       "      <td>1.013220</td>\n",
       "      <td>34.392122</td>\n",
       "    </tr>\n",
       "    <tr>\n",
       "      <th>6</th>\n",
       "      <td>125.00</td>\n",
       "      <td>2.320144</td>\n",
       "      <td>32.394326</td>\n",
       "    </tr>\n",
       "    <tr>\n",
       "      <th>7</th>\n",
       "      <td>150.00</td>\n",
       "      <td>4.757169</td>\n",
       "      <td>30.641036</td>\n",
       "    </tr>\n",
       "    <tr>\n",
       "      <th>8</th>\n",
       "      <td>175.00</td>\n",
       "      <td>8.918049</td>\n",
       "      <td>29.090731</td>\n",
       "    </tr>\n",
       "    <tr>\n",
       "      <th>9</th>\n",
       "      <td>200.00</td>\n",
       "      <td>15.536499</td>\n",
       "      <td>27.710744</td>\n",
       "    </tr>\n",
       "    <tr>\n",
       "      <th>10</th>\n",
       "      <td>225.00</td>\n",
       "      <td>25.478603</td>\n",
       "      <td>26.475040</td>\n",
       "    </tr>\n",
       "    <tr>\n",
       "      <th>11</th>\n",
       "      <td>250.00</td>\n",
       "      <td>39.736493</td>\n",
       "      <td>25.362626</td>\n",
       "    </tr>\n",
       "    <tr>\n",
       "      <th>12</th>\n",
       "      <td>275.00</td>\n",
       "      <td>59.431251</td>\n",
       "      <td>24.356404</td>\n",
       "    </tr>\n",
       "    <tr>\n",
       "      <th>13</th>\n",
       "      <td>300.00</td>\n",
       "      <td>85.837843</td>\n",
       "      <td>23.442317</td>\n",
       "    </tr>\n",
       "    <tr>\n",
       "      <th>14</th>\n",
       "      <td>325.00</td>\n",
       "      <td>120.457572</td>\n",
       "      <td>22.608721</td>\n",
       "    </tr>\n",
       "    <tr>\n",
       "      <th>15</th>\n",
       "      <td>350.00</td>\n",
       "      <td>165.211289</td>\n",
       "      <td>21.845918</td>\n",
       "    </tr>\n",
       "  </tbody>\n",
       "</table>\n",
       "</div>"
      ],
      "text/plain": [
       "         T           P       logK\n",
       "1     0.01    1.000000  46.195744\n",
       "2    25.00    1.000000  42.479064\n",
       "3    50.00    1.000000  39.352243\n",
       "4    75.00    1.000000  36.687980\n",
       "5   100.00    1.013220  34.392122\n",
       "6   125.00    2.320144  32.394326\n",
       "7   150.00    4.757169  30.641036\n",
       "8   175.00    8.918049  29.090731\n",
       "9   200.00   15.536499  27.710744\n",
       "10  225.00   25.478603  26.475040\n",
       "11  250.00   39.736493  25.362626\n",
       "12  275.00   59.431251  24.356404\n",
       "13  300.00   85.837843  23.442317\n",
       "14  325.00  120.457572  22.608721\n",
       "15  350.00  165.211289  21.845918"
      ]
     },
     "execution_count": 15,
     "metadata": {},
     "output_type": "execute_result"
    }
   ],
   "source": [
    "subcrt([3419, 3420, 1], [1, -1, 1], property=[\"logK\"], show=False)[\"out\"]"
   ]
  },
  {
   "cell_type": "markdown",
   "metadata": {},
   "source": [
    "### Single compound estimation"
   ]
  },
  {
   "cell_type": "code",
   "execution_count": 16,
   "metadata": {},
   "outputs": [
    {
     "data": {
      "image/svg+xml": [
       "<svg xmlns=\"http://www.w3.org/2000/svg\" xmlns:rdkit=\"http://www.rdkit.org/xml\" xmlns:xlink=\"http://www.w3.org/1999/xlink\" version=\"1.1\" baseProfile=\"full\" xml:space=\"preserve\" width=\"450px\" height=\"150px\" viewBox=\"0 0 450 150\">\n",
       "<!-- END OF HEADER -->\n",
       "<rect style=\"opacity:1.0;fill:#FFFFFF;stroke:none\" width=\"450.0\" height=\"150.0\" x=\"0.0\" y=\"0.0\"> </rect>\n",
       "<path class=\"bond-0 atom-0 atom-1\" d=\"M 193.2,7.5 L 176.9,62.2\" style=\"fill:none;fill-rule:evenodd;stroke:#000000;stroke-width:2.0px;stroke-linecap:butt;stroke-linejoin:miter;stroke-opacity:1\"/>\n",
       "<path class=\"bond-1 atom-1 atom-2\" d=\"M 176.9,62.2 L 160.6,117.0\" style=\"fill:none;fill-rule:evenodd;stroke:#000000;stroke-width:2.0px;stroke-linecap:butt;stroke-linejoin:miter;stroke-opacity:1\"/>\n",
       "<path class=\"bond-2 atom-1 atom-3\" d=\"M 176.9,62.2 L 122.1,46.0\" style=\"fill:none;fill-rule:evenodd;stroke:#000000;stroke-width:2.0px;stroke-linecap:butt;stroke-linejoin:miter;stroke-opacity:1\"/>\n",
       "<path class=\"bond-3 atom-1 atom-4\" d=\"M 176.9,62.2 L 231.6,78.5\" style=\"fill:none;fill-rule:evenodd;stroke:#000000;stroke-width:2.0px;stroke-linecap:butt;stroke-linejoin:miter;stroke-opacity:1\"/>\n",
       "<path class=\"bond-4 atom-4 atom-5\" d=\"M 226.9,77.1 L 232.6,101.1\" style=\"fill:none;fill-rule:evenodd;stroke:#000000;stroke-width:2.0px;stroke-linecap:butt;stroke-linejoin:miter;stroke-opacity:1\"/>\n",
       "<path class=\"bond-4 atom-4 atom-5\" d=\"M 232.6,101.1 L 238.3,125.0\" style=\"fill:none;fill-rule:evenodd;stroke:#FF0000;stroke-width:2.0px;stroke-linecap:butt;stroke-linejoin:miter;stroke-opacity:1\"/>\n",
       "<path class=\"bond-4 atom-4 atom-5\" d=\"M 235.2,75.1 L 241.0,99.1\" style=\"fill:none;fill-rule:evenodd;stroke:#000000;stroke-width:2.0px;stroke-linecap:butt;stroke-linejoin:miter;stroke-opacity:1\"/>\n",
       "<path class=\"bond-4 atom-4 atom-5\" d=\"M 241.0,99.1 L 246.7,123.0\" style=\"fill:none;fill-rule:evenodd;stroke:#FF0000;stroke-width:2.0px;stroke-linecap:butt;stroke-linejoin:miter;stroke-opacity:1\"/>\n",
       "<path class=\"bond-5 atom-4 atom-6\" d=\"M 231.6,78.5 L 247.7,63.3\" style=\"fill:none;fill-rule:evenodd;stroke:#000000;stroke-width:2.0px;stroke-linecap:butt;stroke-linejoin:miter;stroke-opacity:1\"/>\n",
       "<path class=\"bond-5 atom-4 atom-6\" d=\"M 247.7,63.3 L 263.8,48.1\" style=\"fill:none;fill-rule:evenodd;stroke:#FF0000;stroke-width:2.0px;stroke-linecap:butt;stroke-linejoin:miter;stroke-opacity:1\"/>\n",
       "<path class=\"bond-6 atom-6 atom-7\" d=\"M 282.4,42.0 L 305.1,48.8\" style=\"fill:none;fill-rule:evenodd;stroke:#FF0000;stroke-width:2.0px;stroke-linecap:butt;stroke-linejoin:miter;stroke-opacity:1\"/>\n",
       "<path class=\"bond-6 atom-6 atom-7\" d=\"M 305.1,48.8 L 327.9,55.5\" style=\"fill:none;fill-rule:evenodd;stroke:#000000;stroke-width:2.0px;stroke-linecap:butt;stroke-linejoin:miter;stroke-opacity:1\"/>\n",
       "<path d=\"M 228.9,77.7 L 231.6,78.5 L 232.4,77.8\" style=\"fill:none;stroke:#000000;stroke-width:2.0px;stroke-linecap:butt;stroke-linejoin:miter;stroke-opacity:1;\"/>\n",
       "<path class=\"atom-5\" d=\"M 237.5 134.1 Q 237.5 130.2, 239.4 128.1 Q 241.3 125.9, 244.9 125.9 Q 248.5 125.9, 250.4 128.1 Q 252.3 130.2, 252.3 134.1 Q 252.3 138.0, 250.4 140.3 Q 248.5 142.5, 244.9 142.5 Q 241.3 142.5, 239.4 140.3 Q 237.5 138.1, 237.5 134.1 M 244.9 140.7 Q 247.4 140.7, 248.7 139.0 Q 250.1 137.4, 250.1 134.1 Q 250.1 130.9, 248.7 129.3 Q 247.4 127.7, 244.9 127.7 Q 242.4 127.7, 241.1 129.3 Q 239.8 130.9, 239.8 134.1 Q 239.8 137.4, 241.1 139.0 Q 242.4 140.7, 244.9 140.7 \" fill=\"#FF0000\"/>\n",
       "<path class=\"atom-6\" d=\"M 265.7 39.3 Q 265.7 35.4, 267.6 33.2 Q 269.5 31.1, 273.1 31.1 Q 276.7 31.1, 278.6 33.2 Q 280.5 35.4, 280.5 39.3 Q 280.5 43.2, 278.6 45.5 Q 276.6 47.7, 273.1 47.7 Q 269.5 47.7, 267.6 45.5 Q 265.7 43.2, 265.7 39.3 M 273.1 45.9 Q 275.6 45.9, 276.9 44.2 Q 278.2 42.5, 278.2 39.3 Q 278.2 36.1, 276.9 34.5 Q 275.6 32.9, 273.1 32.9 Q 270.6 32.9, 269.3 34.5 Q 268.0 36.1, 268.0 39.3 Q 268.0 42.6, 269.3 44.2 Q 270.6 45.9, 273.1 45.9 \" fill=\"#FF0000\"/>\n",
       "</svg>"
      ],
      "text/plain": [
       "<IPython.core.display.SVG object>"
      ]
     },
     "metadata": {},
     "output_type": "display_data"
    }
   ],
   "source": [
    "est = Estimate(\"Methyl Pivalate\")"
   ]
  },
  {
   "cell_type": "code",
   "execution_count": 17,
   "metadata": {},
   "outputs": [
    {
     "data": {
      "text/plain": [
       "['Cp',\n",
       " 'Cpaq',\n",
       " 'Cph',\n",
       " 'Cph_err',\n",
       " 'Cpig',\n",
       " 'Cpig_a',\n",
       " 'Cpig_b',\n",
       " 'Cpig_c',\n",
       " 'Cpig_d',\n",
       " 'G',\n",
       " 'Gaq',\n",
       " 'Gh',\n",
       " 'Gh_err',\n",
       " 'Gig',\n",
       " 'H',\n",
       " 'Haq',\n",
       " 'Hh',\n",
       " 'Hh_err',\n",
       " 'Hig',\n",
       " 'OBIGT',\n",
       " 'S',\n",
       " 'Saq',\n",
       " 'Selements',\n",
       " 'Sh',\n",
       " 'Sh_err',\n",
       " 'Sig',\n",
       " 'V',\n",
       " 'V_err',\n",
       " 'Vnonsolv',\n",
       " 'Vsolv',\n",
       " 'Z',\n",
       " '_Estimate__convert_to_OBIGT',\n",
       " '_Estimate__dict_to_formula',\n",
       " '_Estimate__display_molecule',\n",
       " '_Estimate__entropy',\n",
       " '_Estimate__est_calcs',\n",
       " '_Estimate__est_joback',\n",
       " '_Estimate__estimate',\n",
       " '_Estimate__estimate_joback',\n",
       " '_Estimate__load_group_data',\n",
       " '_Estimate__match_groups',\n",
       " '_Estimate__set_groups',\n",
       " '_Estimate__test_group_match',\n",
       " '__class__',\n",
       " '__delattr__',\n",
       " '__dict__',\n",
       " '__dir__',\n",
       " '__doc__',\n",
       " '__eq__',\n",
       " '__format__',\n",
       " '__ge__',\n",
       " '__getattribute__',\n",
       " '__gt__',\n",
       " '__hash__',\n",
       " '__init__',\n",
       " '__init_subclass__',\n",
       " '__le__',\n",
       " '__lt__',\n",
       " '__module__',\n",
       " '__ne__',\n",
       " '__new__',\n",
       " '__reduce__',\n",
       " '__reduce_ex__',\n",
       " '__repr__',\n",
       " '__setattr__',\n",
       " '__sizeof__',\n",
       " '__str__',\n",
       " '__subclasshook__',\n",
       " '__weakref__',\n",
       " 'a1',\n",
       " 'a2',\n",
       " 'a3',\n",
       " 'a4',\n",
       " 'c1',\n",
       " 'c2',\n",
       " 'charge',\n",
       " 'element_data',\n",
       " 'formula',\n",
       " 'formula_dict',\n",
       " 'group_data',\n",
       " 'group_matches',\n",
       " 'groups',\n",
       " 'name',\n",
       " 'note',\n",
       " 'omega',\n",
       " 'pattern_dict',\n",
       " 'pcp_compound',\n",
       " 'sigma',\n",
       " 'smiles']"
      ]
     },
     "execution_count": 17,
     "metadata": {},
     "output_type": "execute_result"
    }
   ],
   "source": [
    "dir(est)"
   ]
  },
  {
   "cell_type": "markdown",
   "metadata": {},
   "source": [
    "Look up the molecule's OBIGT table of estimated values."
   ]
  },
  {
   "cell_type": "code",
   "execution_count": 18,
   "metadata": {},
   "outputs": [
    {
     "data": {
      "text/html": [
       "<div>\n",
       "<style scoped>\n",
       "    .dataframe tbody tr th:only-of-type {\n",
       "        vertical-align: middle;\n",
       "    }\n",
       "\n",
       "    .dataframe tbody tr th {\n",
       "        vertical-align: top;\n",
       "    }\n",
       "\n",
       "    .dataframe thead th {\n",
       "        text-align: right;\n",
       "    }\n",
       "</style>\n",
       "<table border=\"1\" class=\"dataframe\">\n",
       "  <thead>\n",
       "    <tr style=\"text-align: right;\">\n",
       "      <th></th>\n",
       "      <th>name</th>\n",
       "      <th>abbrv</th>\n",
       "      <th>formula</th>\n",
       "      <th>state</th>\n",
       "      <th>ref1</th>\n",
       "      <th>ref2</th>\n",
       "      <th>date</th>\n",
       "      <th>E_units</th>\n",
       "      <th>G</th>\n",
       "      <th>H</th>\n",
       "      <th>...</th>\n",
       "      <th>Cp</th>\n",
       "      <th>V</th>\n",
       "      <th>a1.a</th>\n",
       "      <th>a2.b</th>\n",
       "      <th>a3.c</th>\n",
       "      <th>a4.d</th>\n",
       "      <th>c1.e</th>\n",
       "      <th>c2.f</th>\n",
       "      <th>omega.lambda</th>\n",
       "      <th>z.T</th>\n",
       "    </tr>\n",
       "  </thead>\n",
       "  <tbody>\n",
       "    <tr>\n",
       "      <th>0</th>\n",
       "      <td>Methyl Pivalate</td>\n",
       "      <td>C6H12O2</td>\n",
       "      <td>C6H12O2</td>\n",
       "      <td>aq</td>\n",
       "      <td>AqOrg</td>\n",
       "      <td>GrpAdd</td>\n",
       "      <td>07/02/2025 15:15:51</td>\n",
       "      <td>J</td>\n",
       "      <td>-328210.0</td>\n",
       "      <td>-541830.0</td>\n",
       "      <td>...</td>\n",
       "      <td>329.867018</td>\n",
       "      <td>119.23</td>\n",
       "      <td>102.270076</td>\n",
       "      <td>65.607595</td>\n",
       "      <td>114.87477</td>\n",
       "      <td>-45.293346</td>\n",
       "      <td>318.563505</td>\n",
       "      <td>4.14832</td>\n",
       "      <td>-0.311926</td>\n",
       "      <td>0</td>\n",
       "    </tr>\n",
       "  </tbody>\n",
       "</table>\n",
       "<p>1 rows × 21 columns</p>\n",
       "</div>"
      ],
      "text/plain": [
       "              name    abbrv  formula state   ref1    ref2  \\\n",
       "0  Methyl Pivalate  C6H12O2  C6H12O2    aq  AqOrg  GrpAdd   \n",
       "\n",
       "                  date E_units         G         H  ...          Cp       V  \\\n",
       "0  07/02/2025 15:15:51       J -328210.0 -541830.0  ...  329.867018  119.23   \n",
       "\n",
       "         a1.a       a2.b       a3.c       a4.d        c1.e     c2.f  \\\n",
       "0  102.270076  65.607595  114.87477 -45.293346  318.563505  4.14832   \n",
       "\n",
       "   omega.lambda  z.T  \n",
       "0     -0.311926    0  \n",
       "\n",
       "[1 rows x 21 columns]"
      ]
     },
     "execution_count": 18,
     "metadata": {},
     "output_type": "execute_result"
    }
   ],
   "source": [
    "est.OBIGT"
   ]
  },
  {
   "cell_type": "markdown",
   "metadata": {},
   "source": [
    "Look up individual parameters."
   ]
  },
  {
   "cell_type": "code",
   "execution_count": 19,
   "metadata": {},
   "outputs": [
    {
     "data": {
      "text/plain": [
       "(329.86701817837815, -0.31192571222502785, -94.95, 5.09)"
      ]
     },
     "execution_count": 19,
     "metadata": {},
     "output_type": "execute_result"
    }
   ],
   "source": [
    "est.Cp, est.omega, est.Sh, est.Sh_err"
   ]
  },
  {
   "cell_type": "markdown",
   "metadata": {},
   "source": [
    "Specify known values for properties and parameters. See which ones can be defined with `help(AqOrg.Estimate)`. Do not show a picture of the molecule with `show=False`."
   ]
  },
  {
   "cell_type": "code",
   "execution_count": 20,
   "metadata": {},
   "outputs": [
    {
     "data": {
      "text/html": [
       "<div>\n",
       "<style scoped>\n",
       "    .dataframe tbody tr th:only-of-type {\n",
       "        vertical-align: middle;\n",
       "    }\n",
       "\n",
       "    .dataframe tbody tr th {\n",
       "        vertical-align: top;\n",
       "    }\n",
       "\n",
       "    .dataframe thead th {\n",
       "        text-align: right;\n",
       "    }\n",
       "</style>\n",
       "<table border=\"1\" class=\"dataframe\">\n",
       "  <thead>\n",
       "    <tr style=\"text-align: right;\">\n",
       "      <th></th>\n",
       "      <th>name</th>\n",
       "      <th>abbrv</th>\n",
       "      <th>formula</th>\n",
       "      <th>state</th>\n",
       "      <th>ref1</th>\n",
       "      <th>ref2</th>\n",
       "      <th>date</th>\n",
       "      <th>E_units</th>\n",
       "      <th>G</th>\n",
       "      <th>H</th>\n",
       "      <th>...</th>\n",
       "      <th>Cp</th>\n",
       "      <th>V</th>\n",
       "      <th>a1.a</th>\n",
       "      <th>a2.b</th>\n",
       "      <th>a3.c</th>\n",
       "      <th>a4.d</th>\n",
       "      <th>c1.e</th>\n",
       "      <th>c2.f</th>\n",
       "      <th>omega.lambda</th>\n",
       "      <th>z.T</th>\n",
       "    </tr>\n",
       "  </thead>\n",
       "  <tbody>\n",
       "    <tr>\n",
       "      <th>0</th>\n",
       "      <td>pentanol</td>\n",
       "      <td>C5H12O</td>\n",
       "      <td>C5H12O</td>\n",
       "      <td>aq</td>\n",
       "      <td>AqOrg</td>\n",
       "      <td>GrpAdd</td>\n",
       "      <td>07/02/2025 15:15:51</td>\n",
       "      <td>J</td>\n",
       "      <td>-156710.0</td>\n",
       "      <td>-359110.0</td>\n",
       "      <td>...</td>\n",
       "      <td>535.0</td>\n",
       "      <td>102.11</td>\n",
       "      <td>85.837993</td>\n",
       "      <td>60.710613</td>\n",
       "      <td>100.361467</td>\n",
       "      <td>-39.623208</td>\n",
       "      <td>505.369346</td>\n",
       "      <td>11.96761</td>\n",
       "      <td>-0.576511</td>\n",
       "      <td>0</td>\n",
       "    </tr>\n",
       "  </tbody>\n",
       "</table>\n",
       "<p>1 rows × 21 columns</p>\n",
       "</div>"
      ],
      "text/plain": [
       "       name   abbrv formula state   ref1    ref2                 date E_units  \\\n",
       "0  pentanol  C5H12O  C5H12O    aq  AqOrg  GrpAdd  07/02/2025 15:15:51       J   \n",
       "\n",
       "          G         H  ...     Cp       V       a1.a       a2.b        a3.c  \\\n",
       "0 -156710.0 -359110.0  ...  535.0  102.11  85.837993  60.710613  100.361467   \n",
       "\n",
       "        a4.d        c1.e      c2.f  omega.lambda  z.T  \n",
       "0 -39.623208  505.369346  11.96761     -0.576511    0  \n",
       "\n",
       "[1 rows x 21 columns]"
      ]
     },
     "execution_count": 20,
     "metadata": {},
     "output_type": "execute_result"
    }
   ],
   "source": [
    "pentanol = Estimate(\"pentanol\", Gh=-11.11, Hig=-294.56, Cpaq=535, show=False)\n",
    "pentanol.OBIGT"
   ]
  },
  {
   "cell_type": "markdown",
   "metadata": {},
   "source": [
    "Perform simple group matching with `test=True`."
   ]
  },
  {
   "cell_type": "code",
   "execution_count": 21,
   "metadata": {},
   "outputs": [
    {
     "name": "stdout",
     "output_type": "stream",
     "text": [
      "{'[C!H3]-[CX4H3R0]': 1, 'C-[CX4H2R0]-C': 3, 'O-[CX4H2]-C': 1, 'C-[OX2H]': 1, 'formula': 'C5H12O'}\n"
     ]
    },
    {
     "data": {
      "text/plain": [
       "<AqOrg.AqOrg.Estimate at 0x7f756be88b50>"
      ]
     },
     "execution_count": 21,
     "metadata": {},
     "output_type": "execute_result"
    }
   ],
   "source": [
    "Estimate(\"pentanol\", test=True, show=False)"
   ]
  },
  {
   "cell_type": "markdown",
   "metadata": {},
   "source": [
    "### Multi-compound estimation"
   ]
  },
  {
   "cell_type": "code",
   "execution_count": 22,
   "metadata": {},
   "outputs": [
    {
     "data": {
      "text/html": [
       "<div>\n",
       "<style scoped>\n",
       "    .dataframe tbody tr th:only-of-type {\n",
       "        vertical-align: middle;\n",
       "    }\n",
       "\n",
       "    .dataframe tbody tr th {\n",
       "        vertical-align: top;\n",
       "    }\n",
       "\n",
       "    .dataframe thead th {\n",
       "        text-align: right;\n",
       "    }\n",
       "</style>\n",
       "<table border=\"1\" class=\"dataframe\">\n",
       "  <thead>\n",
       "    <tr style=\"text-align: right;\">\n",
       "      <th></th>\n",
       "      <th>name</th>\n",
       "      <th>abbrv</th>\n",
       "      <th>formula</th>\n",
       "      <th>state</th>\n",
       "      <th>ref1</th>\n",
       "      <th>ref2</th>\n",
       "      <th>date</th>\n",
       "      <th>E_units</th>\n",
       "      <th>G</th>\n",
       "      <th>H</th>\n",
       "      <th>...</th>\n",
       "      <th>Cp</th>\n",
       "      <th>V</th>\n",
       "      <th>a1.a</th>\n",
       "      <th>a2.b</th>\n",
       "      <th>a3.c</th>\n",
       "      <th>a4.d</th>\n",
       "      <th>c1.e</th>\n",
       "      <th>c2.f</th>\n",
       "      <th>omega.lambda</th>\n",
       "      <th>z.T</th>\n",
       "    </tr>\n",
       "  </thead>\n",
       "  <tbody>\n",
       "    <tr>\n",
       "      <th>0</th>\n",
       "      <td>pentanol</td>\n",
       "      <td>C5H12O</td>\n",
       "      <td>C5H12O</td>\n",
       "      <td>aq</td>\n",
       "      <td>AqOrg</td>\n",
       "      <td>GrpAdd</td>\n",
       "      <td>07/02/2025 15:15:52</td>\n",
       "      <td>J</td>\n",
       "      <td>-156580.0</td>\n",
       "      <td>-363310.0</td>\n",
       "      <td>...</td>\n",
       "      <td>528.305433</td>\n",
       "      <td>102.11</td>\n",
       "      <td>85.813330</td>\n",
       "      <td>60.774463</td>\n",
       "      <td>100.419070</td>\n",
       "      <td>-39.642369</td>\n",
       "      <td>498.412926</td>\n",
       "      <td>12.07798</td>\n",
       "      <td>-0.580589</td>\n",
       "      <td>0</td>\n",
       "    </tr>\n",
       "    <tr>\n",
       "      <th>1</th>\n",
       "      <td>hexanol</td>\n",
       "      <td>C6H14O</td>\n",
       "      <td>C6H14O</td>\n",
       "      <td>aq</td>\n",
       "      <td>AqOrg</td>\n",
       "      <td>GrpAdd</td>\n",
       "      <td>07/02/2025 15:15:53</td>\n",
       "      <td>J</td>\n",
       "      <td>-147480.0</td>\n",
       "      <td>-387470.0</td>\n",
       "      <td>...</td>\n",
       "      <td>613.200273</td>\n",
       "      <td>117.72</td>\n",
       "      <td>98.783255</td>\n",
       "      <td>70.450358</td>\n",
       "      <td>119.933082</td>\n",
       "      <td>-46.711667</td>\n",
       "      <td>581.936497</td>\n",
       "      <td>12.65530</td>\n",
       "      <td>-0.602091</td>\n",
       "      <td>0</td>\n",
       "    </tr>\n",
       "    <tr>\n",
       "      <th>2</th>\n",
       "      <td>heptanol</td>\n",
       "      <td>C7H16O</td>\n",
       "      <td>C7H16O</td>\n",
       "      <td>aq</td>\n",
       "      <td>AqOrg</td>\n",
       "      <td>GrpAdd</td>\n",
       "      <td>07/02/2025 15:15:54</td>\n",
       "      <td>J</td>\n",
       "      <td>-138380.0</td>\n",
       "      <td>-411630.0</td>\n",
       "      <td>...</td>\n",
       "      <td>698.095114</td>\n",
       "      <td>133.33</td>\n",
       "      <td>111.713735</td>\n",
       "      <td>80.228368</td>\n",
       "      <td>139.740061</td>\n",
       "      <td>-53.857142</td>\n",
       "      <td>665.457379</td>\n",
       "      <td>13.23262</td>\n",
       "      <td>-0.623885</td>\n",
       "      <td>0</td>\n",
       "    </tr>\n",
       "  </tbody>\n",
       "</table>\n",
       "<p>3 rows × 21 columns</p>\n",
       "</div>"
      ],
      "text/plain": [
       "       name   abbrv formula state   ref1    ref2                 date E_units  \\\n",
       "0  pentanol  C5H12O  C5H12O    aq  AqOrg  GrpAdd  07/02/2025 15:15:52       J   \n",
       "1   hexanol  C6H14O  C6H14O    aq  AqOrg  GrpAdd  07/02/2025 15:15:53       J   \n",
       "2  heptanol  C7H16O  C7H16O    aq  AqOrg  GrpAdd  07/02/2025 15:15:54       J   \n",
       "\n",
       "          G         H  ...          Cp       V        a1.a       a2.b  \\\n",
       "0 -156580.0 -363310.0  ...  528.305433  102.11   85.813330  60.774463   \n",
       "1 -147480.0 -387470.0  ...  613.200273  117.72   98.783255  70.450358   \n",
       "2 -138380.0 -411630.0  ...  698.095114  133.33  111.713735  80.228368   \n",
       "\n",
       "         a3.c       a4.d        c1.e      c2.f  omega.lambda  z.T  \n",
       "0  100.419070 -39.642369  498.412926  12.07798     -0.580589    0  \n",
       "1  119.933082 -46.711667  581.936497  12.65530     -0.602091    0  \n",
       "2  139.740061 -53.857142  665.457379  13.23262     -0.623885    0  \n",
       "\n",
       "[3 rows x 21 columns]"
      ]
     },
     "execution_count": 22,
     "metadata": {},
     "output_type": "execute_result"
    }
   ],
   "source": [
    "import pandas as pd\n",
    "mols = [\"pentanol\", \"hexanol\", \"heptanol\"]\n",
    "OBIGT = pd.DataFrame()\n",
    "for mol in mols:\n",
    "    OBIGT = pd.concat([OBIGT, Estimate(mol, show=False).OBIGT], ignore_index=True)\n",
    "OBIGT"
   ]
  },
  {
   "cell_type": "markdown",
   "metadata": {},
   "source": [
    "### Load a custom table of group contribution values\n",
    "\n",
    "AqOrg has a built-in table of group contribution values. If you want to replace it with your own custom table, specify the filename of your CSV table in ```group_data```. In this example, custom_groups.csv is no different than the default database so you should not expect the estimated values to be any different than before."
   ]
  },
  {
   "cell_type": "code",
   "execution_count": 23,
   "metadata": {},
   "outputs": [
    {
     "data": {
      "text/html": [
       "<div>\n",
       "<style scoped>\n",
       "    .dataframe tbody tr th:only-of-type {\n",
       "        vertical-align: middle;\n",
       "    }\n",
       "\n",
       "    .dataframe tbody tr th {\n",
       "        vertical-align: top;\n",
       "    }\n",
       "\n",
       "    .dataframe thead th {\n",
       "        text-align: right;\n",
       "    }\n",
       "</style>\n",
       "<table border=\"1\" class=\"dataframe\">\n",
       "  <thead>\n",
       "    <tr style=\"text-align: right;\">\n",
       "      <th></th>\n",
       "      <th>name</th>\n",
       "      <th>abbrv</th>\n",
       "      <th>formula</th>\n",
       "      <th>state</th>\n",
       "      <th>ref1</th>\n",
       "      <th>ref2</th>\n",
       "      <th>date</th>\n",
       "      <th>E_units</th>\n",
       "      <th>G</th>\n",
       "      <th>H</th>\n",
       "      <th>...</th>\n",
       "      <th>Cp</th>\n",
       "      <th>V</th>\n",
       "      <th>a1.a</th>\n",
       "      <th>a2.b</th>\n",
       "      <th>a3.c</th>\n",
       "      <th>a4.d</th>\n",
       "      <th>c1.e</th>\n",
       "      <th>c2.f</th>\n",
       "      <th>omega.lambda</th>\n",
       "      <th>z.T</th>\n",
       "    </tr>\n",
       "  </thead>\n",
       "  <tbody>\n",
       "    <tr>\n",
       "      <th>0</th>\n",
       "      <td>pentanol</td>\n",
       "      <td>C5H12O</td>\n",
       "      <td>C5H12O</td>\n",
       "      <td>aq</td>\n",
       "      <td>AqOrg</td>\n",
       "      <td>GrpAdd</td>\n",
       "      <td>07/02/2025 15:15:54</td>\n",
       "      <td>J</td>\n",
       "      <td>-156580.0</td>\n",
       "      <td>-363310.0</td>\n",
       "      <td>...</td>\n",
       "      <td>528.305433</td>\n",
       "      <td>102.11</td>\n",
       "      <td>85.81333</td>\n",
       "      <td>60.774463</td>\n",
       "      <td>100.41907</td>\n",
       "      <td>-39.642369</td>\n",
       "      <td>498.412926</td>\n",
       "      <td>12.07798</td>\n",
       "      <td>-0.580589</td>\n",
       "      <td>0</td>\n",
       "    </tr>\n",
       "  </tbody>\n",
       "</table>\n",
       "<p>1 rows × 21 columns</p>\n",
       "</div>"
      ],
      "text/plain": [
       "       name   abbrv formula state   ref1    ref2                 date E_units  \\\n",
       "0  pentanol  C5H12O  C5H12O    aq  AqOrg  GrpAdd  07/02/2025 15:15:54       J   \n",
       "\n",
       "          G         H  ...          Cp       V      a1.a       a2.b  \\\n",
       "0 -156580.0 -363310.0  ...  528.305433  102.11  85.81333  60.774463   \n",
       "\n",
       "        a3.c       a4.d        c1.e      c2.f  omega.lambda  z.T  \n",
       "0  100.41907 -39.642369  498.412926  12.07798     -0.580589    0  \n",
       "\n",
       "[1 rows x 21 columns]"
      ]
     },
     "execution_count": 23,
     "metadata": {},
     "output_type": "execute_result"
    }
   ],
   "source": [
    "pentanol = Estimate(\"pentanol\", group_data=\"custom_groups.csv\", show=False)\n",
    "pentanol.OBIGT"
   ]
  },
  {
   "cell_type": "code",
   "execution_count": null,
   "metadata": {},
   "outputs": [],
   "source": []
  }
 ],
 "metadata": {
  "kernelspec": {
   "display_name": "Python 3",
   "language": "python",
   "name": "python3"
  },
  "language_info": {
   "codemirror_mode": {
    "name": "ipython",
    "version": 3
   },
   "file_extension": ".py",
   "mimetype": "text/x-python",
   "name": "python",
   "nbconvert_exporter": "python",
   "pygments_lexer": "ipython3",
   "version": "3.10.12"
  }
 },
 "nbformat": 4,
 "nbformat_minor": 4
}
