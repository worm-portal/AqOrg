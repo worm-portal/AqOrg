{
 "cells": [
  {
   "cell_type": "code",
   "execution_count": 1,
   "metadata": {},
   "outputs": [],
   "source": [
    "from AqOrg import find_HKF, find_HKF_test\n",
    "from pyCHNOSZ import *\n",
    "import pandas as pd"
   ]
  },
  {
   "cell_type": "code",
   "execution_count": 2,
   "metadata": {},
   "outputs": [
    {
     "name": "stdout",
     "output_type": "stream",
     "text": [
      "eta = 166027.0 (angstroms*cal/mol), YBorn = -5.81e-05 (1/K), QBorn = 5.9e-07 (1/bar), XBorn = -3.09e-07 (1/K**2)\n",
      "\n",
      "abs_protonBorn = (0.5387 * 10**5), mentioned in text after Eq 47 in Shock and Helgeson 1988\n",
      "\n",
      "Gh is not provided and charge equals zero so estimate omega for neutral solutes from Shock and Helgeson 1990...\n",
      "HKFomega = (10**-5)*((-1514.4*(Saq/4.184)) + (0.34*10**5))*4.184, Eq 61 in Shock and Helgeson 1990, omega*10**-5 (j/mol)\n",
      "\n",
      "V_solv = -(HKFomega/10**-5)*QBorn*10, Eq 5 in Shock and Helgeson 1988, along with a conversion of 10 cm3 = 1 joule/bar, delta V solvation (cm3/mol)\n",
      "\n",
      "V_nonsolv = V - V_solv, Eq 4 in Shock and Helgeson 1988, delta V nonsolvation (cm3/mol)\n",
      "\n",
      "HKFsigma = 1.11*V_nonsolv + 1.8, Eq 87 in Shock and Helgeson, sigma (cm3/mol)\n",
      "\n",
      "cp_solv = ((HKFomega/10**-5)*298.15*XBorn), Eq 35 in Shock and Helgeson 1988, dCpsolv = omega*T*X, delta Cp solvation (J/mol*K)\n",
      "\n",
      "cp_nonsolv = Cp - cp_solv, Eq 29 in Shock and Helgeson 1988, delta Cp nonsolvation (J/mol*K)\n",
      "\n",
      "Gh is unavailable and/or charge is not 0, so estimate a2, a4 from Shock and Helgeson 1988, and a1 from Sverjensky et al 2014\n",
      "HKFa1 = (0.1942*V_nonsolv + 1.52)*4.184, Eq 16 in Sverjensky et al 2014, after Plyasunov and Shock 2001, converted to J/mol*bar, a1*10 (j/mol*bar)\n",
      "\n",
      "HKFa2 = (10**-2)*(((HKFsigma/41.84) - ((HKFa1/10)/4.184))/(1/(2601)))*4.184, Eq 8 in Shock and Helgeson 1988, rearranged to solve for a2*10**-2 (j/mol). Sigma is divided by 41.84 due to the conversion of 41.84 cm3 = cal/bar\n",
      "\n",
      "HKFa4 = (10**-4)*(-4.134*(HKFa2/4.184)-27790)*4.184, Eq 88 in Shock and Helgeson 1988, a4*10**-4 (j*K/mol)\n",
      "\n",
      "HKFc2 = (0.2037*(Cp/4.184) - 3.0346)*4.184, Eq 89 in Shock and Helgeson 1988, c2*10**-4 (j*K/mol)\n",
      "\n",
      "HKFc1 = cp_nonsolv-(((HKFc2)/10**-4)*(1/(298.15-228))**2), Eq 31 in Shock and Helgeson 1988, rearranged to solve for c1 (j/mol*K)\n",
      "\n",
      "HKFa3 = (((V/10)-(HKFa1/10)-((HKFa2/10**-2)/2601) + ((HKFomega/10**-5)*QBorn))/(1/(298.15-228)))-((HKFa4/10**-4)/2601), Eq 11 in Shock and Helgeson 1988, rearranged to solve for a3 (j*K/mol*bar). V is divided by 10 due to the conversion of 10 cm3 = J/bar\n",
      "\n"
     ]
    },
    {
     "data": {
      "text/plain": [
       "{'G': 4657.999999999999,\n",
       " 'H': -150.0,\n",
       " 'S': 14.02,\n",
       " 'Cp': 37.3,\n",
       " 'V': 13,\n",
       " 'a1': 4.105809607785035,\n",
       " 'a2': -0.3722763045797879,\n",
       " 'a3': 5.210131128116072,\n",
       " 'a4': -2.7788461009756866,\n",
       " 'c1': 29.203008738638708,\n",
       " 'c2': 4.563409999999999,\n",
       " 'omega': 0.12768112,\n",
       " 'Z': 0,\n",
       " 'Vsolv': -0.3151885055872,\n",
       " 'Vnonsolv': 13.3151885055872,\n",
       " 'sigma': 16.57985924120179}"
      ]
     },
     "execution_count": 2,
     "metadata": {},
     "output_type": "execute_result"
    }
   ],
   "source": [
    "# He \n",
    "find_HKF(Gf=(4658*4.184)/1000,\n",
    "        Hf=(-150*4.184)/1000,\n",
    "        Saq=14.02*4.184,\n",
    "        Cp=37.3*4.184,\n",
    "        V=13,\n",
    "        charge=0,\n",
    "        J_to_cal=True, print_eq=True)"
   ]
  },
  {
   "cell_type": "code",
   "execution_count": 2,
   "metadata": {},
   "outputs": [
    {
     "ename": "UnboundLocalError",
     "evalue": "local variable 'HKFa1' referenced before assignment",
     "output_type": "error",
     "traceback": [
      "\u001b[0;31m---------------------------------------------------------------------------\u001b[0m",
      "\u001b[0;31mUnboundLocalError\u001b[0m                         Traceback (most recent call last)",
      "\u001b[0;32m<ipython-input-2-8675f01628a0>\u001b[0m in \u001b[0;36m<module>\u001b[0;34m\u001b[0m\n\u001b[1;32m      6\u001b[0m         \u001b[0mV\u001b[0m\u001b[0;34m=\u001b[0m\u001b[0;36m46.5\u001b[0m\u001b[0;34m,\u001b[0m\u001b[0;34m\u001b[0m\u001b[0m\n\u001b[1;32m      7\u001b[0m         \u001b[0mcharge\u001b[0m\u001b[0;34m=\u001b[0m\u001b[0;36m0\u001b[0m\u001b[0;34m,\u001b[0m\u001b[0;34m\u001b[0m\u001b[0m\n\u001b[0;32m----> 8\u001b[0;31m         J_to_cal=True, print_eq=False)\n\u001b[0m",
      "\u001b[0;32m/var/lib/private/gmboyer/AqOrg-dev/AqOrg/AqOrg.py\u001b[0m in \u001b[0;36mfind_HKF\u001b[0;34m(Gh, V, Cp, Gf, Hf, Saq, charge, J_to_cal, print_eq)\u001b[0m\n\u001b[1;32m    254\u001b[0m     \u001b[0;31m# find a3 (j*K/mol*bar)\u001b[0m\u001b[0;34m\u001b[0m\u001b[0;34m\u001b[0m\u001b[0m\n\u001b[1;32m    255\u001b[0m     \u001b[0;31m# Eq 11 in Shock and Helgeson 1988, rearranged to solve for a3. V is divided by 10 due to the conversion of 10 cm3 = J/bar\u001b[0m\u001b[0;34m\u001b[0m\u001b[0;34m\u001b[0m\u001b[0m\n\u001b[0;32m--> 256\u001b[0;31m     HKFa3 = (((V/10)-(HKFa1/10)-((HKFa2/10**-2)/2601) +\n\u001b[0m\u001b[1;32m    257\u001b[0m             ((HKFomega/10**-5)*QBorn))/(1/(298.15-228)))-((HKFa4/10**-4)/2601)\n\u001b[1;32m    258\u001b[0m     \u001b[0;32mif\u001b[0m \u001b[0mprint_eq\u001b[0m\u001b[0;34m:\u001b[0m\u001b[0;34m\u001b[0m\u001b[0m\n",
      "\u001b[0;31mUnboundLocalError\u001b[0m: local variable 'HKFa1' referenced before assignment"
     ]
    }
   ],
   "source": [
    "# H2S2\n",
    "find_HKF(Gf=(-2160*4.184)/1000,\n",
    "        Hf=(-2740*4.184)/1000,\n",
    "        Saq=44.5*4.184,\n",
    "        Cp=24.8*4.184,\n",
    "        V=46.5,\n",
    "        charge=0,\n",
    "        J_to_cal=True, print_eq=False)"
   ]
  },
  {
   "cell_type": "code",
   "execution_count": null,
   "metadata": {},
   "outputs": [],
   "source": [
    "#find_HKF_test()"
   ]
  },
  {
   "cell_type": "code",
   "execution_count": null,
   "metadata": {},
   "outputs": [],
   "source": [
    "df_imported = pd.read_csv(\"sulfides_input.csv\")\n",
    "df_imported.shape"
   ]
  },
  {
   "cell_type": "code",
   "execution_count": null,
   "metadata": {},
   "outputs": [],
   "source": [
    "for row in range(0, df_imported.shape[0]):\n",
    "    metadata_dict = {\"name\":df_imported.loc[row, \"name\"], \"abbrv\":df_imported.loc[row, \"abbrv\"],\n",
    "                     \"formula\":df_imported.loc[row, \"formula\"],\n",
    "                     \"state\":df_imported.loc[row, \"state\"], \"ref1\":df_imported.loc[row, \"ref1\"],\n",
    "                     \"ref2\":df_imported.loc[row, \"ref2\"], \"E_units\":df_imported.loc[row, \"E_units\"]}\n",
    "\n",
    "    HKF_dict = find_HKF(Gf=(df_imported.loc[row, \"G\"]*4.184)/1000,\n",
    "                        Hf=(df_imported.loc[row, \"H\"]*4.184)/1000,\n",
    "                        Saq=df_imported.loc[row, \"S\"]*4.184,\n",
    "                        Cp=df_imported.loc[row, \"Cp\"]*4.184,\n",
    "                        V=df_imported.loc[row, \"V\"],\n",
    "                        charge=df_imported.loc[row, \"Z\"],\n",
    "                        J_to_cal=True, print_eq=False)\n",
    "\n",
    "\n",
    "    metadata_dict.update(HKF_dict)\n",
    "\n",
    "    [metadata_dict.pop(key) for key in [\"Vsolv\", \"Vnonsolv\", \"sigma\"]]\n",
    "\n",
    "    df = pd.DataFrame(metadata_dict, index=[0])\n",
    "\n",
    "    df = df.rename(columns={\"a1\": \"a1.a\", \"a2\": \"a2.b\", \"a3\":\"a3.c\", \"a4\":\"a4.d\", \"c1\":\"c1.e\", \"c2\":\"c2.f\", \"omega\":\"omega.lambda\", \"Z\":\"z.T\"})\n",
    "\n",
    "    mod_OBIGT(df)"
   ]
  },
  {
   "cell_type": "code",
   "execution_count": null,
   "metadata": {},
   "outputs": [],
   "source": []
  },
  {
   "cell_type": "code",
   "execution_count": null,
   "metadata": {},
   "outputs": [],
   "source": [
    "info([51, 3444])"
   ]
  },
  {
   "cell_type": "code",
   "execution_count": null,
   "metadata": {},
   "outputs": [],
   "source": []
  }
 ],
 "metadata": {
  "kernelspec": {
   "display_name": "Python 3",
   "language": "python",
   "name": "python3"
  },
  "language_info": {
   "codemirror_mode": {
    "name": "ipython",
    "version": 3
   },
   "file_extension": ".py",
   "mimetype": "text/x-python",
   "name": "python",
   "nbconvert_exporter": "python",
   "pygments_lexer": "ipython3",
   "version": "3.7.0"
  }
 },
 "nbformat": 4,
 "nbformat_minor": 4
}
