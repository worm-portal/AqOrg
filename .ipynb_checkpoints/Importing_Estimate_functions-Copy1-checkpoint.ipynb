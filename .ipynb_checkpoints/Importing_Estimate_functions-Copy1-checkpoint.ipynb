{
 "cells": [
  {
   "cell_type": "code",
   "execution_count": 1,
   "id": "fbddc86f-32a1-4ca0-9f7b-53c5104436cb",
   "metadata": {},
   "outputs": [
    {
     "name": "stderr",
     "output_type": "stream",
     "text": [
      "/opt/worm_venvs/python3dev/lib/python3.10/site-packages/pubchempy.py:563: SyntaxWarning: \"is not\" with a literal. Did you mean \"!=\"?\n",
      "  if self.charge is not 0:\n"
     ]
    }
   ],
   "source": [
    "# the stuff in this cell goes in your script\n",
    "from AqOrg import Estimate\n",
    "\n",
    "class Regress(Estimate):\n",
    "    def __init__(self, name=None, smiles=None, group_data=None, state=\"aq\"):\n",
    "\n",
    "        self.name = name\n",
    "        self.smiles = smiles\n",
    "        self.state = state\n",
    "        self.group_data = group_data\n",
    "\n",
    "        self.load_group_data()\n",
    "        self.get_mol_smiles_formula_formula_dict()"
   ]
  },
  {
   "cell_type": "code",
   "execution_count": 2,
   "id": "f7ea9c30-b5fd-4ed7-bb4a-9e53f4b95143",
   "metadata": {},
   "outputs": [
    {
     "data": {
      "text/plain": [
       "'C4H10'"
      ]
     },
     "execution_count": 2,
     "metadata": {},
     "output_type": "execute_result"
    }
   ],
   "source": [
    "# testing that it works in a notebook\n",
    "\n",
    "# trying out butane's smiles\n",
    "r = Regress(smiles=\"CCCC\")\n",
    "r.dict_to_formula(formula_dict={\"C\":4.0, \"H\":10.0})"
   ]
  },
  {
   "cell_type": "code",
   "execution_count": 3,
   "id": "609b8339-5856-4161-affb-7bd6f0921a4a",
   "metadata": {},
   "outputs": [
    {
     "data": {
      "image/svg+xml": [
       "<svg xmlns=\"http://www.w3.org/2000/svg\" xmlns:rdkit=\"http://www.rdkit.org/xml\" xmlns:xlink=\"http://www.w3.org/1999/xlink\" version=\"1.1\" baseProfile=\"full\" xml:space=\"preserve\" width=\"450px\" height=\"150px\" viewBox=\"0 0 450 150\">\n",
       "<!-- END OF HEADER -->\n",
       "<rect style=\"opacity:1.0;fill:#FFFFFF;stroke:none\" width=\"450.0\" height=\"150.0\" x=\"0.0\" y=\"0.0\"> </rect>\n",
       "<path class=\"bond-0 atom-0 atom-1\" d=\"M 22.5,89.0 L 163.7,28.9\" style=\"fill:none;fill-rule:evenodd;stroke:#000000;stroke-width:2.0px;stroke-linecap:butt;stroke-linejoin:miter;stroke-opacity:1\"/>\n",
       "<path class=\"bond-1 atom-1 atom-2\" d=\"M 163.7,28.9 L 286.3,121.1\" style=\"fill:none;fill-rule:evenodd;stroke:#000000;stroke-width:2.0px;stroke-linecap:butt;stroke-linejoin:miter;stroke-opacity:1\"/>\n",
       "<path class=\"bond-2 atom-2 atom-3\" d=\"M 286.3,121.1 L 427.5,61.0\" style=\"fill:none;fill-rule:evenodd;stroke:#000000;stroke-width:2.0px;stroke-linecap:butt;stroke-linejoin:miter;stroke-opacity:1\"/>\n",
       "<path d=\"M 156.6,31.9 L 163.7,28.9 L 169.8,33.5\" style=\"fill:none;stroke:#000000;stroke-width:2.0px;stroke-linecap:butt;stroke-linejoin:miter;stroke-opacity:1;\"/>\n",
       "<path d=\"M 280.2,116.5 L 286.3,121.1 L 293.4,118.1\" style=\"fill:none;stroke:#000000;stroke-width:2.0px;stroke-linecap:butt;stroke-linejoin:miter;stroke-opacity:1;\"/>\n",
       "</svg>"
      ],
      "text/plain": [
       "<IPython.core.display.SVG object>"
      ]
     },
     "metadata": {},
     "output_type": "display_data"
    }
   ],
   "source": [
    "r.display_molecule()"
   ]
  },
  {
   "cell_type": "code",
   "execution_count": 4,
   "id": "a26b3b74-f948-41de-a318-b68ffeb24d61",
   "metadata": {},
   "outputs": [
    {
     "data": {
      "text/plain": [
       "{'Yo': 0,\n",
       " '[C!H3]-[CX4H3R0]': 2,\n",
       " '[CX4H3R0]-O': 0,\n",
       " 'C-[CX4H2R0]-C': 2,\n",
       " 'C-[CX4H1R0](-C)-C': 0,\n",
       " 'C-[CX4H0R0](-C)(-C)-C': 0,\n",
       " 'O-[CX4H2]-C': 0,\n",
       " 'C-[CX4H1](-C)[OH]': 0,\n",
       " 'C-[CX4H0](-C)(-C)[OH]': 0,\n",
       " 'C-[OX2H]': 0,\n",
       " 'C-[C](-C)=O': 0,\n",
       " 'C-[CH2]-C=O': 0,\n",
       " 'C-[CH](-C)-C=O': 0,\n",
       " 'C-[C](-C)(-C)-C=O': 0,\n",
       " 'C-[C](=O)-O-C': 0,\n",
       " '[CH](=O)-OC': 0,\n",
       " 'O=C-O-[CX4H1](-C)-C': 0,\n",
       " 'O=C-O-[CX4H0](-C)(-C)-C': 0,\n",
       " 'S-[CH2]-C': 0,\n",
       " 'S-[CH](-C)-C': 0,\n",
       " 'S-[C](-C)(-C)-C': 0,\n",
       " 'C-[SX2H1]': 0,\n",
       " 'C-[SX2]-C': 0,\n",
       " 'S-[S]-C': 0,\n",
       " 'S-[S]-S': 0,\n",
       " 'C-[CX4H1](-O-C)-C': 0,\n",
       " 'C-O-[CX4H0](-C)(-C)-C': 0,\n",
       " 'C-[OX2]-C': 0,\n",
       " 'O-[CH2]-O': 0,\n",
       " 'O-[CH](-C)-O': 0,\n",
       " '[O](-C[CH3])-C[CH2]': 0,\n",
       " 'O-[CH2]-[CH2]-O': 0,\n",
       " 'N#C-[CH2]-C': 0,\n",
       " 'N#C-[CH](-C)-C': 0,\n",
       " 'C-[CX2H0]#N': 0,\n",
       " '[CH2](-[CH2]-C#N)-C#N': 0,\n",
       " '[CH2](-[CH2]-[CH2]-C#N)-C#N': 0,\n",
       " '[CR0H0]=[CR0H0]': 0,\n",
       " '[CR0H1]=[CR0H0]': 0,\n",
       " '[CR0H1]=[CR0H1]': 0,\n",
       " '[CR0H1]=[CR0H2]': 0,\n",
       " '[CR0H0]=[CR0H2]': 0,\n",
       " 'C-[CX4H2R]-C': 0,\n",
       " 'C-[CX4H1R](-C)-C': 0,\n",
       " 'C-[CX4H0R](-C)(-C)-C': 0,\n",
       " '[CRH0]=[CRH0]': 0,\n",
       " '[CRH1]=[CRH0]': 0,\n",
       " '[CRH1]=[CRH1]': 0,\n",
       " '[cH1]': 0,\n",
       " '[cH0]': 0,\n",
       " 'formula': 'C4H10'}"
      ]
     },
     "execution_count": 4,
     "metadata": {},
     "output_type": "execute_result"
    }
   ],
   "source": [
    "r.match_groups()"
   ]
  },
  {
   "cell_type": "code",
   "execution_count": 5,
   "id": "8c7ccca5-d9dc-4b3e-8a5f-f2bf052e3c1d",
   "metadata": {},
   "outputs": [
    {
     "data": {
      "image/svg+xml": [
       "<svg xmlns=\"http://www.w3.org/2000/svg\" xmlns:rdkit=\"http://www.rdkit.org/xml\" xmlns:xlink=\"http://www.w3.org/1999/xlink\" version=\"1.1\" baseProfile=\"full\" xml:space=\"preserve\" width=\"450px\" height=\"150px\" viewBox=\"0 0 450 150\">\n",
       "<!-- END OF HEADER -->\n",
       "<rect style=\"opacity:1.0;fill:#FFFFFF;stroke:none\" width=\"450.0\" height=\"150.0\" x=\"0.0\" y=\"0.0\"> </rect>\n",
       "<path class=\"bond-0 atom-0 atom-1\" d=\"M 22.5,87.8 L 85.2,51.5\" style=\"fill:none;fill-rule:evenodd;stroke:#000000;stroke-width:2.0px;stroke-linecap:butt;stroke-linejoin:miter;stroke-opacity:1\"/>\n",
       "<path class=\"bond-1 atom-1 atom-2\" d=\"M 85.2,51.5 L 147.9,87.8\" style=\"fill:none;fill-rule:evenodd;stroke:#000000;stroke-width:2.0px;stroke-linecap:butt;stroke-linejoin:miter;stroke-opacity:1\"/>\n",
       "<path class=\"bond-2 atom-2 atom-3\" d=\"M 147.9,87.8 L 210.7,51.5\" style=\"fill:none;fill-rule:evenodd;stroke:#000000;stroke-width:2.0px;stroke-linecap:butt;stroke-linejoin:miter;stroke-opacity:1\"/>\n",
       "<path class=\"bond-3 atom-3 atom-4\" d=\"M 210.7,51.5 L 273.4,87.8\" style=\"fill:none;fill-rule:evenodd;stroke:#000000;stroke-width:2.0px;stroke-linecap:butt;stroke-linejoin:miter;stroke-opacity:1\"/>\n",
       "<path class=\"bond-4 atom-4 atom-5\" d=\"M 273.4,87.8 L 336.1,51.5\" style=\"fill:none;fill-rule:evenodd;stroke:#000000;stroke-width:2.0px;stroke-linecap:butt;stroke-linejoin:miter;stroke-opacity:1\"/>\n",
       "<path class=\"bond-5 atom-5 atom-6\" d=\"M 336.1,51.5 L 361.6,66.2\" style=\"fill:none;fill-rule:evenodd;stroke:#000000;stroke-width:2.0px;stroke-linecap:butt;stroke-linejoin:miter;stroke-opacity:1\"/>\n",
       "<path class=\"bond-5 atom-5 atom-6\" d=\"M 361.6,66.2 L 387.0,80.9\" style=\"fill:none;fill-rule:evenodd;stroke:#FF0000;stroke-width:2.0px;stroke-linecap:butt;stroke-linejoin:miter;stroke-opacity:1\"/>\n",
       "<path d=\"M 82.1,53.4 L 85.2,51.5 L 88.4,53.4\" style=\"fill:none;stroke:#000000;stroke-width:2.0px;stroke-linecap:butt;stroke-linejoin:miter;stroke-opacity:1;\"/>\n",
       "<path d=\"M 144.8,86.0 L 147.9,87.8 L 151.1,86.0\" style=\"fill:none;stroke:#000000;stroke-width:2.0px;stroke-linecap:butt;stroke-linejoin:miter;stroke-opacity:1;\"/>\n",
       "<path d=\"M 207.5,53.4 L 210.7,51.5 L 213.8,53.4\" style=\"fill:none;stroke:#000000;stroke-width:2.0px;stroke-linecap:butt;stroke-linejoin:miter;stroke-opacity:1;\"/>\n",
       "<path d=\"M 270.3,86.0 L 273.4,87.8 L 276.5,86.0\" style=\"fill:none;stroke:#000000;stroke-width:2.0px;stroke-linecap:butt;stroke-linejoin:miter;stroke-opacity:1;\"/>\n",
       "<path d=\"M 333.0,53.4 L 336.1,51.5 L 337.4,52.3\" style=\"fill:none;stroke:#000000;stroke-width:2.0px;stroke-linecap:butt;stroke-linejoin:miter;stroke-opacity:1;\"/>\n",
       "<path class=\"atom-6\" d=\"M 389.4 87.8 Q 389.4 82.9, 391.9 80.1 Q 394.3 77.4, 398.8 77.4 Q 403.4 77.4, 405.8 80.1 Q 408.3 82.9, 408.3 87.8 Q 408.3 92.8, 405.8 95.6 Q 403.3 98.5, 398.8 98.5 Q 394.3 98.5, 391.9 95.6 Q 389.4 92.8, 389.4 87.8 M 398.8 96.1 Q 402.0 96.1, 403.7 94.0 Q 405.4 91.9, 405.4 87.8 Q 405.4 83.8, 403.7 81.8 Q 402.0 79.7, 398.8 79.7 Q 395.7 79.7, 394.0 81.7 Q 392.3 83.8, 392.3 87.8 Q 392.3 92.0, 394.0 94.0 Q 395.7 96.1, 398.8 96.1 \" fill=\"#FF0000\"/>\n",
       "<path class=\"atom-6\" d=\"M 411.5 77.6 L 414.2 77.6 L 414.2 86.3 L 424.7 86.3 L 424.7 77.6 L 427.5 77.6 L 427.5 98.1 L 424.7 98.1 L 424.7 88.7 L 414.2 88.7 L 414.2 98.1 L 411.5 98.1 L 411.5 77.6 \" fill=\"#FF0000\"/>\n",
       "</svg>"
      ],
      "text/plain": [
       "<IPython.core.display.SVG object>"
      ]
     },
     "metadata": {},
     "output_type": "display_data"
    }
   ],
   "source": [
    "# trying it out with name=\"hexanol\" this time\n",
    "r2 = Regress(name=\"hexanol\")\n",
    "r2.display_molecule()"
   ]
  },
  {
   "cell_type": "code",
   "execution_count": 6,
   "id": "8aeffb67-e976-444a-8ff8-77763323aea9",
   "metadata": {},
   "outputs": [
    {
     "data": {
      "text/plain": [
       "{'Yo': 0,\n",
       " '[C!H3]-[CX4H3R0]': 1,\n",
       " '[CX4H3R0]-O': 0,\n",
       " 'C-[CX4H2R0]-C': 4,\n",
       " 'C-[CX4H1R0](-C)-C': 0,\n",
       " 'C-[CX4H0R0](-C)(-C)-C': 0,\n",
       " 'O-[CX4H2]-C': 1,\n",
       " 'C-[CX4H1](-C)[OH]': 0,\n",
       " 'C-[CX4H0](-C)(-C)[OH]': 0,\n",
       " 'C-[OX2H]': 1,\n",
       " 'C-[C](-C)=O': 0,\n",
       " 'C-[CH2]-C=O': 0,\n",
       " 'C-[CH](-C)-C=O': 0,\n",
       " 'C-[C](-C)(-C)-C=O': 0,\n",
       " 'C-[C](=O)-O-C': 0,\n",
       " '[CH](=O)-OC': 0,\n",
       " 'O=C-O-[CX4H1](-C)-C': 0,\n",
       " 'O=C-O-[CX4H0](-C)(-C)-C': 0,\n",
       " 'S-[CH2]-C': 0,\n",
       " 'S-[CH](-C)-C': 0,\n",
       " 'S-[C](-C)(-C)-C': 0,\n",
       " 'C-[SX2H1]': 0,\n",
       " 'C-[SX2]-C': 0,\n",
       " 'S-[S]-C': 0,\n",
       " 'S-[S]-S': 0,\n",
       " 'C-[CX4H1](-O-C)-C': 0,\n",
       " 'C-O-[CX4H0](-C)(-C)-C': 0,\n",
       " 'C-[OX2]-C': 0,\n",
       " 'O-[CH2]-O': 0,\n",
       " 'O-[CH](-C)-O': 0,\n",
       " '[O](-C[CH3])-C[CH2]': 0,\n",
       " 'O-[CH2]-[CH2]-O': 0,\n",
       " 'N#C-[CH2]-C': 0,\n",
       " 'N#C-[CH](-C)-C': 0,\n",
       " 'C-[CX2H0]#N': 0,\n",
       " '[CH2](-[CH2]-C#N)-C#N': 0,\n",
       " '[CH2](-[CH2]-[CH2]-C#N)-C#N': 0,\n",
       " '[CR0H0]=[CR0H0]': 0,\n",
       " '[CR0H1]=[CR0H0]': 0,\n",
       " '[CR0H1]=[CR0H1]': 0,\n",
       " '[CR0H1]=[CR0H2]': 0,\n",
       " '[CR0H0]=[CR0H2]': 0,\n",
       " 'C-[CX4H2R]-C': 0,\n",
       " 'C-[CX4H1R](-C)-C': 0,\n",
       " 'C-[CX4H0R](-C)(-C)-C': 0,\n",
       " '[CRH0]=[CRH0]': 0,\n",
       " '[CRH1]=[CRH0]': 0,\n",
       " '[CRH1]=[CRH1]': 0,\n",
       " '[cH1]': 0,\n",
       " '[cH0]': 0,\n",
       " 'formula': 'C6H14O'}"
      ]
     },
     "execution_count": 6,
     "metadata": {},
     "output_type": "execute_result"
    }
   ],
   "source": [
    "r2.match_groups()"
   ]
  },
  {
   "cell_type": "code",
   "execution_count": 7,
   "id": "6871c399-6a9a-4c48-b2e5-3847dcf7bb10",
   "metadata": {},
   "outputs": [
    {
     "data": {
      "text/plain": [
       "'CCCCCCO'"
      ]
     },
     "execution_count": 7,
     "metadata": {},
     "output_type": "execute_result"
    }
   ],
   "source": [
    "r2.smiles"
   ]
  },
  {
   "cell_type": "code",
   "execution_count": null,
   "id": "292be9a9-a849-4993-9a99-322734d98841",
   "metadata": {},
   "outputs": [],
   "source": []
  }
 ],
 "metadata": {
  "kernelspec": {
   "display_name": "Python 3 (developer testing)",
   "language": "python",
   "name": "python3dev"
  },
  "language_info": {
   "codemirror_mode": {
    "name": "ipython",
    "version": 3
   },
   "file_extension": ".py",
   "mimetype": "text/x-python",
   "name": "python",
   "nbconvert_exporter": "python",
   "pygments_lexer": "ipython3",
   "version": "3.10.12"
  }
 },
 "nbformat": 4,
 "nbformat_minor": 5
}
