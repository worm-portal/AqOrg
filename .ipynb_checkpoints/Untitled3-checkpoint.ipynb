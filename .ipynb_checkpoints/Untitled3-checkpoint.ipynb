{
 "cells": [
  {
   "cell_type": "code",
   "execution_count": 1,
   "id": "6354a959-1eaa-4efd-aa4d-fc08bf6fe458",
   "metadata": {},
   "outputs": [],
   "source": [
    "from AqOrg import *"
   ]
  },
  {
   "cell_type": "code",
   "execution_count": 2,
   "id": "9d69654c-9a91-4602-ba30-15945d9a3fae",
   "metadata": {},
   "outputs": [
    {
     "data": {
      "image/svg+xml": [
       "<svg xmlns=\"http://www.w3.org/2000/svg\" xmlns:rdkit=\"http://www.rdkit.org/xml\" xmlns:xlink=\"http://www.w3.org/1999/xlink\" version=\"1.1\" baseProfile=\"full\" xml:space=\"preserve\" width=\"450px\" height=\"150px\" viewBox=\"0 0 450 150\">\n",
       "<!-- END OF HEADER -->\n",
       "<rect style=\"opacity:1.0;fill:#FFFFFF;stroke:none\" width=\"450.0\" height=\"150.0\" x=\"0.0\" y=\"0.0\"> </rect>\n",
       "<path class=\"bond-0 atom-0 atom-1\" d=\"M 22.5,87.8 L 85.2,51.5\" style=\"fill:none;fill-rule:evenodd;stroke:#000000;stroke-width:2.0px;stroke-linecap:butt;stroke-linejoin:miter;stroke-opacity:1\"/>\n",
       "<path class=\"bond-1 atom-1 atom-2\" d=\"M 85.2,51.5 L 147.9,87.8\" style=\"fill:none;fill-rule:evenodd;stroke:#000000;stroke-width:2.0px;stroke-linecap:butt;stroke-linejoin:miter;stroke-opacity:1\"/>\n",
       "<path class=\"bond-2 atom-2 atom-3\" d=\"M 147.9,87.8 L 210.7,51.5\" style=\"fill:none;fill-rule:evenodd;stroke:#000000;stroke-width:2.0px;stroke-linecap:butt;stroke-linejoin:miter;stroke-opacity:1\"/>\n",
       "<path class=\"bond-3 atom-3 atom-4\" d=\"M 210.7,51.5 L 273.4,87.8\" style=\"fill:none;fill-rule:evenodd;stroke:#000000;stroke-width:2.0px;stroke-linecap:butt;stroke-linejoin:miter;stroke-opacity:1\"/>\n",
       "<path class=\"bond-4 atom-4 atom-5\" d=\"M 273.4,87.8 L 336.1,51.5\" style=\"fill:none;fill-rule:evenodd;stroke:#000000;stroke-width:2.0px;stroke-linecap:butt;stroke-linejoin:miter;stroke-opacity:1\"/>\n",
       "<path class=\"bond-5 atom-5 atom-6\" d=\"M 336.1,51.5 L 361.6,66.2\" style=\"fill:none;fill-rule:evenodd;stroke:#000000;stroke-width:2.0px;stroke-linecap:butt;stroke-linejoin:miter;stroke-opacity:1\"/>\n",
       "<path class=\"bond-5 atom-5 atom-6\" d=\"M 361.6,66.2 L 387.0,80.9\" style=\"fill:none;fill-rule:evenodd;stroke:#FF0000;stroke-width:2.0px;stroke-linecap:butt;stroke-linejoin:miter;stroke-opacity:1\"/>\n",
       "<path d=\"M 82.1,53.4 L 85.2,51.5 L 88.4,53.4\" style=\"fill:none;stroke:#000000;stroke-width:2.0px;stroke-linecap:butt;stroke-linejoin:miter;stroke-opacity:1;\"/>\n",
       "<path d=\"M 144.8,86.0 L 147.9,87.8 L 151.1,86.0\" style=\"fill:none;stroke:#000000;stroke-width:2.0px;stroke-linecap:butt;stroke-linejoin:miter;stroke-opacity:1;\"/>\n",
       "<path d=\"M 207.5,53.4 L 210.7,51.5 L 213.8,53.4\" style=\"fill:none;stroke:#000000;stroke-width:2.0px;stroke-linecap:butt;stroke-linejoin:miter;stroke-opacity:1;\"/>\n",
       "<path d=\"M 270.3,86.0 L 273.4,87.8 L 276.5,86.0\" style=\"fill:none;stroke:#000000;stroke-width:2.0px;stroke-linecap:butt;stroke-linejoin:miter;stroke-opacity:1;\"/>\n",
       "<path d=\"M 333.0,53.4 L 336.1,51.5 L 337.4,52.3\" style=\"fill:none;stroke:#000000;stroke-width:2.0px;stroke-linecap:butt;stroke-linejoin:miter;stroke-opacity:1;\"/>\n",
       "<path class=\"atom-6\" d=\"M 389.4 87.8 Q 389.4 82.9, 391.9 80.1 Q 394.3 77.4, 398.8 77.4 Q 403.4 77.4, 405.8 80.1 Q 408.3 82.9, 408.3 87.8 Q 408.3 92.8, 405.8 95.6 Q 403.3 98.5, 398.8 98.5 Q 394.3 98.5, 391.9 95.6 Q 389.4 92.8, 389.4 87.8 M 398.8 96.1 Q 402.0 96.1, 403.7 94.0 Q 405.4 91.9, 405.4 87.8 Q 405.4 83.8, 403.7 81.8 Q 402.0 79.7, 398.8 79.7 Q 395.7 79.7, 394.0 81.7 Q 392.3 83.8, 392.3 87.8 Q 392.3 92.0, 394.0 94.0 Q 395.7 96.1, 398.8 96.1 \" fill=\"#FF0000\"/>\n",
       "<path class=\"atom-6\" d=\"M 411.5 77.6 L 414.2 77.6 L 414.2 86.3 L 424.7 86.3 L 424.7 77.6 L 427.5 77.6 L 427.5 98.1 L 424.7 98.1 L 424.7 88.7 L 414.2 88.7 L 414.2 98.1 L 411.5 98.1 L 411.5 77.6 \" fill=\"#FF0000\"/>\n",
       "</svg>"
      ],
      "text/plain": [
       "<IPython.core.display.SVG object>"
      ]
     },
     "metadata": {},
     "output_type": "display_data"
    }
   ],
   "source": [
    "gas_props = Estimate(name=\"hexanol\", state=\"gas\", ig_method=\"custom\", group_data=\"gas props.csv\")"
   ]
  },
  {
   "cell_type": "code",
   "execution_count": 3,
   "id": "5c7ba14d-5373-42cf-9fda-f0b8cfc56d61",
   "metadata": {},
   "outputs": [
    {
     "data": {
      "text/plain": [
       "-137.18"
      ]
     },
     "execution_count": 3,
     "metadata": {},
     "output_type": "execute_result"
    }
   ],
   "source": [
    "gas_props.Gig"
   ]
  },
  {
   "cell_type": "code",
   "execution_count": 7,
   "id": "3c707b38-35b9-49bc-97af-f79779685129",
   "metadata": {},
   "outputs": [
    {
     "data": {
      "text/plain": [
       "-137.18"
      ]
     },
     "execution_count": 7,
     "metadata": {},
     "output_type": "execute_result"
    }
   ],
   "source": [
    "gas_props.__getattribute__(\"Gig\")"
   ]
  },
  {
   "cell_type": "code",
   "execution_count": 6,
   "id": "501cf09e-9ac0-4a66-87a3-f913f713e45a",
   "metadata": {},
   "outputs": [
    {
     "data": {
      "text/plain": [
       "['Cpaq',\n",
       " 'Cph',\n",
       " 'Cph_err',\n",
       " 'Cpig',\n",
       " 'Cpig_a',\n",
       " 'Cpig_b',\n",
       " 'Cpig_c',\n",
       " 'Cpig_d',\n",
       " 'Gaq',\n",
       " 'Gh',\n",
       " 'Gh_err',\n",
       " 'Gig',\n",
       " 'Haq',\n",
       " 'Hh',\n",
       " 'Hh_err',\n",
       " 'Hig',\n",
       " 'Saq',\n",
       " 'Selements',\n",
       " 'Sh',\n",
       " 'Sh_err',\n",
       " 'Sig',\n",
       " 'V',\n",
       " 'V_err',\n",
       " '_Estimate__convert_to_OBIGT',\n",
       " '_Estimate__entropy',\n",
       " '_Estimate__est_hydration',\n",
       " '_Estimate__est_joback',\n",
       " '_Estimate__estimate_hydration',\n",
       " '_Estimate__estimate_joback',\n",
       " '_Estimate__set_groups',\n",
       " '_Estimate__test_group_match',\n",
       " '__class__',\n",
       " '__delattr__',\n",
       " '__dict__',\n",
       " '__dir__',\n",
       " '__doc__',\n",
       " '__eq__',\n",
       " '__format__',\n",
       " '__ge__',\n",
       " '__getattribute__',\n",
       " '__gt__',\n",
       " '__hash__',\n",
       " '__init__',\n",
       " '__init_subclass__',\n",
       " '__le__',\n",
       " '__lt__',\n",
       " '__module__',\n",
       " '__ne__',\n",
       " '__new__',\n",
       " '__reduce__',\n",
       " '__reduce_ex__',\n",
       " '__repr__',\n",
       " '__setattr__',\n",
       " '__sizeof__',\n",
       " '__str__',\n",
       " '__subclasshook__',\n",
       " '__weakref__',\n",
       " 'charge',\n",
       " 'dict_to_formula',\n",
       " 'display_molecule',\n",
       " 'element_data',\n",
       " 'err_handler',\n",
       " 'formula',\n",
       " 'formula_dict',\n",
       " 'get_mol_smiles_formula_formula_dict',\n",
       " 'group_data',\n",
       " 'group_matches',\n",
       " 'groups',\n",
       " 'load_group_data',\n",
       " 'match_groups',\n",
       " 'mol',\n",
       " 'name',\n",
       " 'note',\n",
       " 'pattern_dict',\n",
       " 'pcp_compound',\n",
       " 'smiles',\n",
       " 'state']"
      ]
     },
     "execution_count": 6,
     "metadata": {},
     "output_type": "execute_result"
    }
   ],
   "source": [
    "dir(gas_props)"
   ]
  },
  {
   "cell_type": "code",
   "execution_count": null,
   "id": "85cb1093-b9c0-4f6d-8717-0747316da6f2",
   "metadata": {},
   "outputs": [],
   "source": []
  }
 ],
 "metadata": {
  "kernelspec": {
   "display_name": "Python 3",
   "language": "python",
   "name": "python3"
  },
  "language_info": {
   "codemirror_mode": {
    "name": "ipython",
    "version": 3
   },
   "file_extension": ".py",
   "mimetype": "text/x-python",
   "name": "python",
   "nbconvert_exporter": "python",
   "pygments_lexer": "ipython3",
   "version": "3.10.12"
  }
 },
 "nbformat": 4,
 "nbformat_minor": 5
}
