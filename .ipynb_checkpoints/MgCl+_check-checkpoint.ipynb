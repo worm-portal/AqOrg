{
 "cells": [
  {
   "attachments": {},
   "cell_type": "markdown",
   "id": "d69f119a-dd14-4ab3-b1df-44335f758d56",
   "metadata": {},
   "source": [
    "### Ensure that the properties of MgCl+ are being estimated correctly"
   ]
  },
  {
   "cell_type": "code",
   "execution_count": 1,
   "id": "a214caf1-f476-4715-9627-a5c7580ee0a4",
   "metadata": {},
   "outputs": [],
   "source": [
    "import AqEquil\n",
    "import AqOrg\n",
    "import pandas as pd"
   ]
  },
  {
   "cell_type": "code",
   "execution_count": 2,
   "id": "461f2867-038d-471b-82c3-2ad745613955",
   "metadata": {},
   "outputs": [
    {
     "data": {
      "text/html": [
       "<div>\n",
       "<style scoped>\n",
       "    .dataframe tbody tr th:only-of-type {\n",
       "        vertical-align: middle;\n",
       "    }\n",
       "\n",
       "    .dataframe tbody tr th {\n",
       "        vertical-align: top;\n",
       "    }\n",
       "\n",
       "    .dataframe thead th {\n",
       "        text-align: right;\n",
       "    }\n",
       "</style>\n",
       "<table border=\"1\" class=\"dataframe\">\n",
       "  <thead>\n",
       "    <tr style=\"text-align: right;\">\n",
       "      <th></th>\n",
       "      <th>G</th>\n",
       "      <th>H</th>\n",
       "      <th>S</th>\n",
       "      <th>V</th>\n",
       "      <th>Cp</th>\n",
       "    </tr>\n",
       "  </thead>\n",
       "  <tbody>\n",
       "    <tr>\n",
       "      <th>341</th>\n",
       "      <td>-139700.0</td>\n",
       "      <td>-150933.0</td>\n",
       "      <td>-19.0</td>\n",
       "      <td>1.26</td>\n",
       "      <td>25.0</td>\n",
       "    </tr>\n",
       "  </tbody>\n",
       "</table>\n",
       "</div>"
      ],
      "text/plain": [
       "            G         H     S     V    Cp\n",
       "341 -139700.0 -150933.0 -19.0  1.26  25.0"
      ]
     },
     "execution_count": 2,
     "metadata": {},
     "output_type": "execute_result"
    }
   ],
   "source": [
    "df_worm = pd.read_csv(\"wrm_data.csv\")\n",
    "\n",
    "Gf = df_worm[df_worm[\"name\"]==\"MgCl+\"][\"G\"].values[0]*4.184\n",
    "Hf = df_worm[df_worm[\"name\"]==\"MgCl+\"][\"H\"].values[0]*4.184\n",
    "Saq = df_worm[df_worm[\"name\"]==\"MgCl+\"][\"S\"].values[0]*4.184\n",
    "V = df_worm[df_worm[\"name\"]==\"MgCl+\"][\"V\"].values[0]\n",
    "Cp = df_worm[df_worm[\"name\"]==\"MgCl+\"][\"Cp\"].values[0]*4.184\n",
    "\n",
    "# complicator estimates for MgCl+\n",
    "Gf = -140074.9936184183*4.184\n",
    "Hf = -145575.69761841826*4.184\n",
    "Saq = 0.4*4.184 # complicator estimate\n",
    "V = 2.722405499999997\n",
    "Cp = 21.84435999999999*4.184\n",
    "\n",
    "df_worm[df_worm[\"name\"]==\"MgCl+\"][[\"G\", \"H\", \"S\", \"V\", \"Cp\"]]"
   ]
  },
  {
   "cell_type": "code",
   "execution_count": 3,
   "id": "cc979e71-ebee-4b52-8420-d50618d6c49a",
   "metadata": {},
   "outputs": [
    {
     "name": "stdout",
     "output_type": "stream",
     "text": [
      "eta = 166027.0 (angstroms*cal/mol), YBorn = -5.802e-05 (1/K), QBorn = 5.903e-07 (1/bar), XBorn = -3.09e-07 (1/K**2)\n",
      "\n",
      "abs_protonBorn = (0.5387 * 10**5), mentioned in text after Eq 47 in Shock and Helgeson 1988\n",
      "\n",
      "Gh is not provided and charge does not equal zero so estimate omega for ionic species from Shock and Helgeson 1990...\n",
      "alphaZ = 72 because charge = 1, described in text after Eq 59 in Shock and Helgeson 1990\n",
      "\n",
      "BZ = 55166 = ((-alphaZ*eta)/(YBorn*eta - 100)) - charge * abs_protonBorn, Eq 55 in Shock and Helgeson 1990\n",
      "\n",
      "rej = 1.5312 = (charge**2 *(eta * YBorn - 100)/(Saq/4.184 - alphaZ)), Eqs 46+56+57 in Shock and Helgeson 1988\n",
      "\n",
      "HKFomega_abs_ion = 1.0843e+05 = (eta*(charge**2))/rej, Eq 45 in Shock and Helgeson 1988\n",
      "\n",
      "HKFomega = 2.2828 = (10**-5)*(HKFomega_abs_ion-(charge*abs_protonBorn))*4.184, Eq 47 in Shock and Helgeson 1988, omega*10**-5, (J/mol)\n",
      "\n",
      "V_solv = -1.3475 = -(HKFomega/10**-5)*QBorn*10, Eq 5 in Shock and Helgeson 1988, along with a conversion of 10 cm3 = 1 joule/bar, delta V solvation (cm3/mol)\n",
      "\n",
      "V_nonsolv = 4.0699 = V - V_solv, Eq 4 in Shock and Helgeson 1988, delta V nonsolvation (cm3/mol)\n",
      "\n",
      "HKFsigma = 6.3176 = 1.11*V_nonsolv + 1.8, Eq 87 in Shock and Helgeson, sigma (cm3/mol)\n",
      "\n",
      "cp_solv = -21.031 = ((HKFomega/10**-5)*298.15*XBorn), Eq 35 in Shock and Helgeson 1988, dCpsolv = omega*T*X, delta Cp solvation (J/mol*K)\n",
      "\n",
      "cp_nonsolv = 112.43 = Cp - cp_solv, Eq 29 in Shock and Helgeson 1988, delta Cp nonsolvation (J/mol*K)\n",
      "\n",
      "Gh is unavailable and/or charge is not 0, so estimate a2, a4 from Shock and Helgeson 1988, and a1 from Sverjensky et al 2014\n",
      "HKFa1 = 10.534 = ((0.1304*abs(charge) - 0.0217)*V_nonsolv  + (1.4567*abs(charge)+0.6187))*4.184, Eq 8 in Appendix 1 of Sverjensky et al 2014, converted to J/mol*bar, a1*10 (J/mol*bar)\n",
      "\n",
      "HKFa2 = -10.968 = (10**-2)*(((HKFsigma/41.84) - ((HKFa1/10)/4.184))/(1/(2601)))*4.184, Eq 8 in Shock and Helgeson 1988, rearranged to solve for a2*10**-2 (J/mol). Sigma is divided by 41.84 due to the conversion of 41.84 cm3 = cal/bar\n",
      "\n",
      "HKFa4 = -11.623 = (10**-4)*(-4.134*(HKFa2/4.184)-27790)*4.184, Eq 88 in Shock and Helgeson 1988, a4*10**-4 (J*K/mol)\n",
      "\n",
      "HKFc2 = 5.9208 = (0.2037*(Cp/4.184) - 3.0346)*4.184, Eq 89 in Shock and Helgeson 1988, c2*10**-4 (j*K/mol)\n",
      "\n",
      "HKFc1 = 100.4 = cp_nonsolv-(((HKFc2)/10**-4)*(1/(298.15-228))**2), Eq 31 in Shock and Helgeson 1988, rearranged to solve for c1 (j/mol*K)\n",
      "\n",
      "HKFa3 = 28.918 = (((V/10)-(HKFa1/10)-((HKFa2/10**-2)/2601) + ((HKFomega/10**-5)*QBorn))/(1/(298.15-228)))-((HKFa4/10**-4)/2601), Eq 11 in Shock and Helgeson 1988, rearranged to solve for a3 (j*K/mol*bar). V is divided by 10 due to the conversion of 10 cm3 = J/bar\n",
      "\n"
     ]
    },
    {
     "data": {
      "text/plain": [
       "{'G': -140074.9936184183,\n",
       " 'H': -145575.6976184183,\n",
       " 'S': 0.4,\n",
       " 'Cp': 21.84435999999999,\n",
       " 'V': 2.722405499999997,\n",
       " 'a1': 2.517803079051496,\n",
       " 'a2': -2.6214204267922345,\n",
       " 'a3': 6.911645212469136,\n",
       " 'a4': -2.777916304795564,\n",
       " 'c1': 23.995301786304797,\n",
       " 'c2': 1.4150961319999977,\n",
       " 'omega': 0.5456035858280339,\n",
       " 'Z': 1,\n",
       " 'Vsolv': -1.3475400294525828,\n",
       " 'Vnonsolv': 4.06994552945258,\n",
       " 'sigma': 6.317639537692364}"
      ]
     },
     "execution_count": 3,
     "metadata": {},
     "output_type": "execute_result"
    }
   ],
   "source": [
    "# estimate parameters for the revised Helgeson Kirkham Flowers (HKF) equation of\n",
    "# state in order to calculate properties at higher temperatures and pressures.\n",
    "out_dict = AqOrg.find_HKF(\n",
    "        V=V,\n",
    "        Cp=Cp,\n",
    "        Gf=Gf/1000,\n",
    "        Hf=Hf/1000,\n",
    "        Saq=Saq,\n",
    "        charge=1,\n",
    "        J_to_cal=True,\n",
    "        print_eq=True,\n",
    "        organic=False,\n",
    "        DEW=True)\n",
    "\n",
    "out_dict"
   ]
  },
  {
   "cell_type": "code",
   "execution_count": 4,
   "id": "07e3720c-d6ef-4b4c-bbe0-73bd3b994e7c",
   "metadata": {},
   "outputs": [],
   "source": [
    "# Complicator estimate (for DEW)\n",
    "# a1 = \t2.525\n",
    "# a2 = -2.594\n",
    "# a3 = 6.491\n",
    "# a4 = -2.672\n",
    "# c1 = 24.099\n",
    "# c2 = 1.449\n",
    "# omega = 0.546"
   ]
  },
  {
   "cell_type": "code",
   "execution_count": 5,
   "id": "7e234969-7604-4357-b8bc-fb17278cd70b",
   "metadata": {},
   "outputs": [],
   "source": [
    "# Complicator estimate (for SUPCRT92)\n",
    "# a1 = \t2.322\n",
    "# a2 = -2.111\n",
    "# a3 = 6.58\n",
    "# a4 = -2.692\n",
    "# c1 = 24.003\n",
    "# c2 = 1.415\n",
    "# omega = 0.546"
   ]
  },
  {
   "cell_type": "code",
   "execution_count": 6,
   "id": "b8364de0-e8c1-45c1-aa6e-d65a702686aa",
   "metadata": {},
   "outputs": [
    {
     "data": {
      "text/html": [
       "<div>\n",
       "<style scoped>\n",
       "    .dataframe tbody tr th:only-of-type {\n",
       "        vertical-align: middle;\n",
       "    }\n",
       "\n",
       "    .dataframe tbody tr th {\n",
       "        vertical-align: top;\n",
       "    }\n",
       "\n",
       "    .dataframe thead th {\n",
       "        text-align: right;\n",
       "    }\n",
       "</style>\n",
       "<table border=\"1\" class=\"dataframe\">\n",
       "  <thead>\n",
       "    <tr style=\"text-align: right;\">\n",
       "      <th></th>\n",
       "      <th>a1.a</th>\n",
       "      <th>a2.b</th>\n",
       "      <th>a3.c</th>\n",
       "      <th>a4.d</th>\n",
       "      <th>c1.e</th>\n",
       "      <th>c2.f</th>\n",
       "      <th>omega.lambda</th>\n",
       "    </tr>\n",
       "  </thead>\n",
       "  <tbody>\n",
       "    <tr>\n",
       "      <th>341</th>\n",
       "      <td>2.223</td>\n",
       "      <td>-2.3505</td>\n",
       "      <td>6.6669</td>\n",
       "      <td>-2.6818</td>\n",
       "      <td>28.6016</td>\n",
       "      <td>2.058</td>\n",
       "      <td>0.8449</td>\n",
       "    </tr>\n",
       "  </tbody>\n",
       "</table>\n",
       "</div>"
      ],
      "text/plain": [
       "      a1.a    a2.b    a3.c    a4.d     c1.e   c2.f  omega.lambda\n",
       "341  2.223 -2.3505  6.6669 -2.6818  28.6016  2.058        0.8449"
      ]
     },
     "execution_count": 6,
     "metadata": {},
     "output_type": "execute_result"
    }
   ],
   "source": [
    "df_worm[df_worm[\"name\"]==\"MgCl+\"][[\"a1.a\", \"a2.b\", \"a3.c\", \"a4.d\", \"c1.e\", \"c2.f\", \"omega.lambda\"]]"
   ]
  },
  {
   "cell_type": "code",
   "execution_count": null,
   "id": "06ad5946-d5bb-4723-ab3e-992b17b12f77",
   "metadata": {},
   "outputs": [],
   "source": []
  }
 ],
 "metadata": {
  "kernelspec": {
   "display_name": "Python 3",
   "language": "python",
   "name": "python3"
  },
  "language_info": {
   "codemirror_mode": {
    "name": "ipython",
    "version": 3
   },
   "file_extension": ".py",
   "mimetype": "text/x-python",
   "name": "python",
   "nbconvert_exporter": "python",
   "pygments_lexer": "ipython3",
   "version": "3.10.12"
  }
 },
 "nbformat": 4,
 "nbformat_minor": 5
}
