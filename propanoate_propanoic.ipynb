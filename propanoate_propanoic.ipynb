{
 "cells": [
  {
   "attachments": {},
   "cell_type": "markdown",
   "id": "d69f119a-dd14-4ab3-b1df-44335f758d56",
   "metadata": {},
   "source": [
    "### ensure that a1 is being estimated correctly\n",
    "\n",
    "\"Gh is unavailable and/or charge is not 0, so estimate a2, a4 from Shock and Helgeson 1988, and a1 from Sverjensky et al 2014.\" Different equations from Sverjensky 2014 are used depending on whether the species is charged.\n",
    "\n",
    "In wrm_data:\n",
    "- 11.0057 (propanoic acid a1)\n",
    "- 9.6992 (propanoate a1)\n",
    "\n",
    "In DEW data:\n",
    "- 14.6 (propanoic acid a1)\n",
    "- 8.3786 (propanoate a1)"
   ]
  },
  {
   "cell_type": "code",
   "execution_count": 1,
   "id": "a214caf1-f476-4715-9627-a5c7580ee0a4",
   "metadata": {},
   "outputs": [
    {
     "name": "stdout",
     "output_type": "stream",
     "text": [
      "The WORM thermodynamic database has been loaded: 1639 aqueous, 1900 total species\n"
     ]
    },
    {
     "data": {
      "text/plain": [
       "<pyCHNOSZ.fun.thermo at 0x7f7fc84077f0>"
      ]
     },
     "execution_count": 1,
     "metadata": {},
     "output_type": "execute_result"
    }
   ],
   "source": [
    "import pyCHNOSZ\n",
    "import AqEquil\n",
    "import AqOrg\n",
    "import pandas as pd\n",
    "\n",
    "pyCHNOSZ.thermo(\"WORM\")"
   ]
  },
  {
   "cell_type": "code",
   "execution_count": 2,
   "id": "6cc7abee-ef4f-4650-abbb-ca87cf9e1220",
   "metadata": {},
   "outputs": [],
   "source": [
    "# propanoic acid\n",
    "Gf_propanoic = (-93450*4.184)/1000 # kJ/mol\n",
    "Hf_propanoic = (-122470*4.184)/1000 # kJ/mol\n",
    "Cp_propanoic = \t60.5*4.184 # J/mol K\n",
    "V_propanoic = 67.9 # cm3/mol\n",
    "\n",
    "# propanoate\n",
    "Gf_propanoate = (-86780*4.184)/1000 # kJ/mol\n",
    "Hf_propanoate = (-122630*4.184)/1000 # kJ/mol\n",
    "Cp_propanoate = 30.9*4.184 # J/mol K\n",
    "V_propanoate = 54.95 # cm3/mol"
   ]
  },
  {
   "cell_type": "code",
   "execution_count": 3,
   "id": "adec26d0-6b84-4419-94b9-3ac7370934d7",
   "metadata": {},
   "outputs": [
    {
     "data": {
      "text/plain": [
       "(614.4120000000005, 614.4120000000004)"
      ]
     },
     "execution_count": 3,
     "metadata": {},
     "output_type": "execute_result"
    }
   ],
   "source": [
    "# calculate the entropy from the elements of crotonic acid and crotonate (in J mol-1 K-1)\n",
    "Selements_propanoic = pyCHNOSZ.entropy(\"C3H6O2\")*4.184\n",
    "Selements_propanoate = pyCHNOSZ.entropy(\"C3H5O2-\")*4.184\n",
    "Selements_propanoic, Selements_propanoate"
   ]
  },
  {
   "cell_type": "code",
   "execution_count": 4,
   "id": "0bec7da4-d828-4274-ab95-97ab22f51fe0",
   "metadata": {},
   "outputs": [
    {
     "data": {
      "text/plain": [
       "(207.16839778634943, 111.32160925708564)"
      ]
     },
     "execution_count": 4,
     "metadata": {},
     "output_type": "execute_result"
    }
   ],
   "source": [
    "#G = H-T(S-Selements)\n",
    "#G - H = -T(S-Selements)\n",
    "#(G-H)/-T = S - Selements\n",
    "#(((G-H)/-T) + Selements) = S\n",
    "T = 298.15\n",
    "Saq_propanoic = (((Gf_propanoic*1000-Hf_propanoic*1000)/-T) + Selements_propanoic)\n",
    "Saq_propanoate = (((Gf_propanoate*1000-Hf_propanoate*1000)/-T) + Selements_propanoate)\n",
    "Saq_propanoic, Saq_propanoate"
   ]
  },
  {
   "cell_type": "markdown",
   "id": "edee0746-ad28-4774-ab49-2178b3a3fce6",
   "metadata": {},
   "source": [
    "### 3. Estimate HKF parameters"
   ]
  },
  {
   "cell_type": "code",
   "execution_count": 5,
   "id": "cc979e71-ebee-4b52-8420-d50618d6c49a",
   "metadata": {},
   "outputs": [
    {
     "name": "stdout",
     "output_type": "stream",
     "text": [
      "eta = 166027.0 (angstroms*cal/mol), YBorn = -5.802e-05 (1/K), QBorn = 5.903e-07 (1/bar), XBorn = -3.09e-07 (1/K**2)\n",
      "\n",
      "abs_protonBorn = (0.5387 * 10**5), mentioned in text after Eq 47 in Shock and Helgeson 1988\n",
      "\n",
      "Gh is not provided and charge equals zero so estimate omega for neutral solutes from Shock and Helgeson 1990...\n",
      "HKFomega = -1.7148 = (10**-5)*((-1514.4*(Saq/4.184)) + (0.34*10**5))*4.184, Eq 61 in Shock and Helgeson 1990, omega*10**-5 (J/mol)\n",
      "\n",
      "V_solv = 1.0122 = -(HKFomega/10**-5)*QBorn*10, Eq 5 in Shock and Helgeson 1988, along with a conversion of 10 cm3 = 1 joule/bar, delta V solvation (cm3/mol)\n",
      "\n",
      "V_nonsolv = 66.888 = V - V_solv, Eq 4 in Shock and Helgeson 1988, delta V nonsolvation (cm3/mol)\n",
      "\n",
      "HKFsigma = 76.045 = 1.11*V_nonsolv + 1.8, Eq 87 in Shock and Helgeson, sigma (cm3/mol)\n",
      "\n",
      "cp_solv = 15.798 = ((HKFomega/10**-5)*298.15*XBorn), Eq 35 in Shock and Helgeson 1988, dCpsolv = omega*T*X, delta Cp solvation (J/mol*K)\n",
      "\n",
      "cp_nonsolv = 237.33 = Cp - cp_solv, Eq 29 in Shock and Helgeson 1988, delta Cp nonsolvation (J/mol*K)\n",
      "\n",
      "Gh is unavailable and/or charge is not 0, so estimate a2, a4 from Shock and Helgeson 1988, and a1 from Sverjensky et al 2014\n",
      "HKFa2 = 78.979 = (10**-2)*(((HKFsigma/41.84) - ((HKFa1/10)/4.184))/(1/(2601)))*4.184, Eq 8 in Shock and Helgeson 1988, rearranged to solve for a2*10**-2 (J/mol). Sigma is divided by 41.84 due to the conversion of 41.84 cm3 = cal/bar\n",
      "\n",
      "HKFa4 = -11.66 = (10**-4)*(-4.134*(HKFa2/4.184)-27790)*4.184, Eq 88 in Shock and Helgeson 1988, a4*10**-4 (J*K/mol)\n",
      "\n",
      "HKFc2 = 38.866 = (0.2037*(Cp/4.184) - 3.0346)*4.184, Eq 89 in Shock and Helgeson 1988, c2*10**-4 (j*K/mol)\n",
      "\n",
      "HKFc1 = 158.35 = cp_nonsolv-(((HKFc2)/10**-4)*(1/(298.15-228))**2), Eq 31 in Shock and Helgeson 1988, rearranged to solve for c1 (j/mol*K)\n",
      "\n",
      "HKFa3 = -19.412 = (((V/10)-(HKFa1/10)-((HKFa2/10**-2)/2601) + ((HKFomega/10**-5)*QBorn))/(1/(298.15-228)))-((HKFa4/10**-4)/2601), Eq 11 in Shock and Helgeson 1988, rearranged to solve for a3 (j*K/mol*bar). V is divided by 10 due to the conversion of 10 cm3 = J/bar\n",
      "\n",
      "eta = 166027.0 (angstroms*cal/mol), YBorn = -5.802e-05 (1/K), QBorn = 5.903e-07 (1/bar), XBorn = -3.09e-07 (1/K**2)\n",
      "\n",
      "abs_protonBorn = (0.5387 * 10**5), mentioned in text after Eq 47 in Shock and Helgeson 1988\n",
      "\n",
      "Gh is not provided and charge does not equal zero so estimate omega for ionic species from Shock and Helgeson 1990...\n",
      "alphaZ = 72 because charge = -1, described in text after Eq 59 in Shock and Helgeson 1990\n",
      "\n",
      "BZ = 1.6291e+05 = ((-alphaZ*eta)/(YBorn*eta - 100)) - charge * abs_protonBorn, Eq 55 in Shock and Helgeson 1990\n",
      "\n",
      "HKFomega = 5.1301 = (10**-5)*(-1514.4*(Saq/4.184) + BZ) * 4.184, Eq 58 in Shock and Helgeson 1990, omega*10**-5, (J/mol)\n",
      "\n",
      "V_solv = -3.0283 = -(HKFomega/10**-5)*QBorn*10, Eq 5 in Shock and Helgeson 1988, along with a conversion of 10 cm3 = 1 joule/bar, delta V solvation (cm3/mol)\n",
      "\n",
      "V_nonsolv = 57.978 = V - V_solv, Eq 4 in Shock and Helgeson 1988, delta V nonsolvation (cm3/mol)\n",
      "\n",
      "HKFsigma = 66.156 = 1.11*V_nonsolv + 1.8, Eq 87 in Shock and Helgeson, sigma (cm3/mol)\n",
      "\n",
      "cp_solv = -47.263 = ((HKFomega/10**-5)*298.15*XBorn), Eq 35 in Shock and Helgeson 1988, dCpsolv = omega*T*X, delta Cp solvation (J/mol*K)\n",
      "\n",
      "cp_nonsolv = 176.55 = Cp - cp_solv, Eq 29 in Shock and Helgeson 1988, delta Cp nonsolvation (J/mol*K)\n",
      "\n",
      "Gh is unavailable and/or charge is not 0, so estimate a2, a4 from Shock and Helgeson 1988, and a1 from Sverjensky et al 2014\n",
      "HKFa2 = 66.524 = (10**-2)*(((HKFsigma/41.84) - ((HKFa1/10)/4.184))/(1/(2601)))*4.184, Eq 8 in Shock and Helgeson 1988, rearranged to solve for a2*10**-2 (J/mol). Sigma is divided by 41.84 due to the conversion of 41.84 cm3 = cal/bar\n",
      "\n",
      "HKFa4 = -11.655 = (10**-4)*(-4.134*(HKFa2/4.184)-27790)*4.184, Eq 88 in Shock and Helgeson 1988, a4*10**-4 (J*K/mol)\n",
      "\n",
      "HKFc2 = 13.639 = (0.2037*(Cp/4.184) - 3.0346)*4.184, Eq 89 in Shock and Helgeson 1988, c2*10**-4 (j*K/mol)\n",
      "\n",
      "HKFc1 = 148.83 = cp_nonsolv-(((HKFc2)/10**-4)*(1/(298.15-228))**2), Eq 31 in Shock and Helgeson 1988, rearranged to solve for c1 (j/mol*K)\n",
      "\n",
      "HKFa3 = -12.557 = (((V/10)-(HKFa1/10)-((HKFa2/10**-2)/2601) + ((HKFomega/10**-5)*QBorn))/(1/(298.15-228)))-((HKFa4/10**-4)/2601), Eq 11 in Shock and Helgeson 1988, rearranged to solve for a3 (j*K/mol*bar). V is divided by 10 due to the conversion of 10 cm3 = J/bar\n",
      "\n"
     ]
    },
    {
     "data": {
      "text/plain": [
       "(10.917920341249769, 9.698753322796584)"
      ]
     },
     "execution_count": 5,
     "metadata": {},
     "output_type": "execute_result"
    }
   ],
   "source": [
    "# estimate parameters for the revised Helgeson Kirkham Flowers (HKF) equation of\n",
    "# state in order to calculate properties at higher temperatures\n",
    "# and pressures.\n",
    "out_dict_propanoic = AqOrg.find_HKF(\n",
    "        V=V_propanoic,\n",
    "        Cp=Cp_propanoic,\n",
    "        Gf=Gf_propanoic,\n",
    "        Hf=Hf_propanoic,\n",
    "        Saq=Saq_propanoic,\n",
    "        charge=0,\n",
    "        J_to_cal=True,\n",
    "        print_eq=True)\n",
    "\n",
    "out_dict_propanoate = AqOrg.find_HKF(\n",
    "        V=V_propanoate,\n",
    "        Cp=Cp_propanoate,\n",
    "        Gf=Gf_propanoate,\n",
    "        Hf=Hf_propanoate,\n",
    "        Saq=Saq_propanoate,\n",
    "        charge=-1,\n",
    "        J_to_cal=True,\n",
    "        print_eq=True)\n",
    "\n",
    "out_dict_propanoic[\"a1\"], out_dict_propanoate[\"a1\"]"
   ]
  },
  {
   "cell_type": "markdown",
   "id": "3f406f90-5400-43e8-9e5a-dcf802e32dd4",
   "metadata": {},
   "source": [
    "In wrm_data:\n",
    "- 11.0057 (propanoic acid a1)\n",
    "- 9.6992 (propanoate a1)\n",
    "\n",
    "In DEW data:\n",
    "- 14.6 (propanoic acid a1)\n",
    "- 8.3786 (propanoate a1)"
   ]
  },
  {
   "cell_type": "markdown",
   "id": "2623291c-d659-4aea-bf9c-3999b8800d6e",
   "metadata": {},
   "source": [
    "# untangle:\n",
    "- decide whether to implement plyasunov a1 equations as \"default\"\n",
    "- changes made to AqOrg.py are not in the git repo...\n",
    "- push changes to AqOrg.py to server\n",
    "- rerun Heidi's notebook"
   ]
  },
  {
   "cell_type": "code",
   "execution_count": 6,
   "id": "dca8f620-159d-41b3-b514-cbe1c54a80a0",
   "metadata": {},
   "outputs": [
    {
     "data": {
      "text/plain": [
       "27.876826093549376"
      ]
     },
     "execution_count": 6,
     "metadata": {},
     "output_type": "execute_result"
    }
   ],
   "source": [
    "# Cu+\n",
    "S = 9.7\n",
    "V = -8\n",
    "Z = 1\n",
    "omega = 0.3351\n",
    "\n",
    "# Cu+2\n",
    "S = -23.2\n",
    "V = -24.6\n",
    "Z = 2\n",
    "omega = 1.4769\n",
    "\n",
    "# Co+3\n",
    "S = -73.000\n",
    "V = -43.9\n",
    "Z = 3\n",
    "omega = 2.7150\n",
    "\n",
    "# MgCl+\n",
    "S = -19.000\n",
    "V = 1.3\n",
    "Z = 1\n",
    "omega = 0.8449\n",
    "\n",
    "# CN-\n",
    "S = 22.500\n",
    "V = 24.2\n",
    "Z = -1\n",
    "omega = 1.2900\n",
    "\n",
    "# S2-2\n",
    "S = 6.800\n",
    "V = 20.2\n",
    "Z = -2\n",
    "omega = 3.1083\n",
    "\t\n",
    "\n",
    "############################\n",
    "eta=1.66027E+05\n",
    "Y= -5.802E-05\n",
    "Q= 5.903E-07\n",
    "conv=41.8393\n",
    "\n",
    "vs_dew = -omega*((Q*10**5)*conv)\n",
    "\n",
    "if Z > 0:\n",
    "    gamma=0.94\n",
    "elif Z < 0:\n",
    "    gamma=0.0\n",
    "if abs(Z) == 1:\n",
    "    alphaz=72\n",
    "elif abs(Z) == 2:\n",
    "    alphaz = 141\n",
    "elif abs(Z) == 3:\n",
    "    alphaz = 211\n",
    "elif abs(Z) == 4:\n",
    "    alphaz = 286\n",
    "else:\n",
    "    print(\"error 1\")\n",
    "ra=(Z**2 *(eta * Y - 100.)/(S - alphaz))\n",
    "ire=int(100.*ra +.5)\n",
    "re=ire/100\n",
    "wabsh = 0.5387E+05\n",
    "wabs = (eta*Z**2)/re\n",
    "wcon = wabs-Z*wabsh\n",
    "vs=-wcon*Q*conv\n",
    "vn=V-vs\n",
    "\n",
    "vn"
   ]
  },
  {
   "cell_type": "code",
   "execution_count": 7,
   "id": "07882ba4-c144-4221-8537-944cb397dd9d",
   "metadata": {},
   "outputs": [
    {
     "data": {
      "text/plain": [
       "(-7.676826093549376, -7.676798148095699)"
      ]
     },
     "execution_count": 7,
     "metadata": {},
     "output_type": "execute_result"
    }
   ],
   "source": [
    "vs, vs_dew"
   ]
  },
  {
   "cell_type": "code",
   "execution_count": 8,
   "id": "de6e4658-257b-418b-b4d3-a48fb257f4df",
   "metadata": {},
   "outputs": [
    {
     "data": {
      "text/plain": [
       "(27.876826093549376, 27.8767981480957)"
      ]
     },
     "execution_count": 8,
     "metadata": {},
     "output_type": "execute_result"
    }
   ],
   "source": [
    "vn_dew = V - vs_dew\n",
    "\n",
    "vn, vn_dew"
   ]
  },
  {
   "cell_type": "code",
   "execution_count": 9,
   "id": "7b9eb1aa-b39e-43cc-b01f-c0b82caed91d",
   "metadata": {},
   "outputs": [
    {
     "data": {
      "text/plain": [
       "10.197449118967656"
      ]
     },
     "execution_count": 9,
     "metadata": {},
     "output_type": "execute_result"
    }
   ],
   "source": [
    "# Sverjensky et al 2014 appendix 1, equation 8\n",
    "# (also given in the official DEW excel spreadsheet)\n",
    "(0.1304*abs(Z) - 0.0217)*vn + (1.4567*abs(Z)+0.6187)"
   ]
  },
  {
   "attachments": {},
   "cell_type": "markdown",
   "id": "4861bd3e-8d22-4939-86f7-1d65c1eefe08",
   "metadata": {},
   "source": [
    "Cu+\n",
    "- 1.3144 (calculated from V, S, Z given in DEW data)\n",
    "- 1.2958 (DEW)\n",
    "\n",
    "Cu+2\n",
    "- -1.5172 (calculated from V, S, Z given in DEW data)\n",
    "- -1.4776 (DEW)\n",
    "\n",
    "Co+3\n",
    "- -8.7773 (calculated from V, S, Z given in DEW data)\n",
    "- -8.7545 (DEW)\n",
    "\n",
    "MgCl+\n",
    "- 2.4435 (calculated from V, S, Z given in DEW data)\n",
    "- 3.2100 (DEW)\n",
    "\n",
    "CN-\n",
    "- 5.0522 (calculated from V, S, Z given in DEW data)\n",
    "- 5.0522 (DEW)\n",
    "\n",
    "S2-2\n",
    "- 10.1975 (calculated from V, S, Z given in DEW data)\n",
    "- 10.1975 (DEW)"
   ]
  },
  {
   "cell_type": "code",
   "execution_count": null,
   "id": "b8364de0-e8c1-45c1-aa6e-d65a702686aa",
   "metadata": {},
   "outputs": [],
   "source": []
  }
 ],
 "metadata": {
  "kernelspec": {
   "display_name": "Python 3",
   "language": "python",
   "name": "python3"
  },
  "language_info": {
   "codemirror_mode": {
    "name": "ipython",
    "version": 3
   },
   "file_extension": ".py",
   "mimetype": "text/x-python",
   "name": "python",
   "nbconvert_exporter": "python",
   "pygments_lexer": "ipython3",
   "version": "3.10.12"
  }
 },
 "nbformat": 4,
 "nbformat_minor": 5
}
