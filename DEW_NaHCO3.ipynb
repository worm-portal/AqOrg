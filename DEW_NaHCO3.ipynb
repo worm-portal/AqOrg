{
 "cells": [
  {
   "cell_type": "code",
   "execution_count": 1,
   "id": "8bf47931-6b1b-4421-89ba-8f90c947c8a2",
   "metadata": {},
   "outputs": [],
   "source": [
    "import AqOrg"
   ]
  },
  {
   "cell_type": "code",
   "execution_count": 2,
   "id": "24dbe8e3-f3b4-4927-90ab-654ae74a9215",
   "metadata": {},
   "outputs": [],
   "source": [
    "G = (-203100/1000)*4.184\n",
    "H = (-219552/1000)*4.184\n",
    "S = 32*4.184\n",
    "V = 39\n",
    "Cp = 62*4.184"
   ]
  },
  {
   "cell_type": "code",
   "execution_count": 3,
   "id": "43d50e8c-c82d-489d-bf0b-4b5707fd4dd8",
   "metadata": {},
   "outputs": [
    {
     "name": "stdout",
     "output_type": "stream",
     "text": [
      "eta = 166027.0 (angstroms*cal/mol), YBorn = -5.802e-05 (1/K), QBorn = 5.903e-07 (1/bar), XBorn = -3.09e-07 (1/K**2)\n",
      "\n",
      "abs_protonBorn = (0.5387 * 10**5), mentioned in text after Eq 47 in Shock and Helgeson 1988\n",
      "\n",
      "Gh is not provided and charge equals zero so estimate omega for neutral solutes from Shock and Helgeson 1990...\n",
      "HKFomega = -0.60504 = (10**-5)*((-1514.4*(Saq/4.184)) + (0.34*10**5))*4.184, Eq 61 in Shock and Helgeson 1990, omega*10**-5 (J/mol)\n",
      "\n",
      "V_solv = 0.35716 = -(HKFomega/10**-5)*QBorn*10, Eq 5 in Shock and Helgeson 1988, along with a conversion of 10 cm3 = 1 joule/bar, delta V solvation (cm3/mol)\n",
      "\n",
      "V_nonsolv = 38.643 = V - V_solv, Eq 4 in Shock and Helgeson 1988, delta V nonsolvation (cm3/mol)\n",
      "\n",
      "HKFsigma = 44.694 = 1.11*V_nonsolv + 1.8, Eq 87 in Shock and Helgeson, sigma (cm3/mol)\n",
      "\n",
      "cp_solv = 5.5741 = ((HKFomega/10**-5)*298.15*XBorn), Eq 35 in Shock and Helgeson 1988, dCpsolv = omega*T*X, delta Cp solvation (J/mol*K)\n",
      "\n",
      "cp_nonsolv = 253.83 = Cp - cp_solv, Eq 29 in Shock and Helgeson 1988, delta Cp nonsolvation (J/mol*K)\n",
      "\n",
      "Gh is unavailable and/or charge is not 0, so estimate a2, a4 from Shock and Helgeson 1988, and a1 from Sverjensky et al 2014\n",
      "Warning: please specify the phase of this species at 25 degrees C and 1 bar when not dissolved in water by setting the phase_at_TrPr parameter to either 'cr','gas', or 'liq'. Assuming the phase is 'cr' for now...\n",
      "HKFa1 = 38.651 = (0.1942*V_nonsolv + 1.52)*4.184, Eq 16 in Sverjensky et al 2014, after Plyasunov and Shock 2001, converted to J/mol*bar, a1*10 (J/mol*bar)\n",
      "\n",
      "HKFa2 = 18.888 = (10**-2)*(((HKFsigma/41.84) - ((HKFa1/10)/4.184))/(1/(2601)))*4.184, Eq 8 in Shock and Helgeson 1988, rearranged to solve for a2*10**-2 (J/mol). Sigma is divided by 41.84 due to the conversion of 41.84 cm3 = cal/bar\n",
      "\n",
      "HKFa4 = -12.408 = (10**-4)*(-4.134*(HKFa2/4.184)-27790)*4.184, Eq 88 in Shock and Helgeson 1988, a4*10**-4 (J*K/mol)\n",
      "\n",
      "HKFc2 = 40.145 = (0.2037*(Cp/4.184) - 3.0346)*4.184, Eq 89 in Shock and Helgeson 1988, c2*10**-4 (j*K/mol)\n",
      "\n",
      "HKFc1 = 172.26 = cp_nonsolv-(((HKFc2)/10**-4)*(1/(298.15-228))**2), Eq 31 in Shock and Helgeson 1988, rearranged to solve for c1 (j/mol*K)\n",
      "\n",
      "HKFa3 = 4.4123 = (((V/10)-(HKFa1/10)-((HKFa2/10**-2)/2601) + ((HKFomega/10**-5)*QBorn))/(1/(298.15-228)))-((HKFa4/10**-4)/2601), Eq 11 in Shock and Helgeson 1988, rearranged to solve for a3 (j*K/mol*bar). V is divided by 10 due to the conversion of 10 cm3 = J/bar\n",
      "\n"
     ]
    }
   ],
   "source": [
    "out_dict = AqOrg.find_HKF(\n",
    "        V=V,\n",
    "        Cp=Cp,\n",
    "        Gf=G,\n",
    "        Hf=H,\n",
    "        Saq=S,\n",
    "        charge=0,\n",
    "        J_to_cal=True,\n",
    "        organic=False,\n",
    "        DEW=True,\n",
    "        print_eq=True)"
   ]
  },
  {
   "cell_type": "code",
   "execution_count": 4,
   "id": "3e6cb194-41a1-46fd-9722-8d1dd4ca2f20",
   "metadata": {},
   "outputs": [
    {
     "data": {
      "text/plain": [
       "{'G': -203100.0,\n",
       " 'H': -219552.0,\n",
       " 'S': 32.0,\n",
       " 'Cp': 62.0,\n",
       " 'V': 39,\n",
       " 'a1': 9.237691433552001,\n",
       " 'a2': 4.51441813023698,\n",
       " 'a3': 1.0545694830138697,\n",
       " 'a4': -2.965626045503997,\n",
       " 'c1': 41.17017642732454,\n",
       " 'c2': 9.5948,\n",
       " 'omega': 0.3,\n",
       " 'Z': 0,\n",
       " 'Vsolv': -0.7409445600000002,\n",
       " 'Vnonsolv': 39.74094456,\n",
       " 'sigma': 45.91244846160001}"
      ]
     },
     "execution_count": 4,
     "metadata": {},
     "output_type": "execute_result"
    }
   ],
   "source": [
    "out_dict"
   ]
  },
  {
   "cell_type": "markdown",
   "id": "9797fd11-a379-4aeb-a387-a994afe69fc5",
   "metadata": {},
   "source": [
    "Why don't the HKF parameters match Huang and Sverjensky 2019?"
   ]
  },
  {
   "cell_type": "code",
   "execution_count": null,
   "id": "8a37a5af-5bac-4e72-89e4-d38207d9cff9",
   "metadata": {},
   "outputs": [],
   "source": []
  }
 ],
 "metadata": {
  "kernelspec": {
   "display_name": "Python 3",
   "language": "python",
   "name": "python3"
  },
  "language_info": {
   "codemirror_mode": {
    "name": "ipython",
    "version": 3
   },
   "file_extension": ".py",
   "mimetype": "text/x-python",
   "name": "python",
   "nbconvert_exporter": "python",
   "pygments_lexer": "ipython3",
   "version": "3.10.12"
  }
 },
 "nbformat": 4,
 "nbformat_minor": 5
}
