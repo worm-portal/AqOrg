{
 "cells": [
  {
   "cell_type": "code",
   "execution_count": 1,
   "metadata": {},
   "outputs": [],
   "source": [
    "from AqOrg import find_HKF, find_HKF_test"
   ]
  },
  {
   "cell_type": "code",
   "execution_count": 2,
   "metadata": {},
   "outputs": [
    {
     "name": "stdout",
     "output_type": "stream",
     "text": [
      "PLYASUNOV AND SHOCK 2001, TABLE 4\n",
      "---------------------------------------------\n",
      "SO2\n",
      "---------\n",
      "Input parameters:\n",
      "Gh=-0.51, V=39.0, Cp=146, charge=0, J_to_cal=False\n",
      "\n",
      "Published: -0.95, \tCalculated: -0.95, \tomega*10**-5\n",
      "Published: 32.02, \tCalculated: 32.02, \ta1*10\n",
      "Published: 25.17, \tCalculated: 25.18, \ta2*10**-2\n",
      "Published: 18.71, \tCalculated: 18.66, \ta3\n",
      "Published: -10.79, \tCalculated: -10.79, \ta4*10**-4\n",
      "Published: 93.2, \tCalculated: 94.7, \tc1\n",
      "Published: 20.97, \tCalculated: 20.97, \tc2*10**-4\n",
      "\n",
      "Pyridine\n",
      "---------\n",
      "Input parameters:\n",
      "Gh=-11.7, V=77.1, Cp=306, charge=0, J_to_cal=False\n",
      "\n",
      "Published: -0.56, \tCalculated: -0.56, \tomega*10**-5\n",
      "Published: 64.89, \tCalculated: 64.9, \ta1*10\n",
      "Published: 45.62, \tCalculated: 45.62, \ta2*10**-2\n",
      "Published: 69.94, \tCalculated: 69.8, \ta3\n",
      "Published: -28.50, \tCalculated: -28.5, \ta4*10**-4\n",
      "Published: 278.1, \tCalculated: 277.6, \tc1\n",
      "Published: 11.47, \tCalculated: 11.47, \tc2*10**-4\n",
      "\n",
      "1,4-Butanediol\n",
      "---------\n",
      "Input parameters:\n",
      "Gh=-37.7, V=88.23, Cp=347, charge=0, J_to_cal=False\n",
      "\n",
      "Published: 0.08, \tCalculated: 0.08, \tomega*10**-5\n",
      "Published: 78.50, \tCalculated: 78.53, \ta1*10\n",
      "Published: 41.17, \tCalculated: 41.17, \ta2*10**-2\n",
      "Published: 76.32, \tCalculated: 76.05, \ta3\n",
      "Published: -30.87, \tCalculated: -30.87, \ta4*10**-4\n",
      "Published: 369.2, \tCalculated: 369.3, \tc1\n",
      "Published: -10.61, \tCalculated: -10.61, \tc2*10**-4\n",
      "\n",
      "beta-alanine\n",
      "---------\n",
      "Input parameters:\n",
      "Gh=-74, V=58.7, Cp=76, charge=0, J_to_cal=False\n",
      "\n",
      "Published: 0.64, \tCalculated: 0.64, \tomega*10**-5\n",
      "Published: 56.17, \tCalculated: 56.2, \ta1*10\n",
      "Published: 17.14, \tCalculated: 17.14, \ta2*10**-2\n",
      "Published: 54.55, \tCalculated: 54.25, \ta3\n",
      "Published: -20.90, \tCalculated: -20.9, \ta4*10**-4\n",
      "Published: 165.5, \tCalculated: 166.1, \tc1\n",
      "Published: -41.43, \tCalculated: -41.43, \tc2*10**-4\n",
      "\n"
     ]
    }
   ],
   "source": [
    "find_HKF_test()"
   ]
  },
  {
   "cell_type": "code",
   "execution_count": 3,
   "metadata": {},
   "outputs": [
    {
     "name": "stdout",
     "output_type": "stream",
     "text": [
      "SO2\n",
      "---------\n",
      "eta = 166027.0 (angstroms*cal/mol), YBorn = -5.81e-05 (1/K), QBorn = 5.9e-07 (1/bar), XBorn = -3.09e-07 (1/K**2)\n",
      "\n",
      "abs_protonBorn = (0.5387 * 10**5), mentioned in text after Eq 47 in Shock and Helgeson 1988\n",
      "\n",
      "HKFomega = 2.61+(324.1/(Gh-90.6)), Eq 8 in Plyasunov and Shock 2001, omega*10**-5 (j/mol)\n",
      "\n",
      "V_solv = -(HKFomega/10**-5)*QBorn*10, Eq 5 in Shock and Helgeson 1988, along with a conversion of 10 cm3 = 1 joule/bar, delta V solvation (cm3/mol)\n",
      "\n",
      "V_nonsolv = V - V_solv, Eq 4 in Shock and Helgeson 1988, delta V nonsolvation (cm3/mol)\n",
      "\n",
      "HKFsigma = 1.11*V_nonsolv + 1.8, Eq 87 in Shock and Helgeson, sigma (cm3/mol)\n",
      "\n",
      "cp_solv = ((HKFomega/10**-5)*298.15*XBorn), Eq 35 in Shock and Helgeson 1988, dCpsolv = omega*T*X, delta Cp solvation (J/mol*K)\n",
      "\n",
      "cp_nonsolv = Cp - cp_solv, Eq 29 in Shock and Helgeson 1988, delta Cp nonsolvation (J/mol*K)\n",
      "\n",
      "HKFa1 = (0.820-((1.858*10**-3)*(Gh)))*V, Eq 10 in Plyasunov and Shock 2001, a1*10 (j/mol*bar)\n",
      "\n",
      "HKFa2 = (0.648+((0.00481)*(Gh)))*V, Eq 11 in Plyasunov and Shock 2001, a2*10**-2 (j/mol)\n",
      "\n",
      "HKFa4 = 8.10-(0.746*HKFa2)+(0.219*Gh), Eq 12 in Plyasunov and Shock 2001, a4*10**-4 (j*K/mol)\n",
      "\n",
      "HKFc2 = 21.4+(0.849*Gh), Eq 14 in Plyasunov and Shock 2001, c2*10**-4 (j*K/mol)\n",
      "\n",
      "HKFc1 = cp_nonsolv-(((HKFc2)/10**-4)*(1/(298.15-228))**2), Eq 31 in Shock and Helgeson 1988, rearranged to solve for c1 (j/mol*K)\n",
      "\n",
      "HKFa3 = (((V/10)-(HKFa1/10)-((HKFa2/10**-2)/2601) + ((HKFomega/10**-5)*QBorn))/(1/(298.15-228)))-((HKFa4/10**-4)/2601), Eq 11 in Shock and Helgeson 1988, rearranged to solve for a3 (j*K/mol*bar). V is divided by 10 due to the conversion of 10 cm3 = J/bar\n",
      "\n",
      "{'G': nan, 'H': nan, 'S': nan, 'Cp': 146.0, 'V': 39.0, 'a1': 32.01695562, 'a2': 25.1763291, 'a3': 18.660490377694654, 'a4': -10.7932315086, 'c1': 94.66622879573569, 'c2': 20.96701, 'omega': -0.9472385029085726, 'Z': 0, 'Vsolv': 0.5588707167160577, 'Vnonsolv': 38.44112928328394, 'sigma': 44.469653504445176}\n"
     ]
    }
   ],
   "source": [
    "print(\"SO2\\n---------\")\n",
    "print(find_HKF(Gh=-0.51, V=39.0, Cp=146, charge=0,\n",
    "               J_to_cal=False, print_eq=True))"
   ]
  },
  {
   "cell_type": "code",
   "execution_count": 4,
   "metadata": {},
   "outputs": [
    {
     "name": "stdout",
     "output_type": "stream",
     "text": [
      "Pyridine\n",
      "---------\n",
      "eta = 166027.0 (angstroms*cal/mol), YBorn = -5.81e-05 (1/K), QBorn = 5.9e-07 (1/bar), XBorn = -3.09e-07 (1/K**2)\n",
      "\n",
      "abs_protonBorn = (0.5387 * 10**5), mentioned in text after Eq 47 in Shock and Helgeson 1988\n",
      "\n",
      "HKFomega = 2.61+(324.1/(Gh-90.6)), Eq 8 in Plyasunov and Shock 2001, omega*10**-5 (j/mol)\n",
      "\n",
      "V_solv = -(HKFomega/10**-5)*QBorn*10, Eq 5 in Shock and Helgeson 1988, along with a conversion of 10 cm3 = 1 joule/bar, delta V solvation (cm3/mol)\n",
      "\n",
      "V_nonsolv = V - V_solv, Eq 4 in Shock and Helgeson 1988, delta V nonsolvation (cm3/mol)\n",
      "\n",
      "HKFsigma = 1.11*V_nonsolv + 1.8, Eq 87 in Shock and Helgeson, sigma (cm3/mol)\n",
      "\n",
      "cp_solv = ((HKFomega/10**-5)*298.15*XBorn), Eq 35 in Shock and Helgeson 1988, dCpsolv = omega*T*X, delta Cp solvation (J/mol*K)\n",
      "\n",
      "cp_nonsolv = Cp - cp_solv, Eq 29 in Shock and Helgeson 1988, delta Cp nonsolvation (J/mol*K)\n",
      "\n",
      "HKFa1 = (0.820-((1.858*10**-3)*(Gh)))*V, Eq 10 in Plyasunov and Shock 2001, a1*10 (j/mol*bar)\n",
      "\n",
      "HKFa2 = (0.648+((0.00481)*(Gh)))*V, Eq 11 in Plyasunov and Shock 2001, a2*10**-2 (j/mol)\n",
      "\n",
      "HKFa4 = 8.10-(0.746*HKFa2)+(0.219*Gh), Eq 12 in Plyasunov and Shock 2001, a4*10**-4 (j*K/mol)\n",
      "\n",
      "HKFc2 = 21.4+(0.849*Gh), Eq 14 in Plyasunov and Shock 2001, c2*10**-4 (j*K/mol)\n",
      "\n",
      "HKFc1 = cp_nonsolv-(((HKFc2)/10**-4)*(1/(298.15-228))**2), Eq 31 in Shock and Helgeson 1988, rearranged to solve for c1 (j/mol*K)\n",
      "\n",
      "HKFa3 = (((V/10)-(HKFa1/10)-((HKFa2/10**-2)/2601) + ((HKFomega/10**-5)*QBorn))/(1/(298.15-228)))-((HKFa4/10**-4)/2601), Eq 11 in Shock and Helgeson 1988, rearranged to solve for a3 (j*K/mol*bar). V is divided by 10 due to the conversion of 10 cm3 = J/bar\n",
      "\n",
      "{'G': nan, 'H': nan, 'S': nan, 'Cp': 306.0, 'V': 77.1, 'a1': 64.89804606, 'a2': 45.621843299999995, 'a3': 69.80137281230905, 'a4': -28.496195101799998, 'c1': 277.5565551115563, 'c2': 11.4667, 'omega': -0.5581329423264911, 'Z': 0, 'Vsolv': 0.32929843597262975, 'Vnonsolv': 76.77070156402736, 'sigma': 87.01547873607038}\n"
     ]
    }
   ],
   "source": [
    "print(\"Pyridine\\n---------\")\n",
    "print(find_HKF(Gh=-11.7, V=77.1, Cp=306, charge=0,\n",
    "               J_to_cal=False, print_eq=True))"
   ]
  },
  {
   "cell_type": "code",
   "execution_count": 5,
   "metadata": {},
   "outputs": [
    {
     "name": "stdout",
     "output_type": "stream",
     "text": [
      "1,4-Butanediol\n",
      "---------\n",
      "eta = 166027.0 (angstroms*cal/mol), YBorn = -5.81e-05 (1/K), QBorn = 5.9e-07 (1/bar), XBorn = -3.09e-07 (1/K**2)\n",
      "\n",
      "abs_protonBorn = (0.5387 * 10**5), mentioned in text after Eq 47 in Shock and Helgeson 1988\n",
      "\n",
      "HKFomega = 2.61+(324.1/(Gh-90.6)), Eq 8 in Plyasunov and Shock 2001, omega*10**-5 (j/mol)\n",
      "\n",
      "V_solv = -(HKFomega/10**-5)*QBorn*10, Eq 5 in Shock and Helgeson 1988, along with a conversion of 10 cm3 = 1 joule/bar, delta V solvation (cm3/mol)\n",
      "\n",
      "V_nonsolv = V - V_solv, Eq 4 in Shock and Helgeson 1988, delta V nonsolvation (cm3/mol)\n",
      "\n",
      "HKFsigma = 1.11*V_nonsolv + 1.8, Eq 87 in Shock and Helgeson, sigma (cm3/mol)\n",
      "\n",
      "cp_solv = ((HKFomega/10**-5)*298.15*XBorn), Eq 35 in Shock and Helgeson 1988, dCpsolv = omega*T*X, delta Cp solvation (J/mol*K)\n",
      "\n",
      "cp_nonsolv = Cp - cp_solv, Eq 29 in Shock and Helgeson 1988, delta Cp nonsolvation (J/mol*K)\n",
      "\n",
      "HKFa1 = (0.820-((1.858*10**-3)*(Gh)))*V, Eq 10 in Plyasunov and Shock 2001, a1*10 (j/mol*bar)\n",
      "\n",
      "HKFa2 = (0.648+((0.00481)*(Gh)))*V, Eq 11 in Plyasunov and Shock 2001, a2*10**-2 (j/mol)\n",
      "\n",
      "HKFa4 = 8.10-(0.746*HKFa2)+(0.219*Gh), Eq 12 in Plyasunov and Shock 2001, a4*10**-4 (j*K/mol)\n",
      "\n",
      "HKFc2 = 21.4+(0.849*Gh), Eq 14 in Plyasunov and Shock 2001, c2*10**-4 (j*K/mol)\n",
      "\n",
      "HKFc1 = cp_nonsolv-(((HKFc2)/10**-4)*(1/(298.15-228))**2), Eq 31 in Shock and Helgeson 1988, rearranged to solve for c1 (j/mol*K)\n",
      "\n",
      "HKFa3 = (((V/10)-(HKFa1/10)-((HKFa2/10**-2)/2601) + ((HKFomega/10**-5)*QBorn))/(1/(298.15-228)))-((HKFa4/10**-4)/2601), Eq 11 in Shock and Helgeson 1988, rearranged to solve for a3 (j*K/mol*bar). V is divided by 10 due to the conversion of 10 cm3 = J/bar\n",
      "\n",
      "{'G': nan, 'H': nan, 'S': nan, 'Cp': 347.0, 'V': 88.23, 'a1': 78.52881151800001, 'a2': 41.17367649, 'a3': 76.04628897948768, 'a4': -30.87186266154, 'c1': 369.3279316390114, 'c2': -10.607300000000002, 'omega': 0.08388932190179244, 'Z': 0, 'Vsolv': -0.04949469992205753, 'Vnonsolv': 88.27949469992207, 'sigma': 99.7902391169135}\n"
     ]
    }
   ],
   "source": [
    "print(\"1,4-Butanediol\\n---------\")\n",
    "print(find_HKF(Gh=-37.7, V=88.23, Cp=347, charge=0,\n",
    "               J_to_cal=False, print_eq=True))"
   ]
  },
  {
   "cell_type": "code",
   "execution_count": 6,
   "metadata": {},
   "outputs": [
    {
     "name": "stdout",
     "output_type": "stream",
     "text": [
      "beta-alanine\n",
      "---------\n",
      "eta = 166027.0 (angstroms*cal/mol), YBorn = -5.81e-05 (1/K), QBorn = 5.9e-07 (1/bar), XBorn = -3.09e-07 (1/K**2)\n",
      "\n",
      "abs_protonBorn = (0.5387 * 10**5), mentioned in text after Eq 47 in Shock and Helgeson 1988\n",
      "\n",
      "HKFomega = 2.61+(324.1/(Gh-90.6)), Eq 8 in Plyasunov and Shock 2001, omega*10**-5 (j/mol)\n",
      "\n",
      "V_solv = -(HKFomega/10**-5)*QBorn*10, Eq 5 in Shock and Helgeson 1988, along with a conversion of 10 cm3 = 1 joule/bar, delta V solvation (cm3/mol)\n",
      "\n",
      "V_nonsolv = V - V_solv, Eq 4 in Shock and Helgeson 1988, delta V nonsolvation (cm3/mol)\n",
      "\n",
      "HKFsigma = 1.11*V_nonsolv + 1.8, Eq 87 in Shock and Helgeson, sigma (cm3/mol)\n",
      "\n",
      "cp_solv = ((HKFomega/10**-5)*298.15*XBorn), Eq 35 in Shock and Helgeson 1988, dCpsolv = omega*T*X, delta Cp solvation (J/mol*K)\n",
      "\n",
      "cp_nonsolv = Cp - cp_solv, Eq 29 in Shock and Helgeson 1988, delta Cp nonsolvation (J/mol*K)\n",
      "\n",
      "HKFa1 = (0.820-((1.858*10**-3)*(Gh)))*V, Eq 10 in Plyasunov and Shock 2001, a1*10 (j/mol*bar)\n",
      "\n",
      "HKFa2 = (0.648+((0.00481)*(Gh)))*V, Eq 11 in Plyasunov and Shock 2001, a2*10**-2 (j/mol)\n",
      "\n",
      "HKFa4 = 8.10-(0.746*HKFa2)+(0.219*Gh), Eq 12 in Plyasunov and Shock 2001, a4*10**-4 (j*K/mol)\n",
      "\n",
      "HKFc2 = 21.4+(0.849*Gh), Eq 14 in Plyasunov and Shock 2001, c2*10**-4 (j*K/mol)\n",
      "\n",
      "HKFc1 = cp_nonsolv-(((HKFc2)/10**-4)*(1/(298.15-228))**2), Eq 31 in Shock and Helgeson 1988, rearranged to solve for c1 (j/mol*K)\n",
      "\n",
      "HKFa3 = (((V/10)-(HKFa1/10)-((HKFa2/10**-2)/2601) + ((HKFomega/10**-5)*QBorn))/(1/(298.15-228)))-((HKFa4/10**-4)/2601), Eq 11 in Shock and Helgeson 1988, rearranged to solve for a3 (j*K/mol*bar). V is divided by 10 due to the conversion of 10 cm3 = J/bar\n",
      "\n",
      "{'G': nan, 'H': nan, 'S': nan, 'Cp': 76.0, 'V': 58.7, 'a1': 56.204780400000004, 'a2': 17.143922000000003, 'a3': 54.25495959548845, 'a4': -20.895365812, 'c1': 166.086973624905, 'c2': -41.426, 'omega': 0.6409842041312268, 'Z': 0, 'Vsolv': -0.37818068043742376, 'Vnonsolv': 59.07818068043743, 'sigma': 67.37678055528555}\n"
     ]
    }
   ],
   "source": [
    "print(\"beta-alanine\\n---------\")\n",
    "print(find_HKF(Gh=-74, V=58.7, Cp=76, charge=0,\n",
    "               J_to_cal=False, print_eq=True))"
   ]
  }
 ],
 "metadata": {
  "kernelspec": {
   "display_name": "Python 3",
   "language": "python",
   "name": "python3"
  },
  "language_info": {
   "codemirror_mode": {
    "name": "ipython",
    "version": 3
   },
   "file_extension": ".py",
   "mimetype": "text/x-python",
   "name": "python",
   "nbconvert_exporter": "python",
   "pygments_lexer": "ipython3",
   "version": "3.7.0"
  }
 },
 "nbformat": 4,
 "nbformat_minor": 4
}
