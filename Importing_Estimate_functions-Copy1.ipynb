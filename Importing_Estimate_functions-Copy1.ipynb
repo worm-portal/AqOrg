{
 "cells": [
  {
   "cell_type": "code",
   "execution_count": 1,
   "id": "fbddc86f-32a1-4ca0-9f7b-53c5104436cb",
   "metadata": {},
   "outputs": [
    {
     "name": "stderr",
     "output_type": "stream",
     "text": [
      "/opt/worm_venvs/python3dev/lib/python3.10/site-packages/pubchempy.py:563: SyntaxWarning: \"is not\" with a literal. Did you mean \"!=\"?\n",
      "  if self.charge is not 0:\n"
     ]
    }
   ],
   "source": [
    "# the stuff in this cell goes in your script\n",
    "from AqOrg import Estimate\n",
    "\n",
    "class Regress(Estimate):\n",
    "    def __init__(self, name=None, smiles=None, group_data=None, state=\"aq\"):\n",
    "\n",
    "        self.name = name\n",
    "        self.smiles = smiles\n",
    "        self.state = state\n",
    "        self.group_data = group_data\n",
    "\n",
    "        self.load_group_data()\n",
    "        self.get_mol_smiles_formula_formula_dict()\n",
    "        self.match_dict = self.match_groups()"
   ]
  },
  {
   "cell_type": "code",
   "execution_count": 2,
   "id": "4e556936-a7a9-48cd-9436-ae102046759d",
   "metadata": {},
   "outputs": [
    {
     "data": {
      "text/plain": [
       "{'Yo': 0,\n",
       " '[C!H3]-[CX4H3R0]': 1,\n",
       " '[CX4H3R0]-O': 0,\n",
       " 'C-[CX4H2R0]-C': 4,\n",
       " 'C-[CX4H1R0](-C)-C': 0,\n",
       " 'C-[CX4H0R0](-C)(-C)-C': 0,\n",
       " 'O-[CX4H2]-C': 1,\n",
       " 'C-[CX4H1](-C)[OH]': 0,\n",
       " 'C-[CX4H0](-C)(-C)[OH]': 0,\n",
       " 'C-[OX2H]': 1,\n",
       " 'C-[C](-C)=O': 0,\n",
       " 'C-[CH2]-C=O': 0,\n",
       " 'C-[CH](-C)-C=O': 0,\n",
       " 'C-[C](-C)(-C)-C=O': 0,\n",
       " 'C-[C](=O)-O-C': 0,\n",
       " '[CH](=O)-OC': 0,\n",
       " 'O=C-O-[CX4H1](-C)-C': 0,\n",
       " 'O=C-O-[CX4H0](-C)(-C)-C': 0,\n",
       " 'S-[CH2]-C': 0,\n",
       " 'S-[CH](-C)-C': 0,\n",
       " 'S-[C](-C)(-C)-C': 0,\n",
       " 'C-[SX2H1]': 0,\n",
       " 'C-[SX2]-C': 0,\n",
       " 'S-[S]-C': 0,\n",
       " 'S-[S]-S': 0,\n",
       " 'C-[CX4H1](-O-C)-C': 0,\n",
       " 'C-O-[CX4H0](-C)(-C)-C': 0,\n",
       " 'C-[OX2]-C': 0,\n",
       " 'O-[CH2]-O': 0,\n",
       " 'O-[CH](-C)-O': 0,\n",
       " '[O](-C[CH3])-C[CH2]': 0,\n",
       " 'O-[CH2]-[CH2]-O': 0,\n",
       " 'N#C-[CH2]-C': 0,\n",
       " 'N#C-[CH](-C)-C': 0,\n",
       " 'C-[CX2H0]#N': 0,\n",
       " '[CH2](-[CH2]-C#N)-C#N': 0,\n",
       " '[CH2](-[CH2]-[CH2]-C#N)-C#N': 0,\n",
       " '[CR0H0]=[CR0H0]': 0,\n",
       " '[CR0H1]=[CR0H0]': 0,\n",
       " '[CR0H1]=[CR0H1]': 0,\n",
       " '[CR0H1]=[CR0H2]': 0,\n",
       " '[CR0H0]=[CR0H2]': 0,\n",
       " 'C-[CX4H2R]-C': 0,\n",
       " 'C-[CX4H1R](-C)-C': 0,\n",
       " 'C-[CX4H0R](-C)(-C)-C': 0,\n",
       " '[CRH0]=[CRH0]': 0,\n",
       " '[CRH1]=[CRH0]': 0,\n",
       " '[CRH1]=[CRH1]': 0,\n",
       " '[cH1]': 0,\n",
       " '[cH0]': 0,\n",
       " 'formula': 'C6H14O'}"
      ]
     },
     "execution_count": 2,
     "metadata": {},
     "output_type": "execute_result"
    }
   ],
   "source": [
    "r = Regress(smiles='CCCCCCO')\n",
    "r.match_dict"
   ]
  },
  {
   "cell_type": "code",
   "execution_count": null,
   "id": "661340ad-1bb5-4f38-9cbe-a25852b0c5f1",
   "metadata": {},
   "outputs": [],
   "source": []
  },
  {
   "cell_type": "code",
   "execution_count": null,
   "id": "98cc9460-a9f8-4d29-af01-fad27661ffd0",
   "metadata": {},
   "outputs": [],
   "source": []
  },
  {
   "cell_type": "code",
   "execution_count": null,
   "id": "5bba6b16-c69d-4b61-b291-153c09b7ca8b",
   "metadata": {},
   "outputs": [],
   "source": [
    "e = Estimate(\"hexanol\")\n",
    "e.smiles"
   ]
  },
  {
   "cell_type": "code",
   "execution_count": null,
   "id": "f7ea9c30-b5fd-4ed7-bb4a-9e53f4b95143",
   "metadata": {},
   "outputs": [],
   "source": [
    "# testing that it works in a notebook\n",
    "\n",
    "# trying out butane's smiles\n",
    "r = Regress(smiles=\"CCCC\")\n",
    "r.dict_to_formula(formula_dict={\"C\":4.0, \"H\":10.0})"
   ]
  },
  {
   "cell_type": "code",
   "execution_count": null,
   "id": "609b8339-5856-4161-affb-7bd6f0921a4a",
   "metadata": {},
   "outputs": [],
   "source": [
    "r.display_molecule()"
   ]
  },
  {
   "cell_type": "code",
   "execution_count": null,
   "id": "a26b3b74-f948-41de-a318-b68ffeb24d61",
   "metadata": {},
   "outputs": [],
   "source": [
    "r.match_groups()"
   ]
  },
  {
   "cell_type": "code",
   "execution_count": null,
   "id": "8c7ccca5-d9dc-4b3e-8a5f-f2bf052e3c1d",
   "metadata": {},
   "outputs": [],
   "source": [
    "# trying it out with name=\"hexanol\" this time\n",
    "r2 = Regress(name=\"hexanol\")\n",
    "r2.display_molecule()"
   ]
  },
  {
   "cell_type": "code",
   "execution_count": null,
   "id": "8aeffb67-e976-444a-8ff8-77763323aea9",
   "metadata": {},
   "outputs": [],
   "source": [
    "r2.match_groups()"
   ]
  },
  {
   "cell_type": "code",
   "execution_count": null,
   "id": "6871c399-6a9a-4c48-b2e5-3847dcf7bb10",
   "metadata": {},
   "outputs": [],
   "source": [
    "r2.smiles"
   ]
  },
  {
   "cell_type": "code",
   "execution_count": null,
   "id": "292be9a9-a849-4993-9a99-322734d98841",
   "metadata": {},
   "outputs": [],
   "source": []
  }
 ],
 "metadata": {
  "kernelspec": {
   "display_name": "Python 3 (developer testing)",
   "language": "python",
   "name": "python3dev"
  },
  "language_info": {
   "codemirror_mode": {
    "name": "ipython",
    "version": 3
   },
   "file_extension": ".py",
   "mimetype": "text/x-python",
   "name": "python",
   "nbconvert_exporter": "python",
   "pygments_lexer": "ipython3",
   "version": "3.10.12"
  }
 },
 "nbformat": 4,
 "nbformat_minor": 5
}
