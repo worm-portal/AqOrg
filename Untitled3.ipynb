{
 "cells": [
  {
   "cell_type": "code",
   "execution_count": 1,
   "id": "6354a959-1eaa-4efd-aa4d-fc08bf6fe458",
   "metadata": {},
   "outputs": [],
   "source": [
    "from AqOrg import *"
   ]
  },
  {
   "cell_type": "code",
   "execution_count": 2,
   "id": "9d69654c-9a91-4602-ba30-15945d9a3fae",
   "metadata": {},
   "outputs": [
    {
     "data": {
      "image/svg+xml": [
       "<svg xmlns=\"http://www.w3.org/2000/svg\" xmlns:rdkit=\"http://www.rdkit.org/xml\" xmlns:xlink=\"http://www.w3.org/1999/xlink\" version=\"1.1\" baseProfile=\"full\" xml:space=\"preserve\" width=\"450px\" height=\"150px\" viewBox=\"0 0 450 150\">\n",
       "<!-- END OF HEADER -->\n",
       "<rect style=\"opacity:1.0;fill:#FFFFFF;stroke:none\" width=\"450.0\" height=\"150.0\" x=\"0.0\" y=\"0.0\"> </rect>\n",
       "<path class=\"bond-0 atom-0 atom-1\" d=\"M 22.5,87.8 L 85.2,51.5\" style=\"fill:none;fill-rule:evenodd;stroke:#000000;stroke-width:2.0px;stroke-linecap:butt;stroke-linejoin:miter;stroke-opacity:1\"/>\n",
       "<path class=\"bond-1 atom-1 atom-2\" d=\"M 85.2,51.5 L 147.9,87.8\" style=\"fill:none;fill-rule:evenodd;stroke:#000000;stroke-width:2.0px;stroke-linecap:butt;stroke-linejoin:miter;stroke-opacity:1\"/>\n",
       "<path class=\"bond-2 atom-2 atom-3\" d=\"M 147.9,87.8 L 210.7,51.5\" style=\"fill:none;fill-rule:evenodd;stroke:#000000;stroke-width:2.0px;stroke-linecap:butt;stroke-linejoin:miter;stroke-opacity:1\"/>\n",
       "<path class=\"bond-3 atom-3 atom-4\" d=\"M 210.7,51.5 L 273.4,87.8\" style=\"fill:none;fill-rule:evenodd;stroke:#000000;stroke-width:2.0px;stroke-linecap:butt;stroke-linejoin:miter;stroke-opacity:1\"/>\n",
       "<path class=\"bond-4 atom-4 atom-5\" d=\"M 273.4,87.8 L 336.1,51.5\" style=\"fill:none;fill-rule:evenodd;stroke:#000000;stroke-width:2.0px;stroke-linecap:butt;stroke-linejoin:miter;stroke-opacity:1\"/>\n",
       "<path class=\"bond-5 atom-5 atom-6\" d=\"M 336.1,51.5 L 361.6,66.2\" style=\"fill:none;fill-rule:evenodd;stroke:#000000;stroke-width:2.0px;stroke-linecap:butt;stroke-linejoin:miter;stroke-opacity:1\"/>\n",
       "<path class=\"bond-5 atom-5 atom-6\" d=\"M 361.6,66.2 L 387.0,80.9\" style=\"fill:none;fill-rule:evenodd;stroke:#FF0000;stroke-width:2.0px;stroke-linecap:butt;stroke-linejoin:miter;stroke-opacity:1\"/>\n",
       "<path d=\"M 82.1,53.4 L 85.2,51.5 L 88.4,53.4\" style=\"fill:none;stroke:#000000;stroke-width:2.0px;stroke-linecap:butt;stroke-linejoin:miter;stroke-opacity:1;\"/>\n",
       "<path d=\"M 144.8,86.0 L 147.9,87.8 L 151.1,86.0\" style=\"fill:none;stroke:#000000;stroke-width:2.0px;stroke-linecap:butt;stroke-linejoin:miter;stroke-opacity:1;\"/>\n",
       "<path d=\"M 207.5,53.4 L 210.7,51.5 L 213.8,53.4\" style=\"fill:none;stroke:#000000;stroke-width:2.0px;stroke-linecap:butt;stroke-linejoin:miter;stroke-opacity:1;\"/>\n",
       "<path d=\"M 270.3,86.0 L 273.4,87.8 L 276.5,86.0\" style=\"fill:none;stroke:#000000;stroke-width:2.0px;stroke-linecap:butt;stroke-linejoin:miter;stroke-opacity:1;\"/>\n",
       "<path d=\"M 333.0,53.4 L 336.1,51.5 L 337.4,52.3\" style=\"fill:none;stroke:#000000;stroke-width:2.0px;stroke-linecap:butt;stroke-linejoin:miter;stroke-opacity:1;\"/>\n",
       "<path class=\"atom-6\" d=\"M 389.4 87.8 Q 389.4 82.9, 391.9 80.1 Q 394.3 77.4, 398.8 77.4 Q 403.4 77.4, 405.8 80.1 Q 408.3 82.9, 408.3 87.8 Q 408.3 92.8, 405.8 95.6 Q 403.3 98.5, 398.8 98.5 Q 394.3 98.5, 391.9 95.6 Q 389.4 92.8, 389.4 87.8 M 398.8 96.1 Q 402.0 96.1, 403.7 94.0 Q 405.4 91.9, 405.4 87.8 Q 405.4 83.8, 403.7 81.8 Q 402.0 79.7, 398.8 79.7 Q 395.7 79.7, 394.0 81.7 Q 392.3 83.8, 392.3 87.8 Q 392.3 92.0, 394.0 94.0 Q 395.7 96.1, 398.8 96.1 \" fill=\"#FF0000\"/>\n",
       "<path class=\"atom-6\" d=\"M 411.5 77.6 L 414.2 77.6 L 414.2 86.3 L 424.7 86.3 L 424.7 77.6 L 427.5 77.6 L 427.5 98.1 L 424.7 98.1 L 424.7 88.7 L 414.2 88.7 L 414.2 98.1 L 411.5 98.1 L 411.5 77.6 \" fill=\"#FF0000\"/>\n",
       "</svg>"
      ],
      "text/plain": [
       "<IPython.core.display.SVG object>"
      ]
     },
     "metadata": {},
     "output_type": "display_data"
    }
   ],
   "source": [
    "gas_props = Estimate(name=\"hexanol\", state=\"gas\", ig_method=\"custom\", group_data=\"gas props.csv\")"
   ]
  },
  {
   "cell_type": "code",
   "execution_count": 4,
   "id": "50b30364-cc6a-47f7-b86c-1497b8a45747",
   "metadata": {},
   "outputs": [
    {
     "ename": "AttributeError",
     "evalue": "'Estimate' object has no attribute 'Sig_err'",
     "output_type": "error",
     "traceback": [
      "\u001b[0;31m---------------------------------------------------------------------------\u001b[0m",
      "\u001b[0;31mAttributeError\u001b[0m                            Traceback (most recent call last)",
      "Cell \u001b[0;32mIn[4], line 1\u001b[0m\n\u001b[0;32m----> 1\u001b[0m \u001b[43mgas_props\u001b[49m\u001b[38;5;241;43m.\u001b[39;49m\u001b[43mSig_err\u001b[49m\n",
      "\u001b[0;31mAttributeError\u001b[0m: 'Estimate' object has no attribute 'Sig_err'"
     ]
    }
   ],
   "source": [
    "gas_props.Sig_err"
   ]
  },
  {
   "cell_type": "code",
   "execution_count": null,
   "id": "989688ef-0036-4cad-a267-e5e1da774f39",
   "metadata": {},
   "outputs": [],
   "source": []
  }
 ],
 "metadata": {
  "kernelspec": {
   "display_name": "Python 3",
   "language": "python",
   "name": "python3"
  },
  "language_info": {
   "codemirror_mode": {
    "name": "ipython",
    "version": 3
   },
   "file_extension": ".py",
   "mimetype": "text/x-python",
   "name": "python",
   "nbconvert_exporter": "python",
   "pygments_lexer": "ipython3",
   "version": "3.10.12"
  }
 },
 "nbformat": 4,
 "nbformat_minor": 5
}
