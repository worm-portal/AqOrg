{
 "cells": [
  {
   "cell_type": "markdown",
   "id": "55c7b0f7-f22a-4a3c-8d34-e43b32a5aa65",
   "metadata": {},
   "source": [
    "### Recreating DEW HKF parameters"
   ]
  },
  {
   "cell_type": "code",
   "execution_count": 1,
   "id": "116bf20e-d949-4967-9e31-8f7e81333a02",
   "metadata": {},
   "outputs": [],
   "source": [
    "eta = 1.66027E+05\n",
    "Y = -5.802E-05\n",
    "X = 0.0309E-05 # K-2 \n",
    "Q = 5.903E-07 # bar-1\n",
    "conv = 41.84"
   ]
  },
  {
   "cell_type": "code",
   "execution_count": 2,
   "id": "4ea2ab05-6800-47df-810c-8d7b36603bee",
   "metadata": {},
   "outputs": [],
   "source": [
    "# NaHCO3 from Huang and Sverjensky 2019\n",
    "# published omega: 0.8000 (10**5)\n",
    "# published a1 = 9.4783 (10**-1)\n",
    "\n",
    "G = -203100\n",
    "H = -219552\n",
    "S = 32\n",
    "V = 39\n",
    "Cp = 62\n",
    "Z = 0\n",
    "phase_at_TrPr = \"cr\""
   ]
  },
  {
   "cell_type": "code",
   "execution_count": 15,
   "id": "31551513-ad02-44f4-8561-d1e5e3d532e5",
   "metadata": {},
   "outputs": [
    {
     "data": {
      "text/plain": [
       "30000.0"
      ]
     },
     "execution_count": 15,
     "metadata": {},
     "output_type": "execute_result"
    }
   ],
   "source": [
    "# estimate omega\n",
    "if Z == 0 and phase_at_TrPr in [\"c\", \"cr\"]:\n",
    "    omega = 0.3E5 # eq 125\n",
    "elif Z == 0 and phase_at_TrPr in [\"g\", \"gas\", \"l\", \"liq\"]:\n",
    "    omega = -0.3E5 # eq 126\n",
    "else:\n",
    "    if Z > 0:\n",
    "        Bz = 0.544E5*Z # Eq 123\n",
    "    else:\n",
    "        Bz = 1.62E5*Z # Eq 123\n",
    "    \n",
    "    omega = -(1514.4)*S + Bz\n",
    "\n",
    "omega"
   ]
  },
  {
   "cell_type": "code",
   "execution_count": 16,
   "id": "b608cb51-83ec-4963-a82c-7157f698bc88",
   "metadata": {},
   "outputs": [],
   "source": [
    "#omega = 0.8E5"
   ]
  },
  {
   "cell_type": "code",
   "execution_count": 17,
   "id": "e823e062-8b22-4ff9-b846-0acd384f3212",
   "metadata": {},
   "outputs": [],
   "source": [
    "# calculate volumes of solvation and nonsolvation\n",
    "Vs = -omega*(0.05903*10**-5*conv) # Eq 120 in Sverjensky 2019\n",
    "Vn = V - Vs"
   ]
  },
  {
   "cell_type": "code",
   "execution_count": 18,
   "id": "425ce524-b4e0-4bea-b546-ff526bc4d621",
   "metadata": {},
   "outputs": [
    {
     "data": {
      "text/plain": [
       "9.2384888429976"
      ]
     },
     "execution_count": 18,
     "metadata": {},
     "output_type": "execute_result"
    }
   ],
   "source": [
    "# calculate a1\n",
    "a1 = (0.19421*Vn+1.5204)/10 # Eq 129 in Sverjensky 2019 is wrong... should be +1.5204 not -1.5204\n",
    "a1 * 10"
   ]
  },
  {
   "cell_type": "code",
   "execution_count": 19,
   "id": "76b992bb-b1c0-4a99-bfa3-d25af21468b8",
   "metadata": {},
   "outputs": [
    {
     "data": {
      "text/plain": [
       "-0.7409445600000002"
      ]
     },
     "execution_count": 19,
     "metadata": {},
     "output_type": "execute_result"
    }
   ],
   "source": [
    "Vs"
   ]
  },
  {
   "cell_type": "code",
   "execution_count": null,
   "id": "22921c7d-f677-4b14-89b4-c9d9f93fdfef",
   "metadata": {},
   "outputs": [],
   "source": []
  }
 ],
 "metadata": {
  "kernelspec": {
   "display_name": "Python 3",
   "language": "python",
   "name": "python3"
  },
  "language_info": {
   "codemirror_mode": {
    "name": "ipython",
    "version": 3
   },
   "file_extension": ".py",
   "mimetype": "text/x-python",
   "name": "python",
   "nbconvert_exporter": "python",
   "pygments_lexer": "ipython3",
   "version": "3.10.12"
  }
 },
 "nbformat": 4,
 "nbformat_minor": 5
}
