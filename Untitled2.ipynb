{
 "cells": [
  {
   "cell_type": "code",
   "execution_count": 1,
   "id": "edc58bd5-b46b-42d2-95f5-4f5328f2d23b",
   "metadata": {},
   "outputs": [],
   "source": [
    "from AqOrg import Estimate\n",
    "from chemparse import parse_formula"
   ]
  },
  {
   "cell_type": "code",
   "execution_count": 2,
   "id": "c3f081f5-f291-4e0d-a8f1-55e84249ace2",
   "metadata": {},
   "outputs": [
    {
     "data": {
      "image/svg+xml": [
       "<svg xmlns=\"http://www.w3.org/2000/svg\" xmlns:rdkit=\"http://www.rdkit.org/xml\" xmlns:xlink=\"http://www.w3.org/1999/xlink\" version=\"1.1\" baseProfile=\"full\" xml:space=\"preserve\" width=\"450px\" height=\"150px\" viewBox=\"0 0 450 150\">\n",
       "<!-- END OF HEADER -->\n",
       "<rect style=\"opacity:1.0;fill:#FFFFFF;stroke:none\" width=\"450.0\" height=\"150.0\" x=\"0.0\" y=\"0.0\"> </rect>\n",
       "<path class=\"bond-0 atom-0 atom-1\" d=\"M 338.4,46.6 L 338.9,66.9\" style=\"fill:none;fill-rule:evenodd;stroke:#000000;stroke-width:2.0px;stroke-linecap:butt;stroke-linejoin:miter;stroke-opacity:1\"/>\n",
       "<path class=\"bond-1 atom-1 atom-2\" d=\"M 338.9,66.9 L 356.8,76.6\" style=\"fill:none;fill-rule:evenodd;stroke:#000000;stroke-width:2.0px;stroke-linecap:butt;stroke-linejoin:miter;stroke-opacity:1\"/>\n",
       "<path class=\"bond-2 atom-2 atom-3\" d=\"M 356.8,76.6 L 374.0,66.0\" style=\"fill:none;fill-rule:evenodd;stroke:#000000;stroke-width:2.0px;stroke-linecap:butt;stroke-linejoin:miter;stroke-opacity:1\"/>\n",
       "<path class=\"bond-2 atom-2 atom-3\" d=\"M 356.7,73.0 L 372.4,63.4\" style=\"fill:none;fill-rule:evenodd;stroke:#000000;stroke-width:2.0px;stroke-linecap:butt;stroke-linejoin:miter;stroke-opacity:1\"/>\n",
       "<path class=\"bond-3 atom-3 atom-4\" d=\"M 374.0,66.0 L 391.9,75.6\" style=\"fill:none;fill-rule:evenodd;stroke:#000000;stroke-width:2.0px;stroke-linecap:butt;stroke-linejoin:miter;stroke-opacity:1\"/>\n",
       "<path class=\"bond-4 atom-4 atom-5\" d=\"M 391.9,75.6 L 392.4,95.9\" style=\"fill:none;fill-rule:evenodd;stroke:#000000;stroke-width:2.0px;stroke-linecap:butt;stroke-linejoin:miter;stroke-opacity:1\"/>\n",
       "<path class=\"bond-4 atom-4 atom-5\" d=\"M 394.9,77.3 L 395.4,94.1\" style=\"fill:none;fill-rule:evenodd;stroke:#000000;stroke-width:2.0px;stroke-linecap:butt;stroke-linejoin:miter;stroke-opacity:1\"/>\n",
       "<path class=\"bond-5 atom-5 atom-6\" d=\"M 392.4,95.9 L 375.1,106.5\" style=\"fill:none;fill-rule:evenodd;stroke:#000000;stroke-width:2.0px;stroke-linecap:butt;stroke-linejoin:miter;stroke-opacity:1\"/>\n",
       "<path class=\"bond-6 atom-5 atom-7\" d=\"M 392.4,95.9 L 410.2,105.6\" style=\"fill:none;fill-rule:evenodd;stroke:#000000;stroke-width:2.0px;stroke-linecap:butt;stroke-linejoin:miter;stroke-opacity:1\"/>\n",
       "<path class=\"bond-7 atom-7 atom-8\" d=\"M 410.2,105.6 L 427.5,95.0\" style=\"fill:none;fill-rule:evenodd;stroke:#000000;stroke-width:2.0px;stroke-linecap:butt;stroke-linejoin:miter;stroke-opacity:1\"/>\n",
       "<path class=\"bond-8 atom-8 atom-9\" d=\"M 427.5,95.0 L 427.0,74.7\" style=\"fill:none;fill-rule:evenodd;stroke:#000000;stroke-width:2.0px;stroke-linecap:butt;stroke-linejoin:miter;stroke-opacity:1\"/>\n",
       "<path class=\"bond-9 atom-9 atom-10\" d=\"M 427.0,74.7 L 409.1,65.0\" style=\"fill:none;fill-rule:evenodd;stroke:#000000;stroke-width:2.0px;stroke-linecap:butt;stroke-linejoin:miter;stroke-opacity:1\"/>\n",
       "<path class=\"bond-10 atom-10 atom-11\" d=\"M 409.1,65.0 L 395.7,49.8\" style=\"fill:none;fill-rule:evenodd;stroke:#000000;stroke-width:2.0px;stroke-linecap:butt;stroke-linejoin:miter;stroke-opacity:1\"/>\n",
       "<path class=\"bond-11 atom-10 atom-12\" d=\"M 409.1,65.0 L 421.8,49.2\" style=\"fill:none;fill-rule:evenodd;stroke:#000000;stroke-width:2.0px;stroke-linecap:butt;stroke-linejoin:miter;stroke-opacity:1\"/>\n",
       "<path class=\"bond-12 atom-1 atom-13\" d=\"M 338.9,66.9 L 321.7,77.5\" style=\"fill:none;fill-rule:evenodd;stroke:#000000;stroke-width:2.0px;stroke-linecap:butt;stroke-linejoin:miter;stroke-opacity:1\"/>\n",
       "<path class=\"bond-12 atom-1 atom-13\" d=\"M 335.9,65.2 L 321.6,74.0\" style=\"fill:none;fill-rule:evenodd;stroke:#000000;stroke-width:2.0px;stroke-linecap:butt;stroke-linejoin:miter;stroke-opacity:1\"/>\n",
       "<path class=\"bond-13 atom-13 atom-14\" d=\"M 321.7,77.5 L 303.8,67.8\" style=\"fill:none;fill-rule:evenodd;stroke:#000000;stroke-width:2.0px;stroke-linecap:butt;stroke-linejoin:miter;stroke-opacity:1\"/>\n",
       "<path class=\"bond-14 atom-14 atom-15\" d=\"M 303.8,67.8 L 286.6,78.4\" style=\"fill:none;fill-rule:evenodd;stroke:#000000;stroke-width:2.0px;stroke-linecap:butt;stroke-linejoin:miter;stroke-opacity:1\"/>\n",
       "<path class=\"bond-14 atom-14 atom-15\" d=\"M 303.9,71.3 L 288.2,81.0\" style=\"fill:none;fill-rule:evenodd;stroke:#000000;stroke-width:2.0px;stroke-linecap:butt;stroke-linejoin:miter;stroke-opacity:1\"/>\n",
       "<path class=\"bond-15 atom-15 atom-16\" d=\"M 286.6,78.4 L 268.7,68.8\" style=\"fill:none;fill-rule:evenodd;stroke:#000000;stroke-width:2.0px;stroke-linecap:butt;stroke-linejoin:miter;stroke-opacity:1\"/>\n",
       "<path class=\"bond-16 atom-16 atom-17\" d=\"M 268.7,68.8 L 268.2,48.5\" style=\"fill:none;fill-rule:evenodd;stroke:#000000;stroke-width:2.0px;stroke-linecap:butt;stroke-linejoin:miter;stroke-opacity:1\"/>\n",
       "<path class=\"bond-17 atom-16 atom-18\" d=\"M 268.7,68.8 L 251.5,79.4\" style=\"fill:none;fill-rule:evenodd;stroke:#000000;stroke-width:2.0px;stroke-linecap:butt;stroke-linejoin:miter;stroke-opacity:1\"/>\n",
       "<path class=\"bond-17 atom-16 atom-18\" d=\"M 265.7,67.1 L 251.4,75.9\" style=\"fill:none;fill-rule:evenodd;stroke:#000000;stroke-width:2.0px;stroke-linecap:butt;stroke-linejoin:miter;stroke-opacity:1\"/>\n",
       "<path class=\"bond-18 atom-18 atom-19\" d=\"M 251.5,79.4 L 233.6,69.7\" style=\"fill:none;fill-rule:evenodd;stroke:#000000;stroke-width:2.0px;stroke-linecap:butt;stroke-linejoin:miter;stroke-opacity:1\"/>\n",
       "<path class=\"bond-19 atom-19 atom-20\" d=\"M 233.6,69.7 L 216.4,80.3\" style=\"fill:none;fill-rule:evenodd;stroke:#000000;stroke-width:2.0px;stroke-linecap:butt;stroke-linejoin:miter;stroke-opacity:1\"/>\n",
       "<path class=\"bond-19 atom-19 atom-20\" d=\"M 233.7,73.2 L 218.0,82.9\" style=\"fill:none;fill-rule:evenodd;stroke:#000000;stroke-width:2.0px;stroke-linecap:butt;stroke-linejoin:miter;stroke-opacity:1\"/>\n",
       "<path class=\"bond-20 atom-20 atom-21\" d=\"M 216.4,80.3 L 198.5,70.6\" style=\"fill:none;fill-rule:evenodd;stroke:#000000;stroke-width:2.0px;stroke-linecap:butt;stroke-linejoin:miter;stroke-opacity:1\"/>\n",
       "<path class=\"bond-21 atom-21 atom-22\" d=\"M 198.5,70.6 L 181.3,81.2\" style=\"fill:none;fill-rule:evenodd;stroke:#000000;stroke-width:2.0px;stroke-linecap:butt;stroke-linejoin:miter;stroke-opacity:1\"/>\n",
       "<path class=\"bond-21 atom-21 atom-22\" d=\"M 198.6,74.1 L 184.3,82.9\" style=\"fill:none;fill-rule:evenodd;stroke:#000000;stroke-width:2.0px;stroke-linecap:butt;stroke-linejoin:miter;stroke-opacity:1\"/>\n",
       "<path class=\"bond-22 atom-22 atom-23\" d=\"M 181.3,81.2 L 181.8,101.5\" style=\"fill:none;fill-rule:evenodd;stroke:#000000;stroke-width:2.0px;stroke-linecap:butt;stroke-linejoin:miter;stroke-opacity:1\"/>\n",
       "<path class=\"bond-23 atom-22 atom-24\" d=\"M 181.3,81.2 L 163.4,71.6\" style=\"fill:none;fill-rule:evenodd;stroke:#000000;stroke-width:2.0px;stroke-linecap:butt;stroke-linejoin:miter;stroke-opacity:1\"/>\n",
       "<path class=\"bond-24 atom-24 atom-25\" d=\"M 163.4,71.6 L 146.2,82.2\" style=\"fill:none;fill-rule:evenodd;stroke:#000000;stroke-width:2.0px;stroke-linecap:butt;stroke-linejoin:miter;stroke-opacity:1\"/>\n",
       "<path class=\"bond-24 atom-24 atom-25\" d=\"M 163.5,75.1 L 147.8,84.8\" style=\"fill:none;fill-rule:evenodd;stroke:#000000;stroke-width:2.0px;stroke-linecap:butt;stroke-linejoin:miter;stroke-opacity:1\"/>\n",
       "<path class=\"bond-25 atom-25 atom-26\" d=\"M 146.2,82.2 L 128.3,72.5\" style=\"fill:none;fill-rule:evenodd;stroke:#000000;stroke-width:2.0px;stroke-linecap:butt;stroke-linejoin:miter;stroke-opacity:1\"/>\n",
       "<path class=\"bond-26 atom-26 atom-27\" d=\"M 128.3,72.5 L 111.1,83.1\" style=\"fill:none;fill-rule:evenodd;stroke:#000000;stroke-width:2.0px;stroke-linecap:butt;stroke-linejoin:miter;stroke-opacity:1\"/>\n",
       "<path class=\"bond-26 atom-26 atom-27\" d=\"M 128.4,76.0 L 114.1,84.8\" style=\"fill:none;fill-rule:evenodd;stroke:#000000;stroke-width:2.0px;stroke-linecap:butt;stroke-linejoin:miter;stroke-opacity:1\"/>\n",
       "<path class=\"bond-27 atom-27 atom-28\" d=\"M 111.1,83.1 L 111.6,103.4\" style=\"fill:none;fill-rule:evenodd;stroke:#000000;stroke-width:2.0px;stroke-linecap:butt;stroke-linejoin:miter;stroke-opacity:1\"/>\n",
       "<path class=\"bond-28 atom-27 atom-29\" d=\"M 111.1,83.1 L 93.2,73.4\" style=\"fill:none;fill-rule:evenodd;stroke:#000000;stroke-width:2.0px;stroke-linecap:butt;stroke-linejoin:miter;stroke-opacity:1\"/>\n",
       "<path class=\"bond-29 atom-29 atom-30\" d=\"M 93.2,73.4 L 76.0,84.0\" style=\"fill:none;fill-rule:evenodd;stroke:#000000;stroke-width:2.0px;stroke-linecap:butt;stroke-linejoin:miter;stroke-opacity:1\"/>\n",
       "<path class=\"bond-29 atom-29 atom-30\" d=\"M 93.3,77.0 L 77.6,86.6\" style=\"fill:none;fill-rule:evenodd;stroke:#000000;stroke-width:2.0px;stroke-linecap:butt;stroke-linejoin:miter;stroke-opacity:1\"/>\n",
       "<path class=\"bond-30 atom-30 atom-31\" d=\"M 76.0,84.0 L 58.1,74.4\" style=\"fill:none;fill-rule:evenodd;stroke:#000000;stroke-width:2.0px;stroke-linecap:butt;stroke-linejoin:miter;stroke-opacity:1\"/>\n",
       "<path class=\"bond-31 atom-31 atom-32\" d=\"M 58.1,74.4 L 57.6,54.1\" style=\"fill:none;fill-rule:evenodd;stroke:#000000;stroke-width:2.0px;stroke-linecap:butt;stroke-linejoin:miter;stroke-opacity:1\"/>\n",
       "<path class=\"bond-31 atom-31 atom-32\" d=\"M 55.1,72.7 L 54.6,55.9\" style=\"fill:none;fill-rule:evenodd;stroke:#000000;stroke-width:2.0px;stroke-linecap:butt;stroke-linejoin:miter;stroke-opacity:1\"/>\n",
       "<path class=\"bond-32 atom-32 atom-33\" d=\"M 57.6,54.1 L 74.9,43.5\" style=\"fill:none;fill-rule:evenodd;stroke:#000000;stroke-width:2.0px;stroke-linecap:butt;stroke-linejoin:miter;stroke-opacity:1\"/>\n",
       "<path class=\"bond-33 atom-32 atom-34\" d=\"M 57.6,54.1 L 39.8,44.4\" style=\"fill:none;fill-rule:evenodd;stroke:#000000;stroke-width:2.0px;stroke-linecap:butt;stroke-linejoin:miter;stroke-opacity:1\"/>\n",
       "<path class=\"bond-34 atom-34 atom-35\" d=\"M 39.8,44.4 L 22.5,55.0\" style=\"fill:none;fill-rule:evenodd;stroke:#000000;stroke-width:2.0px;stroke-linecap:butt;stroke-linejoin:miter;stroke-opacity:1\"/>\n",
       "<path class=\"bond-35 atom-35 atom-36\" d=\"M 22.5,55.0 L 23.0,75.3\" style=\"fill:none;fill-rule:evenodd;stroke:#000000;stroke-width:2.0px;stroke-linecap:butt;stroke-linejoin:miter;stroke-opacity:1\"/>\n",
       "<path class=\"bond-36 atom-36 atom-37\" d=\"M 23.0,75.3 L 40.9,85.0\" style=\"fill:none;fill-rule:evenodd;stroke:#000000;stroke-width:2.0px;stroke-linecap:butt;stroke-linejoin:miter;stroke-opacity:1\"/>\n",
       "<path class=\"bond-37 atom-37 atom-38\" d=\"M 40.9,85.0 L 54.3,100.2\" style=\"fill:none;fill-rule:evenodd;stroke:#000000;stroke-width:2.0px;stroke-linecap:butt;stroke-linejoin:miter;stroke-opacity:1\"/>\n",
       "<path class=\"bond-38 atom-37 atom-39\" d=\"M 40.9,85.0 L 28.2,100.8\" style=\"fill:none;fill-rule:evenodd;stroke:#000000;stroke-width:2.0px;stroke-linecap:butt;stroke-linejoin:miter;stroke-opacity:1\"/>\n",
       "<path class=\"bond-39 atom-10 atom-4\" d=\"M 409.1,65.0 L 391.9,75.6\" style=\"fill:none;fill-rule:evenodd;stroke:#000000;stroke-width:2.0px;stroke-linecap:butt;stroke-linejoin:miter;stroke-opacity:1\"/>\n",
       "<path class=\"bond-40 atom-37 atom-31\" d=\"M 40.9,85.0 L 58.1,74.4\" style=\"fill:none;fill-rule:evenodd;stroke:#000000;stroke-width:2.0px;stroke-linecap:butt;stroke-linejoin:miter;stroke-opacity:1\"/>\n",
       "<path d=\"M 355.9,76.1 L 356.8,76.6 L 357.6,76.0\" style=\"fill:none;stroke:#000000;stroke-width:2.0px;stroke-linecap:butt;stroke-linejoin:miter;stroke-opacity:1;\"/>\n",
       "<path d=\"M 373.2,66.5 L 374.0,66.0 L 374.9,66.4\" style=\"fill:none;stroke:#000000;stroke-width:2.0px;stroke-linecap:butt;stroke-linejoin:miter;stroke-opacity:1;\"/>\n",
       "<path d=\"M 409.3,105.1 L 410.2,105.6 L 411.1,105.0\" style=\"fill:none;stroke:#000000;stroke-width:2.0px;stroke-linecap:butt;stroke-linejoin:miter;stroke-opacity:1;\"/>\n",
       "<path d=\"M 426.6,95.5 L 427.5,95.0 L 427.5,93.9\" style=\"fill:none;stroke:#000000;stroke-width:2.0px;stroke-linecap:butt;stroke-linejoin:miter;stroke-opacity:1;\"/>\n",
       "<path d=\"M 427.0,75.7 L 427.0,74.7 L 426.1,74.2\" style=\"fill:none;stroke:#000000;stroke-width:2.0px;stroke-linecap:butt;stroke-linejoin:miter;stroke-opacity:1;\"/>\n",
       "<path d=\"M 322.5,77.0 L 321.7,77.5 L 320.8,77.0\" style=\"fill:none;stroke:#000000;stroke-width:2.0px;stroke-linecap:butt;stroke-linejoin:miter;stroke-opacity:1;\"/>\n",
       "<path d=\"M 304.7,68.3 L 303.8,67.8 L 303.0,68.4\" style=\"fill:none;stroke:#000000;stroke-width:2.0px;stroke-linecap:butt;stroke-linejoin:miter;stroke-opacity:1;\"/>\n",
       "<path d=\"M 287.4,77.9 L 286.6,78.4 L 285.7,77.9\" style=\"fill:none;stroke:#000000;stroke-width:2.0px;stroke-linecap:butt;stroke-linejoin:miter;stroke-opacity:1;\"/>\n",
       "<path d=\"M 252.3,78.8 L 251.5,79.4 L 250.6,78.9\" style=\"fill:none;stroke:#000000;stroke-width:2.0px;stroke-linecap:butt;stroke-linejoin:miter;stroke-opacity:1;\"/>\n",
       "<path d=\"M 234.5,70.2 L 233.6,69.7 L 232.8,70.2\" style=\"fill:none;stroke:#000000;stroke-width:2.0px;stroke-linecap:butt;stroke-linejoin:miter;stroke-opacity:1;\"/>\n",
       "<path d=\"M 217.2,79.8 L 216.4,80.3 L 215.5,79.8\" style=\"fill:none;stroke:#000000;stroke-width:2.0px;stroke-linecap:butt;stroke-linejoin:miter;stroke-opacity:1;\"/>\n",
       "<path d=\"M 199.4,71.1 L 198.5,70.6 L 197.7,71.2\" style=\"fill:none;stroke:#000000;stroke-width:2.0px;stroke-linecap:butt;stroke-linejoin:miter;stroke-opacity:1;\"/>\n",
       "<path d=\"M 164.3,72.1 L 163.4,71.6 L 162.6,72.1\" style=\"fill:none;stroke:#000000;stroke-width:2.0px;stroke-linecap:butt;stroke-linejoin:miter;stroke-opacity:1;\"/>\n",
       "<path d=\"M 147.0,81.6 L 146.2,82.2 L 145.3,81.7\" style=\"fill:none;stroke:#000000;stroke-width:2.0px;stroke-linecap:butt;stroke-linejoin:miter;stroke-opacity:1;\"/>\n",
       "<path d=\"M 129.2,73.0 L 128.3,72.5 L 127.5,73.0\" style=\"fill:none;stroke:#000000;stroke-width:2.0px;stroke-linecap:butt;stroke-linejoin:miter;stroke-opacity:1;\"/>\n",
       "<path d=\"M 94.1,73.9 L 93.2,73.4 L 92.4,74.0\" style=\"fill:none;stroke:#000000;stroke-width:2.0px;stroke-linecap:butt;stroke-linejoin:miter;stroke-opacity:1;\"/>\n",
       "<path d=\"M 76.8,83.5 L 76.0,84.0 L 75.1,83.6\" style=\"fill:none;stroke:#000000;stroke-width:2.0px;stroke-linecap:butt;stroke-linejoin:miter;stroke-opacity:1;\"/>\n",
       "<path d=\"M 40.7,44.9 L 39.8,44.4 L 38.9,45.0\" style=\"fill:none;stroke:#000000;stroke-width:2.0px;stroke-linecap:butt;stroke-linejoin:miter;stroke-opacity:1;\"/>\n",
       "<path d=\"M 23.4,54.5 L 22.5,55.0 L 22.5,56.1\" style=\"fill:none;stroke:#000000;stroke-width:2.0px;stroke-linecap:butt;stroke-linejoin:miter;stroke-opacity:1;\"/>\n",
       "<path d=\"M 23.0,74.3 L 23.0,75.3 L 23.9,75.8\" style=\"fill:none;stroke:#000000;stroke-width:2.0px;stroke-linecap:butt;stroke-linejoin:miter;stroke-opacity:1;\"/>\n",
       "</svg>"
      ],
      "text/plain": [
       "<IPython.core.display.SVG object>"
      ]
     },
     "metadata": {},
     "output_type": "display_data"
    }
   ],
   "source": [
    "b_carotene = Estimate(\"beta-carotene\",\n",
    "         smiles=\"CC(/C=C/C1=C(C)CCCC1(C)C)=C\\C=C\\C(C)=C\\C=C\\C=C(C)\\C=C\\C=C(C)\\C=C\\C2=C(C)CCCC2(C)C\",\n",
    "         group_data=\"group_contribution_data_rings.csv\", save=True).OBIGT"
   ]
  },
  {
   "cell_type": "code",
   "execution_count": null,
   "id": "28e40704-ba48-4f86-b341-445f25e9c032",
   "metadata": {},
   "outputs": [],
   "source": []
  },
  {
   "cell_type": "code",
   "execution_count": 3,
   "id": "71bb1f11-5d70-4348-8aef-3173a6de06c5",
   "metadata": {},
   "outputs": [
    {
     "data": {
      "image/svg+xml": [
       "<svg xmlns=\"http://www.w3.org/2000/svg\" xmlns:rdkit=\"http://www.rdkit.org/xml\" xmlns:xlink=\"http://www.w3.org/1999/xlink\" version=\"1.1\" baseProfile=\"full\" xml:space=\"preserve\" width=\"450px\" height=\"150px\" viewBox=\"0 0 450 150\">\n",
       "<!-- END OF HEADER -->\n",
       "<rect style=\"opacity:1.0;fill:#FFFFFF;stroke:none\" width=\"450.0\" height=\"150.0\" x=\"0.0\" y=\"0.0\"> </rect>\n",
       "<path class=\"bond-0 atom-0 atom-1\" d=\"M 292.5,75.0 L 272.7,122.7\" style=\"fill:none;fill-rule:evenodd;stroke:#000000;stroke-width:2.0px;stroke-linecap:butt;stroke-linejoin:miter;stroke-opacity:1\"/>\n",
       "<path class=\"bond-1 atom-1 atom-2\" d=\"M 272.7,122.7 L 225.0,142.5\" style=\"fill:none;fill-rule:evenodd;stroke:#000000;stroke-width:2.0px;stroke-linecap:butt;stroke-linejoin:miter;stroke-opacity:1\"/>\n",
       "<path class=\"bond-2 atom-2 atom-3\" d=\"M 225.0,142.5 L 177.3,122.7\" style=\"fill:none;fill-rule:evenodd;stroke:#000000;stroke-width:2.0px;stroke-linecap:butt;stroke-linejoin:miter;stroke-opacity:1\"/>\n",
       "<path class=\"bond-3 atom-3 atom-4\" d=\"M 177.3,122.7 L 157.5,75.0\" style=\"fill:none;fill-rule:evenodd;stroke:#000000;stroke-width:2.0px;stroke-linecap:butt;stroke-linejoin:miter;stroke-opacity:1\"/>\n",
       "<path class=\"bond-4 atom-4 atom-5\" d=\"M 157.5,75.0 L 177.3,27.3\" style=\"fill:none;fill-rule:evenodd;stroke:#000000;stroke-width:2.0px;stroke-linecap:butt;stroke-linejoin:miter;stroke-opacity:1\"/>\n",
       "<path class=\"bond-5 atom-5 atom-6\" d=\"M 177.3,27.3 L 225.0,7.5\" style=\"fill:none;fill-rule:evenodd;stroke:#000000;stroke-width:2.0px;stroke-linecap:butt;stroke-linejoin:miter;stroke-opacity:1\"/>\n",
       "<path class=\"bond-6 atom-6 atom-7\" d=\"M 225.0,7.5 L 272.7,27.3\" style=\"fill:none;fill-rule:evenodd;stroke:#000000;stroke-width:2.0px;stroke-linecap:butt;stroke-linejoin:miter;stroke-opacity:1\"/>\n",
       "<path class=\"bond-7 atom-7 atom-0\" d=\"M 272.7,27.3 L 292.5,75.0\" style=\"fill:none;fill-rule:evenodd;stroke:#000000;stroke-width:2.0px;stroke-linecap:butt;stroke-linejoin:miter;stroke-opacity:1\"/>\n",
       "<path d=\"M 291.5,77.4 L 292.5,75.0 L 291.5,72.6\" style=\"fill:none;stroke:#000000;stroke-width:2.0px;stroke-linecap:butt;stroke-linejoin:miter;stroke-opacity:1;\"/>\n",
       "<path d=\"M 273.7,120.3 L 272.7,122.7 L 270.3,123.7\" style=\"fill:none;stroke:#000000;stroke-width:2.0px;stroke-linecap:butt;stroke-linejoin:miter;stroke-opacity:1;\"/>\n",
       "<path d=\"M 227.4,141.5 L 225.0,142.5 L 222.6,141.5\" style=\"fill:none;stroke:#000000;stroke-width:2.0px;stroke-linecap:butt;stroke-linejoin:miter;stroke-opacity:1;\"/>\n",
       "<path d=\"M 179.7,123.7 L 177.3,122.7 L 176.3,120.3\" style=\"fill:none;stroke:#000000;stroke-width:2.0px;stroke-linecap:butt;stroke-linejoin:miter;stroke-opacity:1;\"/>\n",
       "<path d=\"M 158.5,77.4 L 157.5,75.0 L 158.5,72.6\" style=\"fill:none;stroke:#000000;stroke-width:2.0px;stroke-linecap:butt;stroke-linejoin:miter;stroke-opacity:1;\"/>\n",
       "<path d=\"M 176.3,29.7 L 177.3,27.3 L 179.7,26.3\" style=\"fill:none;stroke:#000000;stroke-width:2.0px;stroke-linecap:butt;stroke-linejoin:miter;stroke-opacity:1;\"/>\n",
       "<path d=\"M 222.6,8.5 L 225.0,7.5 L 227.4,8.5\" style=\"fill:none;stroke:#000000;stroke-width:2.0px;stroke-linecap:butt;stroke-linejoin:miter;stroke-opacity:1;\"/>\n",
       "<path d=\"M 270.3,26.3 L 272.7,27.3 L 273.7,29.7\" style=\"fill:none;stroke:#000000;stroke-width:2.0px;stroke-linecap:butt;stroke-linejoin:miter;stroke-opacity:1;\"/>\n",
       "</svg>"
      ],
      "text/plain": [
       "<IPython.core.display.SVG object>"
      ]
     },
     "metadata": {},
     "output_type": "display_data"
    },
    {
     "data": {
      "text/html": [
       "<div>\n",
       "<style scoped>\n",
       "    .dataframe tbody tr th:only-of-type {\n",
       "        vertical-align: middle;\n",
       "    }\n",
       "\n",
       "    .dataframe tbody tr th {\n",
       "        vertical-align: top;\n",
       "    }\n",
       "\n",
       "    .dataframe thead th {\n",
       "        text-align: right;\n",
       "    }\n",
       "</style>\n",
       "<table border=\"1\" class=\"dataframe\">\n",
       "  <thead>\n",
       "    <tr style=\"text-align: right;\">\n",
       "      <th></th>\n",
       "      <th>name</th>\n",
       "      <th>abbrv</th>\n",
       "      <th>formula</th>\n",
       "      <th>state</th>\n",
       "      <th>ref1</th>\n",
       "      <th>ref2</th>\n",
       "      <th>date</th>\n",
       "      <th>E_units</th>\n",
       "      <th>G</th>\n",
       "      <th>H</th>\n",
       "      <th>...</th>\n",
       "      <th>Cp</th>\n",
       "      <th>V</th>\n",
       "      <th>a1.a</th>\n",
       "      <th>a2.b</th>\n",
       "      <th>a3.c</th>\n",
       "      <th>a4.d</th>\n",
       "      <th>c1.e</th>\n",
       "      <th>c2.f</th>\n",
       "      <th>omega.lambda</th>\n",
       "      <th>z.T</th>\n",
       "    </tr>\n",
       "  </thead>\n",
       "  <tbody>\n",
       "    <tr>\n",
       "      <th>0</th>\n",
       "      <td>cyclooctane</td>\n",
       "      <td>C8H16</td>\n",
       "      <td>C8H16</td>\n",
       "      <td>aq</td>\n",
       "      <td>AqOrg</td>\n",
       "      <td>GrpAdd</td>\n",
       "      <td>18/03/2025 16:35:32</td>\n",
       "      <td>J</td>\n",
       "      <td>37830.0</td>\n",
       "      <td>-176560.0</td>\n",
       "      <td>...</td>\n",
       "      <td>637.334294</td>\n",
       "      <td>126.0</td>\n",
       "      <td>100.185294</td>\n",
       "      <td>89.763143</td>\n",
       "      <td>147.471963</td>\n",
       "      <td>-55.930895</td>\n",
       "      <td>556.119592</td>\n",
       "      <td>32.76811</td>\n",
       "      <td>-1.587643</td>\n",
       "      <td>0</td>\n",
       "    </tr>\n",
       "  </tbody>\n",
       "</table>\n",
       "<p>1 rows × 21 columns</p>\n",
       "</div>"
      ],
      "text/plain": [
       "          name  abbrv formula state   ref1    ref2                 date  \\\n",
       "0  cyclooctane  C8H16   C8H16    aq  AqOrg  GrpAdd  18/03/2025 16:35:32   \n",
       "\n",
       "  E_units        G         H  ...          Cp      V        a1.a       a2.b  \\\n",
       "0       J  37830.0 -176560.0  ...  637.334294  126.0  100.185294  89.763143   \n",
       "\n",
       "         a3.c       a4.d        c1.e      c2.f  omega.lambda  z.T  \n",
       "0  147.471963 -55.930895  556.119592  32.76811     -1.587643    0  \n",
       "\n",
       "[1 rows x 21 columns]"
      ]
     },
     "execution_count": 3,
     "metadata": {},
     "output_type": "execute_result"
    }
   ],
   "source": [
    "Estimate(\"cyclooctane\", group_data=\"group_contribution_data_rings.csv\", save=True).OBIGT"
   ]
  },
  {
   "cell_type": "code",
   "execution_count": null,
   "id": "880b6cfe-a005-4122-8103-9dece453e6e1",
   "metadata": {},
   "outputs": [],
   "source": [
    "Estimate(\"cyclooctane\", group_data=\"group_contribution_data_rings.csv\", test=True)"
   ]
  },
  {
   "cell_type": "code",
   "execution_count": null,
   "id": "bedfc44c-03f8-43b8-8665-7fe2e5ed85e9",
   "metadata": {},
   "outputs": [],
   "source": [
    "Estimate(\"decalin\", group_data=\"group_contribution_data_rings.csv\", test=True)"
   ]
  },
  {
   "cell_type": "code",
   "execution_count": null,
   "id": "302050fa-70ff-46e5-a5ae-5f778e9b4737",
   "metadata": {},
   "outputs": [],
   "source": [
    "Estimate(\"1-ethyl-2,4-dimethylcyclohexane\", group_data=\"group_contribution_data_rings.csv\", test=True)"
   ]
  },
  {
   "cell_type": "code",
   "execution_count": null,
   "id": "8be33f41-7834-4cf6-bab1-a37ebda429da",
   "metadata": {},
   "outputs": [],
   "source": [
    "Estimate(\"hexane\", group_data=\"group_contribution_data_rings.csv\", test=True)"
   ]
  },
  {
   "cell_type": "code",
   "execution_count": null,
   "id": "74cf526c-4845-4396-ba35-52a62628b25f",
   "metadata": {},
   "outputs": [],
   "source": [
    "Estimate(\"bacteriohopanetetrol\", group_data=\"group_contribution_data_rings.csv\", test=True)"
   ]
  },
  {
   "cell_type": "code",
   "execution_count": null,
   "id": "f10ab02a-43ed-47b4-94b5-ce0868ccd38d",
   "metadata": {},
   "outputs": [],
   "source": [
    "Estimate(\"bacteriohopanetetrol\", group_data=\"group_contribution_data_rings.csv\").OBIGT"
   ]
  },
  {
   "cell_type": "code",
   "execution_count": null,
   "id": "49fc0763-9243-4f94-8aa4-dedb086c8ca6",
   "metadata": {},
   "outputs": [],
   "source": [
    "Estimate(\"brassicasterol\", group_data=\"group_contribution_data_rings.csv\").OBIGT"
   ]
  },
  {
   "cell_type": "code",
   "execution_count": null,
   "id": "1c4cde20-1a15-471e-89b2-e9ee6d27960e",
   "metadata": {},
   "outputs": [],
   "source": [
    "Estimate(\"beta-carotene\", group_data=\"group_contribution_data_rings.csv\").OBIGT"
   ]
  },
  {
   "cell_type": "code",
   "execution_count": null,
   "id": "816f2eb1-8a33-457e-808e-42469d5152cc",
   "metadata": {},
   "outputs": [],
   "source": [
    "Estimate(\"carotane\", group_data=\"group_contribution_data_rings.csv\").OBIGT"
   ]
  },
  {
   "cell_type": "code",
   "execution_count": null,
   "id": "b30bb841-6f60-464a-aec9-4be23fefb253",
   "metadata": {},
   "outputs": [],
   "source": [
    "b_carotene = Estimate(\"beta-carotene\",\n",
    "         smiles=\"CC(/C=C/C1=C(C)CCCC1(C)C)=C\\C=C\\C(C)=C\\C=C\\C=C(C)\\C=C\\C=C(C)\\C=C\\C2=C(C)CCCC2(C)C\",\n",
    "         group_data=\"group_contribution_data_rings.csv\").OBIGT"
   ]
  },
  {
   "cell_type": "code",
   "execution_count": null,
   "id": "79b9fa86-0bc5-4f66-812a-1ec850f5c79c",
   "metadata": {},
   "outputs": [],
   "source": [
    "b_carotane = Estimate(\"beta-carotane\",\n",
    "         smiles=\"CC(CCC1=C(C)CCCC1(C)C)CCCC(C)CCCCC(C)CCCC(C)CCC2=C(C)CCCC2(C)C\",\n",
    "         group_data=\"group_contribution_data_rings.csv\").OBIGT"
   ]
  },
  {
   "cell_type": "code",
   "execution_count": null,
   "id": "c32ef28b-7b79-4d56-b36c-27f1041a7bc2",
   "metadata": {},
   "outputs": [],
   "source": [
    "carotane = Estimate(\"carotane\",\n",
    "         smiles=\"CC(CCC1C(C)CCCC1(C)C)CCCC(C)CCCCC(C)CCCC(C)CCC2C(C)CCCC2(C)C\",\n",
    "         group_data=\"group_contribution_data_rings.csv\").OBIGT"
   ]
  },
  {
   "cell_type": "code",
   "execution_count": null,
   "id": "efa89d49-babf-470f-b723-3ed7f2689560",
   "metadata": {},
   "outputs": [],
   "source": []
  },
  {
   "cell_type": "code",
   "execution_count": null,
   "id": "63d5d44b-f64c-4ea1-ab3a-41aecbbce5a4",
   "metadata": {},
   "outputs": [],
   "source": []
  },
  {
   "cell_type": "code",
   "execution_count": null,
   "id": "65c8ef94-f932-4b0f-9bd9-a80d62083327",
   "metadata": {},
   "outputs": [],
   "source": []
  },
  {
   "cell_type": "code",
   "execution_count": null,
   "id": "2d6f4213-c4fe-49f9-ba97-ae88a0940673",
   "metadata": {},
   "outputs": [],
   "source": [
    "Estimate(\"archaeol\").OBIGT"
   ]
  },
  {
   "cell_type": "code",
   "execution_count": null,
   "id": "b7f097a7-dd45-46c6-ad9b-f58aab777fc0",
   "metadata": {},
   "outputs": [],
   "source": [
    "Estimate(\"tetraunsaturated PMI\", smiles=\"C/C(C)=C/CC/C(C)=C/CC/C(C)=C/CCCC(C)CC/C=C(C)/C\", name_type=\"SMILES\").OBIGT"
   ]
  },
  {
   "cell_type": "code",
   "execution_count": null,
   "id": "b1963294-19b8-403a-9844-42c13acb4af4",
   "metadata": {},
   "outputs": [],
   "source": [
    "Estimate(\"crocetene\", smiles=\"C/C(C)=C/CCC(CCCCC(CCCC(C)C)C)C\").OBIGT"
   ]
  },
  {
   "cell_type": "code",
   "execution_count": null,
   "id": "feae5061-052f-42e4-b098-56643bbd7eaf",
   "metadata": {},
   "outputs": [],
   "source": [
    "Estimate(\"crocetane\").OBIGT"
   ]
  },
  {
   "cell_type": "code",
   "execution_count": null,
   "id": "2f3e7354-4e23-420a-af33-886199506f4d",
   "metadata": {},
   "outputs": [],
   "source": [
    "from rdkit import Chem\n",
    "from rdkit.Chem.rdMolDescriptors import CalcMolFormula\n",
    "\n",
    "# e.g. cysteine\n",
    "mol = Chem.MolFromSmiles(\"C[NH+](C)CCC1=CNC2=C1C(=CC=C2)OP(=O)([O-])[O-]\")\n",
    "formula = CalcMolFormula(mol)\n",
    "\n",
    "mol"
   ]
  },
  {
   "cell_type": "code",
   "execution_count": null,
   "id": "8d59f6a4-5120-4888-bd4c-378e8c074759",
   "metadata": {},
   "outputs": [],
   "source": []
  }
 ],
 "metadata": {
  "kernelspec": {
   "display_name": "Python 3",
   "language": "python",
   "name": "python3"
  },
  "language_info": {
   "codemirror_mode": {
    "name": "ipython",
    "version": 3
   },
   "file_extension": ".py",
   "mimetype": "text/x-python",
   "name": "python",
   "nbconvert_exporter": "python",
   "pygments_lexer": "ipython3",
   "version": "3.10.12"
  }
 },
 "nbformat": 4,
 "nbformat_minor": 5
}
