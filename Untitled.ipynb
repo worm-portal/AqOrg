{
 "cells": [
  {
   "cell_type": "code",
   "execution_count": 2,
   "metadata": {},
   "outputs": [],
   "source": [
    "import AqOrg"
   ]
  },
  {
   "cell_type": "code",
   "execution_count": 3,
   "metadata": {},
   "outputs": [
    {
     "data": {
      "image/svg+xml": [
       "<svg xmlns=\"http://www.w3.org/2000/svg\" xmlns:rdkit=\"http://www.rdkit.org/xml\" xmlns:xlink=\"http://www.w3.org/1999/xlink\" version=\"1.1\" baseProfile=\"full\" xml:space=\"preserve\" width=\"450px\" height=\"150px\" viewBox=\"0 0 450 150\">\n",
       "<!-- END OF HEADER -->\n",
       "<rect style=\"opacity:1.0;fill:#FFFFFF;stroke:none\" width=\"450\" height=\"150\" x=\"0\" y=\"0\"> </rect>\n",
       "<path class=\"bond-0 atom-0 atom-1\" d=\"M 429.545,79.9256 L 382.178,109.96\" style=\"fill:none;fill-rule:evenodd;stroke:#000000;stroke-width:2.0px;stroke-linecap:butt;stroke-linejoin:miter;stroke-opacity:1\"/>\n",
       "<path class=\"bond-1 atom-1 atom-2\" d=\"M 382.178,109.96 L 332.483,83.9563\" style=\"fill:none;fill-rule:evenodd;stroke:#000000;stroke-width:2.0px;stroke-linecap:butt;stroke-linejoin:miter;stroke-opacity:1\"/>\n",
       "<path class=\"bond-2 atom-2 atom-3\" d=\"M 332.483,83.9563 L 285.116,113.991\" style=\"fill:none;fill-rule:evenodd;stroke:#000000;stroke-width:2.0px;stroke-linecap:butt;stroke-linejoin:miter;stroke-opacity:1\"/>\n",
       "<path class=\"bond-3 atom-3 atom-4\" d=\"M 285.116,113.991 L 235.421,87.9871\" style=\"fill:none;fill-rule:evenodd;stroke:#000000;stroke-width:2.0px;stroke-linecap:butt;stroke-linejoin:miter;stroke-opacity:1\"/>\n",
       "<path class=\"bond-4 atom-4 atom-5\" d=\"M 235.421,87.9871 L 188.053,118.022\" style=\"fill:none;fill-rule:evenodd;stroke:#000000;stroke-width:2.0px;stroke-linecap:butt;stroke-linejoin:miter;stroke-opacity:1\"/>\n",
       "<path class=\"bond-5 atom-5 atom-6\" d=\"M 188.053,118.022 L 138.359,92.0179\" style=\"fill:none;fill-rule:evenodd;stroke:#000000;stroke-width:2.0px;stroke-linecap:butt;stroke-linejoin:miter;stroke-opacity:1\"/>\n",
       "<path class=\"bond-6 atom-6 atom-7\" d=\"M 138.359,92.0179 L 90.9912,122.053\" style=\"fill:none;fill-rule:evenodd;stroke:#000000;stroke-width:2.0px;stroke-linecap:butt;stroke-linejoin:miter;stroke-opacity:1\"/>\n",
       "<path class=\"bond-8 atom-6 atom-9\" d=\"M 138.359,92.0179 L 137.396,68.8388\" style=\"fill:none;fill-rule:evenodd;stroke:#000000;stroke-width:2.0px;stroke-linecap:butt;stroke-linejoin:miter;stroke-opacity:1\"/>\n",
       "<path class=\"bond-8 atom-6 atom-9\" d=\"M 137.396,68.8388 L 136.434,45.6596\" style=\"fill:none;fill-rule:evenodd;stroke:#FF0000;stroke-width:2.0px;stroke-linecap:butt;stroke-linejoin:miter;stroke-opacity:1\"/>\n",
       "<path class=\"bond-7 atom-7 atom-8\" d=\"M 90.9912,122.053 L 70.4907,111.325\" style=\"fill:none;fill-rule:evenodd;stroke:#000000;stroke-width:2.0px;stroke-linecap:butt;stroke-linejoin:miter;stroke-opacity:1\"/>\n",
       "<path class=\"bond-7 atom-7 atom-8\" d=\"M 70.4907,111.325 L 49.9901,100.598\" style=\"fill:none;fill-rule:evenodd;stroke:#FF0000;stroke-width:2.0px;stroke-linecap:butt;stroke-linejoin:miter;stroke-opacity:1\"/>\n",
       "<path class=\"atom-8\" d=\"M 20.4545 88.1964 L 22.6083 88.1964 L 22.6083 94.9493 L 30.7297 94.9493 L 30.7297 88.1964 L 32.8835 88.1964 L 32.8835 104.08 L 30.7297 104.08 L 30.7297 96.7441 L 22.6083 96.7441 L 22.6083 104.08 L 20.4545 104.08 L 20.4545 88.1964 \" fill=\"#FF0000\"/>\n",
       "<path class=\"atom-8\" d=\"M 34.0052 96.0935 Q 34.0052 92.2796, 35.8897 90.1483 Q 37.7743 88.017, 41.2965 88.017 Q 44.8188 88.017, 46.7034 90.1483 Q 48.5879 92.2796, 48.5879 96.0935 Q 48.5879 99.9523, 46.6809 102.151 Q 44.774 104.327, 41.2965 104.327 Q 37.7967 104.327, 35.8897 102.151 Q 34.0052 99.9748, 34.0052 96.0935 M 41.2965 102.532 Q 43.7195 102.532, 45.0207 100.917 Q 46.3444 99.2793, 46.3444 96.0935 Q 46.3444 92.9751, 45.0207 91.4046 Q 43.7195 89.8118, 41.2965 89.8118 Q 38.8736 89.8118, 37.5499 91.3822 Q 36.2487 92.9526, 36.2487 96.0935 Q 36.2487 99.3017, 37.5499 100.917 Q 38.8736 102.532, 41.2965 102.532 \" fill=\"#FF0000\"/>\n",
       "<path class=\"atom-9\" d=\"M 128.74 36.0238 Q 128.74 32.2099, 130.625 30.0786 Q 132.509 27.9473, 136.032 27.9473 Q 139.554 27.9473, 141.438 30.0786 Q 143.323 32.2099, 143.323 36.0238 Q 143.323 39.8826, 141.416 42.0813 Q 139.509 44.2574, 136.032 44.2574 Q 132.532 44.2574, 130.625 42.0813 Q 128.74 39.9051, 128.74 36.0238 M 136.032 42.4627 Q 138.455 42.4627, 139.756 40.8473 Q 141.079 39.2096, 141.079 36.0238 Q 141.079 32.9054, 139.756 31.335 Q 138.455 29.7421, 136.032 29.7421 Q 133.609 29.7421, 132.285 31.3125 Q 130.984 32.883, 130.984 36.0238 Q 130.984 39.232, 132.285 40.8473 Q 133.609 42.4627, 136.032 42.4627 \" fill=\"#FF0000\"/>\n",
       "<path class=\"atom-9\" d=\"M 145.23 28.1268 L 147.384 28.1268 L 147.384 34.8797 L 155.505 34.8797 L 155.505 28.1268 L 157.659 28.1268 L 157.659 44.0107 L 155.505 44.0107 L 155.505 36.6745 L 147.384 36.6745 L 147.384 44.0107 L 145.23 44.0107 L 145.23 28.1268 \" fill=\"#FF0000\"/>\n",
       "</svg>"
      ],
      "text/plain": [
       "<IPython.core.display.SVG object>"
      ]
     },
     "metadata": {},
     "output_type": "display_data"
    },
    {
     "name": "stdout",
     "output_type": "stream",
     "text": [
      "{'[C!H3]-[CX4H3R0]': 1, 'C-[CX4H2R0]-C': 5, 'O-[CX4H2]-C': 1, 'C-[CX4H1](-C)[OH]': 1, 'C-[OX2H]': 2, 'formula': 'C8H18O2'}\n"
     ]
    },
    {
     "data": {
      "text/plain": [
       "<AqOrg.AqOrg.Estimate at 0x7f28920e35b0>"
      ]
     },
     "execution_count": 3,
     "metadata": {},
     "output_type": "execute_result"
    }
   ],
   "source": [
    "AqOrg.Estimate(name=\"1,2-octanediol\", test=True)"
   ]
  },
  {
   "cell_type": "code",
   "execution_count": null,
   "metadata": {},
   "outputs": [],
   "source": []
  }
 ],
 "metadata": {
  "kernelspec": {
   "display_name": "Python 3",
   "language": "python",
   "name": "python3"
  },
  "language_info": {
   "codemirror_mode": {
    "name": "ipython",
    "version": 3
   },
   "file_extension": ".py",
   "mimetype": "text/x-python",
   "name": "python",
   "nbconvert_exporter": "python",
   "pygments_lexer": "ipython3",
   "version": "3.8.0"
  }
 },
 "nbformat": 4,
 "nbformat_minor": 4
}
